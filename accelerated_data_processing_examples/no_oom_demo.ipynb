{
 "cells": [
  {
   "cell_type": "markdown",
   "metadata": {},
   "source": [
    "# Processing of large datasets (near GPU Memory size) with cuDF pandas Accelerator Mode  \n",
    "<a href=\"https://github.com/rapidsai/cudf\">cuDF</a> is a Python GPU DataFrame library (built on the Apache Arrow columnar memory format) for loading, joining, aggregating, filtering, and otherwise manipulating tabular data using a DataFrame style API in the style of pandas.\n",
    "\n",
    "cuDF now provides a <a href=\"https://rapids.ai/cudf-pandas/\">pandas accelerator mode</a> (`cudf.pandas`), allowing you to bring accelerated computing to your pandas workflows without requiring any code change.\n",
    "\n",
    "This notebook demonstrates how the memory management automation added to `cudf.pandas`accelerates processing of much larger datasets. Now, `cudf.pandas` uses a managed memory pool by default which allows cudf.pandas to process datasets larger than the memory of the GPU it is running on. Managed memory prefetching is also enabled by default to improve memory access performance. For more information on CUDA Unified Memory (managed memory), performance, and prefetching, see this <a href=\"https://developer.nvidia.com/blog/improving-gpu-memory-oversubscription-performance/\">NVIDIA Developer blog post</a>"
   ]
  },
  {
   "cell_type": "markdown",
   "metadata": {},
   "source": [
    "# ⚠️ Verify your setup\n",
    "\n",
    "First, we'll verify that you are running with an NVIDIA GPU."
   ]
  },
  {
   "cell_type": "code",
   "execution_count": 1,
   "metadata": {},
   "outputs": [
    {
     "name": "stdout",
     "output_type": "stream",
     "text": [
      "Tue Aug  6 20:59:30 2024       \n",
      "+---------------------------------------------------------------------------------------+\n",
      "| NVIDIA-SMI 535.161.08             Driver Version: 535.161.08   CUDA Version: 12.2     |\n",
      "|-----------------------------------------+----------------------+----------------------+\n",
      "| GPU  Name                 Persistence-M | Bus-Id        Disp.A | Volatile Uncorr. ECC |\n",
      "| Fan  Temp   Perf          Pwr:Usage/Cap |         Memory-Usage | GPU-Util  Compute M. |\n",
      "|                                         |                      |               MIG M. |\n",
      "|=========================================+======================+======================|\n",
      "|   0  Tesla T4                       On  | 00000000:3B:00.0 Off |                    0 |\n",
      "| N/A   32C    P8              10W /  70W |      2MiB / 15360MiB |      0%      Default |\n",
      "|                                         |                      |                  N/A |\n",
      "+-----------------------------------------+----------------------+----------------------+\n",
      "|   1  Tesla T4                       On  | 00000000:5E:00.0 Off |                    0 |\n",
      "| N/A   59C    P8              11W /  70W |      2MiB / 15360MiB |      0%      Default |\n",
      "|                                         |                      |                  N/A |\n",
      "+-----------------------------------------+----------------------+----------------------+\n",
      "|   2  Tesla T4                       On  | 00000000:AF:00.0 Off |                    0 |\n",
      "| N/A   31C    P8               9W /  70W |      2MiB / 15360MiB |      0%      Default |\n",
      "|                                         |                      |                  N/A |\n",
      "+-----------------------------------------+----------------------+----------------------+\n",
      "|   3  Tesla T4                       On  | 00000000:D8:00.0 Off |                    0 |\n",
      "| N/A   30C    P8               9W /  70W |      2MiB / 15360MiB |      0%      Default |\n",
      "|                                         |                      |                  N/A |\n",
      "+-----------------------------------------+----------------------+----------------------+\n",
      "                                                                                         \n",
      "+---------------------------------------------------------------------------------------+\n",
      "| Processes:                                                                            |\n",
      "|  GPU   GI   CI        PID   Type   Process name                            GPU Memory |\n",
      "|        ID   ID                                                             Usage      |\n",
      "|=======================================================================================|\n",
      "|  No running processes found                                                           |\n",
      "+---------------------------------------------------------------------------------------+\n"
     ]
    }
   ],
   "source": [
    "!nvidia-smi"
   ]
  },
  {
   "cell_type": "markdown",
   "metadata": {},
   "source": [
    "# Download the data"
   ]
  },
  {
   "cell_type": "markdown",
   "metadata": {},
   "source": [
    "The data we will be working with lists approximately 90 million transactions with relatively higher illicit (HI) activity.\n",
    "\n",
    "We're downloading a curated copy of this Kaggle dataset [https://www.kaggle.com/datasets/ealtman2019/ibm-transactions-for-anti-money-laundering-aml?select=HI-Large_Trans.csv] from a GCP bucket hosted by NVIDIA to provide faster download speeds. We'll start by downloading the data. This should take about 30 seconds.\n",
    "\n",
    "**Data License and Terms** <br>\n",
    "As this dataset originates from a Kaggle dataset, it's governed by that dataset's license and terms of use, which is the Open Data Commons license. Review here: https://opendatacommons.org/licenses/by/1-0/index.html . For each dataset an user elects to use, the user is responsible for checking if the dataset license is fit for the intended purpose.\n",
    "\n",
    "**Are there restrictions on how I can use this data? </br>**\n",
    "For each dataset an user elects to use, the user is responsible for checking if the dataset license is fit for the intended purpose."
   ]
  },
  {
   "cell_type": "code",
   "execution_count": 2,
   "metadata": {},
   "outputs": [],
   "source": [
    "# <TO-DO:> Download dataset from a GCP bucket-"
   ]
  },
  {
   "cell_type": "markdown",
   "metadata": {},
   "source": [
    "Let's download all the required python libraries-"
   ]
  },
  {
   "cell_type": "code",
   "execution_count": 13,
   "metadata": {},
   "outputs": [],
   "source": [
    "import pandas as pd\n",
    "import numpy as np"
   ]
  },
  {
   "cell_type": "markdown",
   "metadata": {},
   "source": [
    "# Analysis using Standard Pandas\n",
    "\n",
    "First, let's use Pandas to read in some columns of the dataset:"
   ]
  },
  {
   "cell_type": "markdown",
   "metadata": {},
   "source": [
    "# Let's load the dataset using pandas and analyze it! "
   ]
  },
  {
   "cell_type": "markdown",
   "metadata": {},
   "source": [
    "### WARNING - Avoid running the below cell as it takes around 5 minutes to load the data!"
   ]
  },
  {
   "cell_type": "code",
   "execution_count": 4,
   "metadata": {},
   "outputs": [
    {
     "name": "stdout",
     "output_type": "stream",
     "text": [
      "<class 'pandas.core.frame.DataFrame'>\n",
      "RangeIndex: 89851114 entries, 0 to 89851113\n",
      "Data columns (total 11 columns):\n",
      " #   Column              Dtype  \n",
      "---  ------              -----  \n",
      " 0   Timestamp           object \n",
      " 1   From Bank           int64  \n",
      " 2   Account             object \n",
      " 3   To Bank             int64  \n",
      " 4   Account.1           object \n",
      " 5   Amount Received     float64\n",
      " 6   Receiving Currency  object \n",
      " 7   Amount Paid         float64\n",
      " 8   Payment Currency    object \n",
      " 9   Payment Format      object \n",
      " 10  Is Laundering       int64  \n",
      "dtypes: float64(2), int64(3), object(6)\n",
      "memory usage: 7.4+ GB\n",
      "CPU times: user 4min 32s, sys: 33.4 s, total: 5min 5s\n",
      "Wall time: 5min 5s\n"
     ]
    }
   ],
   "source": [
    "%%time\n",
    "df_transactions = pd.read_csv('/nvme/1/manass/notebooks/polars_exp/Data/HI-Large_Trans_reduced.csv')\n",
    "df_transactions.info()"
   ]
  },
  {
   "cell_type": "markdown",
   "metadata": {},
   "source": [
    "This 10 GB dataset takes around 5 minutes to load ! See below for a data snapshot-"
   ]
  },
  {
   "cell_type": "code",
   "execution_count": 5,
   "metadata": {},
   "outputs": [
    {
     "data": {
      "text/html": [
       "<div>\n",
       "<style scoped>\n",
       "    .dataframe tbody tr th:only-of-type {\n",
       "        vertical-align: middle;\n",
       "    }\n",
       "\n",
       "    .dataframe tbody tr th {\n",
       "        vertical-align: top;\n",
       "    }\n",
       "\n",
       "    .dataframe thead th {\n",
       "        text-align: right;\n",
       "    }\n",
       "</style>\n",
       "<table border=\"1\" class=\"dataframe\">\n",
       "  <thead>\n",
       "    <tr style=\"text-align: right;\">\n",
       "      <th></th>\n",
       "      <th>Timestamp</th>\n",
       "      <th>From Bank</th>\n",
       "      <th>Account</th>\n",
       "      <th>To Bank</th>\n",
       "      <th>Account.1</th>\n",
       "      <th>Amount Received</th>\n",
       "      <th>Receiving Currency</th>\n",
       "      <th>Amount Paid</th>\n",
       "      <th>Payment Currency</th>\n",
       "      <th>Payment Format</th>\n",
       "      <th>Is Laundering</th>\n",
       "    </tr>\n",
       "  </thead>\n",
       "  <tbody>\n",
       "    <tr>\n",
       "      <th>0</th>\n",
       "      <td>2022/08/01 00:02</td>\n",
       "      <td>3196</td>\n",
       "      <td>800107150</td>\n",
       "      <td>3196</td>\n",
       "      <td>800107150</td>\n",
       "      <td>7739.29</td>\n",
       "      <td>US Dollar</td>\n",
       "      <td>7739.29</td>\n",
       "      <td>US Dollar</td>\n",
       "      <td>Reinvestment</td>\n",
       "      <td>0</td>\n",
       "    </tr>\n",
       "    <tr>\n",
       "      <th>1</th>\n",
       "      <td>2022/08/01 00:03</td>\n",
       "      <td>1208</td>\n",
       "      <td>80010E650</td>\n",
       "      <td>20</td>\n",
       "      <td>80010E6F0</td>\n",
       "      <td>73966883.00</td>\n",
       "      <td>US Dollar</td>\n",
       "      <td>73966883.00</td>\n",
       "      <td>US Dollar</td>\n",
       "      <td>Cheque</td>\n",
       "      <td>0</td>\n",
       "    </tr>\n",
       "    <tr>\n",
       "      <th>2</th>\n",
       "      <td>2022/08/01 00:27</td>\n",
       "      <td>3203</td>\n",
       "      <td>80010EA80</td>\n",
       "      <td>3203</td>\n",
       "      <td>80010EA80</td>\n",
       "      <td>13284.41</td>\n",
       "      <td>US Dollar</td>\n",
       "      <td>13284.41</td>\n",
       "      <td>US Dollar</td>\n",
       "      <td>Reinvestment</td>\n",
       "      <td>0</td>\n",
       "    </tr>\n",
       "    <tr>\n",
       "      <th>3</th>\n",
       "      <td>2022/08/01 00:09</td>\n",
       "      <td>1208</td>\n",
       "      <td>80010E430</td>\n",
       "      <td>1208</td>\n",
       "      <td>80010E430</td>\n",
       "      <td>7.66</td>\n",
       "      <td>US Dollar</td>\n",
       "      <td>7.66</td>\n",
       "      <td>US Dollar</td>\n",
       "      <td>Reinvestment</td>\n",
       "      <td>0</td>\n",
       "    </tr>\n",
       "    <tr>\n",
       "      <th>4</th>\n",
       "      <td>2022/08/01 00:06</td>\n",
       "      <td>1208</td>\n",
       "      <td>80010E650</td>\n",
       "      <td>1208</td>\n",
       "      <td>80010E650</td>\n",
       "      <td>4.86</td>\n",
       "      <td>US Dollar</td>\n",
       "      <td>4.86</td>\n",
       "      <td>US Dollar</td>\n",
       "      <td>Reinvestment</td>\n",
       "      <td>0</td>\n",
       "    </tr>\n",
       "  </tbody>\n",
       "</table>\n",
       "</div>"
      ],
      "text/plain": [
       "          Timestamp  From Bank    Account  To Bank  Account.1  \\\n",
       "0  2022/08/01 00:02       3196  800107150     3196  800107150   \n",
       "1  2022/08/01 00:03       1208  80010E650       20  80010E6F0   \n",
       "2  2022/08/01 00:27       3203  80010EA80     3203  80010EA80   \n",
       "3  2022/08/01 00:09       1208  80010E430     1208  80010E430   \n",
       "4  2022/08/01 00:06       1208  80010E650     1208  80010E650   \n",
       "\n",
       "   Amount Received Receiving Currency  Amount Paid Payment Currency  \\\n",
       "0          7739.29          US Dollar      7739.29        US Dollar   \n",
       "1      73966883.00          US Dollar  73966883.00        US Dollar   \n",
       "2         13284.41          US Dollar     13284.41        US Dollar   \n",
       "3             7.66          US Dollar         7.66        US Dollar   \n",
       "4             4.86          US Dollar         4.86        US Dollar   \n",
       "\n",
       "  Payment Format  Is Laundering  \n",
       "0   Reinvestment              0  \n",
       "1         Cheque              0  \n",
       "2   Reinvestment              0  \n",
       "3   Reinvestment              0  \n",
       "4   Reinvestment              0  "
      ]
     },
     "execution_count": 5,
     "metadata": {},
     "output_type": "execute_result"
    }
   ],
   "source": [
    "df_transactions.head()"
   ]
  },
  {
   "cell_type": "markdown",
   "metadata": {},
   "source": [
    "We can see that the dataset consists of bank information (account details), transaction details, and whether the transaction is associate with money laundering or not."
   ]
  },
  {
   "cell_type": "markdown",
   "metadata": {},
   "source": [
    "# Which banks have the most money laundering related money transferred between them?"
   ]
  },
  {
   "cell_type": "markdown",
   "metadata": {},
   "source": [
    "Such an analysis would be helpful identifying the banks which are highly associated with money laundering and check their transaction data"
   ]
  },
  {
   "cell_type": "code",
   "execution_count": 6,
   "metadata": {},
   "outputs": [
    {
     "name": "stdout",
     "output_type": "stream",
     "text": [
      "CPU times: user 27.4 s, sys: 956 ms, total: 28.4 s\n",
      "Wall time: 28.4 s\n"
     ]
    },
    {
     "data": {
      "text/html": [
       "<div>\n",
       "<style scoped>\n",
       "    .dataframe tbody tr th:only-of-type {\n",
       "        vertical-align: middle;\n",
       "    }\n",
       "\n",
       "    .dataframe tbody tr th {\n",
       "        vertical-align: top;\n",
       "    }\n",
       "\n",
       "    .dataframe thead th {\n",
       "        text-align: right;\n",
       "    }\n",
       "</style>\n",
       "<table border=\"1\" class=\"dataframe\">\n",
       "  <thead>\n",
       "    <tr style=\"text-align: right;\">\n",
       "      <th></th>\n",
       "      <th></th>\n",
       "      <th></th>\n",
       "      <th>Amount Received</th>\n",
       "      <th>Is Laundering</th>\n",
       "    </tr>\n",
       "    <tr>\n",
       "      <th>From Bank</th>\n",
       "      <th>To Bank</th>\n",
       "      <th>Payment Currency</th>\n",
       "      <th></th>\n",
       "      <th></th>\n",
       "    </tr>\n",
       "  </thead>\n",
       "  <tbody>\n",
       "    <tr>\n",
       "      <th>4011</th>\n",
       "      <th>4011</th>\n",
       "      <th>US Dollar</th>\n",
       "      <td>2.287563e+13</td>\n",
       "      <td>1</td>\n",
       "    </tr>\n",
       "    <tr>\n",
       "      <th>18824</th>\n",
       "      <th>18824</th>\n",
       "      <th>US Dollar</th>\n",
       "      <td>1.181472e+13</td>\n",
       "      <td>3</td>\n",
       "    </tr>\n",
       "    <tr>\n",
       "      <th>18184</th>\n",
       "      <th>4</th>\n",
       "      <th>Rupee</th>\n",
       "      <td>5.257959e+12</td>\n",
       "      <td>1</td>\n",
       "    </tr>\n",
       "    <tr>\n",
       "      <th>221118</th>\n",
       "      <th>221118</th>\n",
       "      <th>US Dollar</th>\n",
       "      <td>4.857862e+12</td>\n",
       "      <td>1</td>\n",
       "    </tr>\n",
       "    <tr>\n",
       "      <th>214853</th>\n",
       "      <th>214853</th>\n",
       "      <th>US Dollar</th>\n",
       "      <td>1.908466e+12</td>\n",
       "      <td>1</td>\n",
       "    </tr>\n",
       "    <tr>\n",
       "      <th>28781</th>\n",
       "      <th>28781</th>\n",
       "      <th>US Dollar</th>\n",
       "      <td>1.458829e+12</td>\n",
       "      <td>1</td>\n",
       "    </tr>\n",
       "    <tr>\n",
       "      <th>2310</th>\n",
       "      <th>2310</th>\n",
       "      <th>US Dollar</th>\n",
       "      <td>1.359950e+12</td>\n",
       "      <td>8</td>\n",
       "    </tr>\n",
       "    <tr>\n",
       "      <th>70</th>\n",
       "      <th>137768</th>\n",
       "      <th>Yen</th>\n",
       "      <td>1.216654e+12</td>\n",
       "      <td>9</td>\n",
       "    </tr>\n",
       "    <tr>\n",
       "      <th>5763</th>\n",
       "      <th>5763</th>\n",
       "      <th>US Dollar</th>\n",
       "      <td>1.087834e+12</td>\n",
       "      <td>2</td>\n",
       "    </tr>\n",
       "    <tr>\n",
       "      <th>76</th>\n",
       "      <th>27</th>\n",
       "      <th>Rupee</th>\n",
       "      <td>1.017549e+12</td>\n",
       "      <td>4</td>\n",
       "    </tr>\n",
       "  </tbody>\n",
       "</table>\n",
       "</div>"
      ],
      "text/plain": [
       "                                    Amount Received  Is Laundering\n",
       "From Bank To Bank Payment Currency                                \n",
       "4011      4011    US Dollar            2.287563e+13              1\n",
       "18824     18824   US Dollar            1.181472e+13              3\n",
       "18184     4       Rupee                5.257959e+12              1\n",
       "221118    221118  US Dollar            4.857862e+12              1\n",
       "214853    214853  US Dollar            1.908466e+12              1\n",
       "28781     28781   US Dollar            1.458829e+12              1\n",
       "2310      2310    US Dollar            1.359950e+12              8\n",
       "70        137768  Yen                  1.216654e+12              9\n",
       "5763      5763    US Dollar            1.087834e+12              2\n",
       "76        27      Rupee                1.017549e+12              4"
      ]
     },
     "execution_count": 6,
     "metadata": {},
     "output_type": "execute_result"
    }
   ],
   "source": [
    "%%time\n",
    "# Aggregate-\n",
    "result=df_transactions.groupby(\n",
    "    [\"From Bank\",\"To Bank\",\"Payment Currency\"]).agg({\"Amount Received\":\"sum\",\"Is Laundering\":\"sum\"})\n",
    "\n",
    "filtered_result = result[result[\"Is Laundering\"] > 0].sort_values(by=\"Amount Received\", ascending=False)\n",
    "filtered_result.head(10)"
   ]
  },
  {
   "cell_type": "markdown",
   "metadata": {},
   "source": [
    "27 seconds is a long waiting time for a simple aggregation! Based on the data, Its interesting to note that most money laundering related transactions happen within (to and from) the same bank! "
   ]
  },
  {
   "cell_type": "markdown",
   "metadata": {},
   "source": [
    "# Which locations are most highly correlated with money laundering related transaction?"
   ]
  },
  {
   "cell_type": "markdown",
   "metadata": {},
   "source": [
    "It is helpful to understand the locations that have the most money laundering related activity to take appropriate steps. \n",
    "\n",
    "Since we don't have the location information in the dataset, we will create a dummy dataset of random locations and then join them with our original dataset."
   ]
  },
  {
   "cell_type": "code",
   "execution_count": 7,
   "metadata": {},
   "outputs": [],
   "source": [
    "def create_location_dataset(df_transactions):\n",
    "    \"\"\"Generate random dataset with account numbers and their locations\n",
    "    \"\"\"\n",
    "    # Assuming unique_accounts is a list or a Polars Series of unique accounts\n",
    "    unique_banks = df_transactions['From Bank'].unique()\n",
    "    \n",
    "    # Create a DataFrame for unique accounts\n",
    "    df_location = pd.DataFrame({'From Bank': unique_banks})\n",
    "    \n",
    "    # Display the unique accounts DataFrame\n",
    "    df_location.head()\n",
    "    \n",
    "    # List of sample cities\n",
    "    city_list = [\"New York\", \"Los Angeles\", \"Chicago\", \"Houston\", \"Phoenix\",\n",
    "                 \"Philadelphia\", \"San Antonio\", \"San Diego\", \"Dallas\", \"San Jose\"]\n",
    "    \n",
    "    # Number of rows in the DataFrame\n",
    "    num_rows = len(df_location)\n",
    "    \n",
    "    # Generate a list of random city names\n",
    "    random_cities = np.random.choice(city_list, num_rows)\n",
    "    \n",
    "    # Add the random cities as a new column\n",
    "    df_location['location'] = random_cities\n",
    "\n",
    "    return df_location"
   ]
  },
  {
   "cell_type": "markdown",
   "metadata": {},
   "source": [
    "`df_location` is the dataset with location details"
   ]
  },
  {
   "cell_type": "code",
   "execution_count": 8,
   "metadata": {},
   "outputs": [],
   "source": [
    "df_location = create_location_dataset(df_transactions)"
   ]
  },
  {
   "cell_type": "code",
   "execution_count": 9,
   "metadata": {},
   "outputs": [
    {
     "name": "stdout",
     "output_type": "stream",
     "text": [
      "CPU times: user 17.6 s, sys: 6.4 s, total: 24 s\n",
      "Wall time: 23.9 s\n"
     ]
    }
   ],
   "source": [
    "%%time\n",
    "df_merged = df_transactions.merge(df_location, how='left', on='From Bank')"
   ]
  },
  {
   "cell_type": "code",
   "execution_count": 12,
   "metadata": {},
   "outputs": [
    {
     "name": "stdout",
     "output_type": "stream",
     "text": [
      "CPU times: user 14.6 s, sys: 538 ms, total: 15.1 s\n",
      "Wall time: 15 s\n"
     ]
    },
    {
     "data": {
      "text/html": [
       "<div>\n",
       "<style scoped>\n",
       "    .dataframe tbody tr th:only-of-type {\n",
       "        vertical-align: middle;\n",
       "    }\n",
       "\n",
       "    .dataframe tbody tr th {\n",
       "        vertical-align: top;\n",
       "    }\n",
       "\n",
       "    .dataframe thead th {\n",
       "        text-align: right;\n",
       "    }\n",
       "</style>\n",
       "<table border=\"1\" class=\"dataframe\">\n",
       "  <thead>\n",
       "    <tr style=\"text-align: right;\">\n",
       "      <th></th>\n",
       "      <th>Amount Received</th>\n",
       "      <th>Is Laundering</th>\n",
       "    </tr>\n",
       "    <tr>\n",
       "      <th>location</th>\n",
       "      <th></th>\n",
       "      <th></th>\n",
       "    </tr>\n",
       "  </thead>\n",
       "  <tbody>\n",
       "    <tr>\n",
       "      <th>Los Angeles</th>\n",
       "      <td>1.378064e+14</td>\n",
       "      <td>9535</td>\n",
       "    </tr>\n",
       "    <tr>\n",
       "      <th>New York</th>\n",
       "      <td>6.954446e+13</td>\n",
       "      <td>11519</td>\n",
       "    </tr>\n",
       "    <tr>\n",
       "      <th>San Jose</th>\n",
       "      <td>6.408518e+13</td>\n",
       "      <td>10467</td>\n",
       "    </tr>\n",
       "    <tr>\n",
       "      <th>Phoenix</th>\n",
       "      <td>4.966658e+13</td>\n",
       "      <td>21231</td>\n",
       "    </tr>\n",
       "    <tr>\n",
       "      <th>Philadelphia</th>\n",
       "      <td>4.909936e+13</td>\n",
       "      <td>10273</td>\n",
       "    </tr>\n",
       "    <tr>\n",
       "      <th>Dallas</th>\n",
       "      <td>2.994020e+13</td>\n",
       "      <td>10711</td>\n",
       "    </tr>\n",
       "    <tr>\n",
       "      <th>San Antonio</th>\n",
       "      <td>2.614754e+13</td>\n",
       "      <td>9272</td>\n",
       "    </tr>\n",
       "    <tr>\n",
       "      <th>Houston</th>\n",
       "      <td>2.579224e+13</td>\n",
       "      <td>10911</td>\n",
       "    </tr>\n",
       "    <tr>\n",
       "      <th>San Diego</th>\n",
       "      <td>2.565140e+13</td>\n",
       "      <td>9882</td>\n",
       "    </tr>\n",
       "    <tr>\n",
       "      <th>Chicago</th>\n",
       "      <td>2.179435e+13</td>\n",
       "      <td>9152</td>\n",
       "    </tr>\n",
       "  </tbody>\n",
       "</table>\n",
       "</div>"
      ],
      "text/plain": [
       "              Amount Received  Is Laundering\n",
       "location                                    \n",
       "Los Angeles      1.378064e+14           9535\n",
       "New York         6.954446e+13          11519\n",
       "San Jose         6.408518e+13          10467\n",
       "Phoenix          4.966658e+13          21231\n",
       "Philadelphia     4.909936e+13          10273\n",
       "Dallas           2.994020e+13          10711\n",
       "San Antonio      2.614754e+13           9272\n",
       "Houston          2.579224e+13          10911\n",
       "San Diego        2.565140e+13           9882\n",
       "Chicago          2.179435e+13           9152"
      ]
     },
     "execution_count": 12,
     "metadata": {},
     "output_type": "execute_result"
    }
   ],
   "source": [
    "%%time\n",
    "# Aggregate-\n",
    "result=df_merged.groupby(\n",
    "    [\"location\"]).agg({\"Amount Received\":\"sum\",\"Is Laundering\":\"sum\"})\n",
    "\n",
    "filtered_result = result[result[\"Is Laundering\"] > 0].sort_values(by=\"Amount Received\", ascending=False)\n",
    "filtered_result.head(10)"
   ]
  },
  {
   "cell_type": "markdown",
   "metadata": {},
   "source": [
    "Banks in Los Angeles have the most transactions associated with Money Laundering (It's all based off mock data)"
   ]
  },
  {
   "cell_type": "markdown",
   "metadata": {},
   "source": [
    "# Analysis with cuDF Pandas"
   ]
  },
  {
   "cell_type": "markdown",
   "metadata": {},
   "source": [
    "Let's first install cudf latest version"
   ]
  },
  {
   "cell_type": "code",
   "execution_count": null,
   "metadata": {},
   "outputs": [],
   "source": [
    "!pip install --extra-index-url=https://pypi.nvidia.com cudf-cu12==24.8.*"
   ]
  },
  {
   "cell_type": "markdown",
   "metadata": {},
   "source": [
    "Typically, you should load the `cudf.pandas` extension as the first step in your notebook, before importing any modules. Here, we explicitly restart the kernel to simulate that behavior.\n",
    "\n",
    "Note: We just added the `%load-ext` and the rest of the code remains the same"
   ]
  },
  {
   "cell_type": "code",
   "execution_count": 2,
   "metadata": {},
   "outputs": [
    {
     "name": "stdout",
     "output_type": "stream",
     "text": [
      "The cudf.pandas extension is already loaded. To reload it, use:\n",
      "  %reload_ext cudf.pandas\n"
     ]
    }
   ],
   "source": [
    "%load_ext cudf.pandas"
   ]
  },
  {
   "cell_type": "markdown",
   "metadata": {},
   "source": [
    "Before we load data, lets use the `rmm` library to make sure we are tracking GPU utilization. It would be interesting too see if we ever utilize d GPU to its capacity and how much were the speed ups then!\n"
   ]
  },
  {
   "cell_type": "code",
   "execution_count": 3,
   "metadata": {},
   "outputs": [],
   "source": [
    "import rmm\n",
    "stats_mr = rmm.mr.StatisticsResourceAdaptor(\n",
    "    rmm.mr.get_current_device_resource())\n",
    "rmm.mr.set_current_device_resource(stats_mr)"
   ]
  },
  {
   "cell_type": "markdown",
   "metadata": {},
   "source": [
    "we are using the `rmm` library which is responsible for managing memory during `cudf.pandas` operations.\n"
   ]
  },
  {
   "cell_type": "code",
   "execution_count": 4,
   "metadata": {},
   "outputs": [],
   "source": [
    "import pandas as pd"
   ]
  },
  {
   "cell_type": "markdown",
   "metadata": {},
   "source": [
    "We just wrap a `StatisticsResourceAdaptor` on our memory resource to see what our memory allocations were for the previous operations"
   ]
  },
  {
   "cell_type": "markdown",
   "metadata": {},
   "source": [
    "#### We'll run the same code as above to get a feel what GPU-acceleration brings to pandas workflows!"
   ]
  },
  {
   "cell_type": "code",
   "execution_count": 5,
   "metadata": {},
   "outputs": [
    {
     "data": {
      "text/html": [
       "<pre style=\"white-space:pre;overflow-x:auto;line-height:normal;font-family:Menlo,'DejaVu Sans Mono',consolas,'Courier New',monospace\"><span style=\"font-style: italic\">                                                                                              </span>\n",
       "<span style=\"font-style: italic\">                                  Total time elapsed: 22.536 seconds                          </span>\n",
       "<span style=\"font-style: italic\">                                1 GPU function calls in 22.104 seconds                        </span>\n",
       "<span style=\"font-style: italic\">                                0 CPU function calls in 0.000 seconds                         </span>\n",
       "<span style=\"font-style: italic\">                                                                                              </span>\n",
       "<span style=\"font-style: italic\">                                                Stats                                         </span>\n",
       "<span style=\"font-style: italic\">                                                                                              </span>\n",
       "┏━━━━━━━━━━┳━━━━━━━━━━━━┳━━━━━━━━━━━━━┳━━━━━━━━━━━━━┳━━━━━━━━━━━━┳━━━━━━━━━━━━━┳━━━━━━━━━━━━━┓\n",
       "┃<span style=\"font-weight: bold\"> Function </span>┃<span style=\"font-weight: bold\"> GPU ncalls </span>┃<span style=\"font-weight: bold\"> GPU cumtime </span>┃<span style=\"font-weight: bold\"> GPU percall </span>┃<span style=\"font-weight: bold\"> CPU ncalls </span>┃<span style=\"font-weight: bold\"> CPU cumtime </span>┃<span style=\"font-weight: bold\"> CPU percall </span>┃\n",
       "┡━━━━━━━━━━╇━━━━━━━━━━━━╇━━━━━━━━━━━━━╇━━━━━━━━━━━━━╇━━━━━━━━━━━━╇━━━━━━━━━━━━━╇━━━━━━━━━━━━━┩\n",
       "│ read_csv │ 1          │ 22.104      │ 22.104      │ 0          │ 0.000       │ 0.000       │\n",
       "└──────────┴────────────┴─────────────┴─────────────┴────────────┴─────────────┴─────────────┘\n",
       "</pre>\n"
      ],
      "text/plain": [
       "\u001b[3m                                                                                              \u001b[0m\n",
       "\u001b[3m                                  Total time elapsed: 22.536 seconds                          \u001b[0m\n",
       "\u001b[3m                                1 GPU function calls in 22.104 seconds                        \u001b[0m\n",
       "\u001b[3m                                0 CPU function calls in 0.000 seconds                         \u001b[0m\n",
       "\u001b[3m                                                                                              \u001b[0m\n",
       "\u001b[3m                                                Stats                                         \u001b[0m\n",
       "\u001b[3m                                                                                              \u001b[0m\n",
       "┏━━━━━━━━━━┳━━━━━━━━━━━━┳━━━━━━━━━━━━━┳━━━━━━━━━━━━━┳━━━━━━━━━━━━┳━━━━━━━━━━━━━┳━━━━━━━━━━━━━┓\n",
       "┃\u001b[1m \u001b[0m\u001b[1mFunction\u001b[0m\u001b[1m \u001b[0m┃\u001b[1m \u001b[0m\u001b[1mGPU ncalls\u001b[0m\u001b[1m \u001b[0m┃\u001b[1m \u001b[0m\u001b[1mGPU cumtime\u001b[0m\u001b[1m \u001b[0m┃\u001b[1m \u001b[0m\u001b[1mGPU percall\u001b[0m\u001b[1m \u001b[0m┃\u001b[1m \u001b[0m\u001b[1mCPU ncalls\u001b[0m\u001b[1m \u001b[0m┃\u001b[1m \u001b[0m\u001b[1mCPU cumtime\u001b[0m\u001b[1m \u001b[0m┃\u001b[1m \u001b[0m\u001b[1mCPU percall\u001b[0m\u001b[1m \u001b[0m┃\n",
       "┡━━━━━━━━━━╇━━━━━━━━━━━━╇━━━━━━━━━━━━━╇━━━━━━━━━━━━━╇━━━━━━━━━━━━╇━━━━━━━━━━━━━╇━━━━━━━━━━━━━┩\n",
       "│ read_csv │ 1          │ 22.104      │ 22.104      │ 0          │ 0.000       │ 0.000       │\n",
       "└──────────┴────────────┴─────────────┴─────────────┴────────────┴─────────────┴─────────────┘\n"
      ]
     },
     "metadata": {},
     "output_type": "display_data"
    }
   ],
   "source": [
    "%%cudf.pandas.profile\n",
    "df_transactions = pd.read_csv('/nvme/1/manass/notebooks/polars_exp/Data/HI-Large_Trans_reduced.csv')"
   ]
  },
  {
   "cell_type": "markdown",
   "metadata": {},
   "source": [
    "Nice! The data loading time has come down from 5 minutes to around 25 seconds for the 10 GB dataset"
   ]
  },
  {
   "cell_type": "markdown",
   "metadata": {},
   "source": [
    "# Can we handle workloads larger than GPU memory?"
   ]
  },
  {
   "cell_type": "code",
   "execution_count": 9,
   "metadata": {},
   "outputs": [
    {
     "name": "stdout",
     "output_type": "stream",
     "text": [
      "Total memory usage 10.0 GB\n"
     ]
    }
   ],
   "source": [
    "print(f\"Total memory usage {round(stats_mr.allocation_counts.current_bytes/(1024**3),0)} GB\")"
   ]
  },
  {
   "cell_type": "markdown",
   "metadata": {},
   "source": [
    "Dataset is occupying 10 GB of GPU memory"
   ]
  },
  {
   "cell_type": "code",
   "execution_count": 8,
   "metadata": {},
   "outputs": [
    {
     "name": "stdout",
     "output_type": "stream",
     "text": [
      "Peak memory usage 28.0 GB\n"
     ]
    }
   ],
   "source": [
    "print(f\"Peak memory usage {round(stats_mr.allocation_counts.peak_bytes/(1024**3),0)} GB\")"
   ]
  },
  {
   "cell_type": "markdown",
   "metadata": {},
   "source": [
    "It's interesting to see that peak memory usage was much higher than the GPU memory and yet we saw speedups from 5 minutes to around 30 seconds, implying the ability to process larger than GPU memory workloads with `cudf.pandas`\n"
   ]
  },
  {
   "cell_type": "code",
   "execution_count": 18,
   "metadata": {},
   "outputs": [
    {
     "name": "stdout",
     "output_type": "stream",
     "text": [
      "CPU times: user 2.76 s, sys: 492 ms, total: 3.25 s\n",
      "Wall time: 2.97 s\n"
     ]
    },
    {
     "data": {
      "text/html": [
       "<div>\n",
       "<style scoped>\n",
       "    .dataframe tbody tr th:only-of-type {\n",
       "        vertical-align: middle;\n",
       "    }\n",
       "\n",
       "    .dataframe tbody tr th {\n",
       "        vertical-align: top;\n",
       "    }\n",
       "\n",
       "    .dataframe thead th {\n",
       "        text-align: right;\n",
       "    }\n",
       "</style>\n",
       "<table border=\"1\" class=\"dataframe\">\n",
       "  <thead>\n",
       "    <tr style=\"text-align: right;\">\n",
       "      <th></th>\n",
       "      <th></th>\n",
       "      <th></th>\n",
       "      <th>Amount Received</th>\n",
       "    </tr>\n",
       "    <tr>\n",
       "      <th>From Bank</th>\n",
       "      <th>To Bank</th>\n",
       "      <th>Payment Currency</th>\n",
       "      <th></th>\n",
       "    </tr>\n",
       "  </thead>\n",
       "  <tbody>\n",
       "    <tr>\n",
       "      <th rowspan=\"5\" valign=\"top\">0</th>\n",
       "      <th rowspan=\"2\" valign=\"top\">0</th>\n",
       "      <th>Bitcoin</th>\n",
       "      <td>8.257410e-01</td>\n",
       "    </tr>\n",
       "    <tr>\n",
       "      <th>US Dollar</th>\n",
       "      <td>4.443487e+11</td>\n",
       "    </tr>\n",
       "    <tr>\n",
       "      <th>1</th>\n",
       "      <th>Euro</th>\n",
       "      <td>1.737009e+06</td>\n",
       "    </tr>\n",
       "    <tr>\n",
       "      <th>2</th>\n",
       "      <th>Yuan</th>\n",
       "      <td>1.555276e+06</td>\n",
       "    </tr>\n",
       "    <tr>\n",
       "      <th>3</th>\n",
       "      <th>Euro</th>\n",
       "      <td>4.393948e+05</td>\n",
       "    </tr>\n",
       "    <tr>\n",
       "      <th>...</th>\n",
       "      <th>...</th>\n",
       "      <th>...</th>\n",
       "      <td>...</td>\n",
       "    </tr>\n",
       "    <tr>\n",
       "      <th>3225441</th>\n",
       "      <th>1210700</th>\n",
       "      <th>Bitcoin</th>\n",
       "      <td>1.981200e-02</td>\n",
       "    </tr>\n",
       "    <tr>\n",
       "      <th>3225444</th>\n",
       "      <th>1217496</th>\n",
       "      <th>Bitcoin</th>\n",
       "      <td>4.904000e-02</td>\n",
       "    </tr>\n",
       "    <tr>\n",
       "      <th>3225451</th>\n",
       "      <th>78520</th>\n",
       "      <th>US Dollar</th>\n",
       "      <td>2.820300e+02</td>\n",
       "    </tr>\n",
       "    <tr>\n",
       "      <th>3225454</th>\n",
       "      <th>180343</th>\n",
       "      <th>US Dollar</th>\n",
       "      <td>3.459300e+03</td>\n",
       "    </tr>\n",
       "    <tr>\n",
       "      <th>3225455</th>\n",
       "      <th>3225455</th>\n",
       "      <th>Bitcoin</th>\n",
       "      <td>2.543745e+00</td>\n",
       "    </tr>\n",
       "  </tbody>\n",
       "</table>\n",
       "<p>2456769 rows × 1 columns</p>\n",
       "</div>"
      ],
      "text/plain": [
       "                                    Amount Received\n",
       "From Bank To Bank Payment Currency                 \n",
       "0         0       Bitcoin              8.257410e-01\n",
       "                  US Dollar            4.443487e+11\n",
       "          1       Euro                 1.737009e+06\n",
       "          2       Yuan                 1.555276e+06\n",
       "          3       Euro                 4.393948e+05\n",
       "...                                             ...\n",
       "3225441   1210700 Bitcoin              1.981200e-02\n",
       "3225444   1217496 Bitcoin              4.904000e-02\n",
       "3225451   78520   US Dollar            2.820300e+02\n",
       "3225454   180343  US Dollar            3.459300e+03\n",
       "3225455   3225455 Bitcoin              2.543745e+00\n",
       "\n",
       "[2456769 rows x 1 columns]"
      ]
     },
     "execution_count": 18,
     "metadata": {},
     "output_type": "execute_result"
    }
   ],
   "source": [
    "%%time\n",
    "# Aggregate-\n",
    "df_transactions.groupby(\n",
    "    [\"From Bank\",\"To Bank\",\"Payment Currency\"]).agg({\"Amount Received\":\"sum\"})"
   ]
  },
  {
   "cell_type": "markdown",
   "metadata": {},
   "source": [
    "This was much faster than before! We were able to get the processing time down for aggregation by 5-7x\n"
   ]
  },
  {
   "cell_type": "code",
   "execution_count": 11,
   "metadata": {},
   "outputs": [],
   "source": [
    "def create_location_dataset(df_transactions):\n",
    "    \"\"\"Generate random dataset with account numbers and their locations\n",
    "    \"\"\"\n",
    "    # Assuming unique_accounts is a list or a Polars Series of unique accounts\n",
    "    unique_banks = df_transactions['From Bank'].unique()\n",
    "    \n",
    "    # Create a DataFrame for unique accounts\n",
    "    df_location = pd.DataFrame({'From Bank': unique_banks})\n",
    "    \n",
    "    # Display the unique accounts DataFrame\n",
    "    df_location.head()\n",
    "    \n",
    "    # List of sample cities\n",
    "    city_list = [\"New York\", \"Los Angeles\", \"Chicago\", \"Houston\", \"Phoenix\",\n",
    "                 \"Philadelphia\", \"San Antonio\", \"San Diego\", \"Dallas\", \"San Jose\"]\n",
    "    \n",
    "    # Number of rows in the DataFrame\n",
    "    num_rows = len(df_location)\n",
    "    \n",
    "    # Generate a list of random city names\n",
    "    random_cities = np.random.choice(city_list, num_rows)\n",
    "    \n",
    "    # Add the random cities as a new column\n",
    "    df_location['location'] = random_cities\n",
    "\n",
    "    return df_location"
   ]
  },
  {
   "cell_type": "markdown",
   "metadata": {},
   "source": [
    "Recreating the location dataset"
   ]
  },
  {
   "cell_type": "code",
   "execution_count": 16,
   "metadata": {},
   "outputs": [],
   "source": [
    "df_location = create_location_dataset(df_transactions)"
   ]
  },
  {
   "cell_type": "code",
   "execution_count": 17,
   "metadata": {},
   "outputs": [
    {
     "name": "stdout",
     "output_type": "stream",
     "text": [
      "CPU times: user 3.22 s, sys: 1.5 s, total: 4.72 s\n",
      "Wall time: 3.79 s\n"
     ]
    }
   ],
   "source": [
    "%%time\n",
    "df_merged = df_transactions.merge(df_location, how='left', on='From Bank')"
   ]
  },
  {
   "cell_type": "code",
   "execution_count": 18,
   "metadata": {},
   "outputs": [
    {
     "data": {
      "text/html": [
       "<div>\n",
       "<style scoped>\n",
       "    .dataframe tbody tr th:only-of-type {\n",
       "        vertical-align: middle;\n",
       "    }\n",
       "\n",
       "    .dataframe tbody tr th {\n",
       "        vertical-align: top;\n",
       "    }\n",
       "\n",
       "    .dataframe thead th {\n",
       "        text-align: right;\n",
       "    }\n",
       "</style>\n",
       "<table border=\"1\" class=\"dataframe\">\n",
       "  <thead>\n",
       "    <tr style=\"text-align: right;\">\n",
       "      <th></th>\n",
       "      <th>Timestamp</th>\n",
       "      <th>From Bank</th>\n",
       "      <th>Account</th>\n",
       "      <th>To Bank</th>\n",
       "      <th>Account.1</th>\n",
       "      <th>Amount Received</th>\n",
       "      <th>Receiving Currency</th>\n",
       "      <th>Amount Paid</th>\n",
       "      <th>Payment Currency</th>\n",
       "      <th>Payment Format</th>\n",
       "      <th>Is Laundering</th>\n",
       "      <th>location</th>\n",
       "    </tr>\n",
       "  </thead>\n",
       "  <tbody>\n",
       "    <tr>\n",
       "      <th>0</th>\n",
       "      <td>2022/08/01 00:02</td>\n",
       "      <td>3196</td>\n",
       "      <td>800107150</td>\n",
       "      <td>3196</td>\n",
       "      <td>800107150</td>\n",
       "      <td>7739.29</td>\n",
       "      <td>US Dollar</td>\n",
       "      <td>7739.29</td>\n",
       "      <td>US Dollar</td>\n",
       "      <td>Reinvestment</td>\n",
       "      <td>0</td>\n",
       "      <td>Phoenix</td>\n",
       "    </tr>\n",
       "    <tr>\n",
       "      <th>1</th>\n",
       "      <td>2022/08/01 00:03</td>\n",
       "      <td>1208</td>\n",
       "      <td>80010E650</td>\n",
       "      <td>20</td>\n",
       "      <td>80010E6F0</td>\n",
       "      <td>73966883.00</td>\n",
       "      <td>US Dollar</td>\n",
       "      <td>73966883.00</td>\n",
       "      <td>US Dollar</td>\n",
       "      <td>Cheque</td>\n",
       "      <td>0</td>\n",
       "      <td>Houston</td>\n",
       "    </tr>\n",
       "    <tr>\n",
       "      <th>2</th>\n",
       "      <td>2022/08/01 00:27</td>\n",
       "      <td>3203</td>\n",
       "      <td>80010EA80</td>\n",
       "      <td>3203</td>\n",
       "      <td>80010EA80</td>\n",
       "      <td>13284.41</td>\n",
       "      <td>US Dollar</td>\n",
       "      <td>13284.41</td>\n",
       "      <td>US Dollar</td>\n",
       "      <td>Reinvestment</td>\n",
       "      <td>0</td>\n",
       "      <td>San Diego</td>\n",
       "    </tr>\n",
       "    <tr>\n",
       "      <th>3</th>\n",
       "      <td>2022/08/01 00:09</td>\n",
       "      <td>1208</td>\n",
       "      <td>80010E430</td>\n",
       "      <td>1208</td>\n",
       "      <td>80010E430</td>\n",
       "      <td>7.66</td>\n",
       "      <td>US Dollar</td>\n",
       "      <td>7.66</td>\n",
       "      <td>US Dollar</td>\n",
       "      <td>Reinvestment</td>\n",
       "      <td>0</td>\n",
       "      <td>Houston</td>\n",
       "    </tr>\n",
       "    <tr>\n",
       "      <th>4</th>\n",
       "      <td>2022/08/01 00:06</td>\n",
       "      <td>1208</td>\n",
       "      <td>80010E650</td>\n",
       "      <td>1208</td>\n",
       "      <td>80010E650</td>\n",
       "      <td>4.86</td>\n",
       "      <td>US Dollar</td>\n",
       "      <td>4.86</td>\n",
       "      <td>US Dollar</td>\n",
       "      <td>Reinvestment</td>\n",
       "      <td>0</td>\n",
       "      <td>Houston</td>\n",
       "    </tr>\n",
       "  </tbody>\n",
       "</table>\n",
       "</div>"
      ],
      "text/plain": [
       "          Timestamp  From Bank    Account  To Bank  Account.1  \\\n",
       "0  2022/08/01 00:02       3196  800107150     3196  800107150   \n",
       "1  2022/08/01 00:03       1208  80010E650       20  80010E6F0   \n",
       "2  2022/08/01 00:27       3203  80010EA80     3203  80010EA80   \n",
       "3  2022/08/01 00:09       1208  80010E430     1208  80010E430   \n",
       "4  2022/08/01 00:06       1208  80010E650     1208  80010E650   \n",
       "\n",
       "   Amount Received Receiving Currency  Amount Paid Payment Currency  \\\n",
       "0          7739.29          US Dollar      7739.29        US Dollar   \n",
       "1      73966883.00          US Dollar  73966883.00        US Dollar   \n",
       "2         13284.41          US Dollar     13284.41        US Dollar   \n",
       "3             7.66          US Dollar         7.66        US Dollar   \n",
       "4             4.86          US Dollar         4.86        US Dollar   \n",
       "\n",
       "  Payment Format  Is Laundering   location  \n",
       "0   Reinvestment              0    Phoenix  \n",
       "1         Cheque              0    Houston  \n",
       "2   Reinvestment              0  San Diego  \n",
       "3   Reinvestment              0    Houston  \n",
       "4   Reinvestment              0    Houston  "
      ]
     },
     "execution_count": 18,
     "metadata": {},
     "output_type": "execute_result"
    }
   ],
   "source": [
    "df_merged.head()"
   ]
  },
  {
   "cell_type": "markdown",
   "metadata": {},
   "source": [
    "Nice! We brought the time down by 5-10x again for the data joining step above!"
   ]
  },
  {
   "cell_type": "markdown",
   "metadata": {},
   "source": [
    "Its clear that we are seeing speedups for large datasets with `cudf.pandas` with zero code change! This can be attributed to better memory management attributed to managed memory pool and prefetching concepts we explained in the beginning of the notebook. sSe this <a href=\"https://developer.nvidia.com/blog/improving-gpu-memory-oversubscription-performance/\">NVIDIA Developer blog post</a> for more details\n",
    "\n",
    "But what happens if we switch that feature off?"
   ]
  },
  {
   "cell_type": "code",
   "execution_count": 23,
   "metadata": {},
   "outputs": [
    {
     "data": {
      "text/plain": [
       "{'status': 'ok', 'restart': True}"
      ]
     },
     "execution_count": 23,
     "metadata": {},
     "output_type": "execute_result"
    }
   ],
   "source": [
    "# Restart notebook-\n",
    "get_ipython().kernel.do_shutdown(restart=True)"
   ]
  },
  {
   "cell_type": "markdown",
   "metadata": {},
   "source": [
    "cudf.pandas provides an environment variable that you can set to `cuda` to turn off managed memory"
   ]
  },
  {
   "cell_type": "code",
   "execution_count": 1,
   "metadata": {},
   "outputs": [
    {
     "name": "stdout",
     "output_type": "stream",
     "text": [
      "env: CUDF_PANDAS_RMM_MODE=cuda\n",
      "cuda\n"
     ]
    }
   ],
   "source": [
    "%env CUDF_PANDAS_RMM_MODE=cuda\n",
    "\n",
    "import os\n",
    "# Step 3: Verify the environment variable\n",
    "print(os.environ['CUDF_PANDAS_RMM_MODE'])"
   ]
  },
  {
   "cell_type": "code",
   "execution_count": 2,
   "metadata": {},
   "outputs": [],
   "source": [
    "%load_ext cudf.pandas"
   ]
  },
  {
   "cell_type": "code",
   "execution_count": 3,
   "metadata": {},
   "outputs": [],
   "source": [
    "import pandas as pd"
   ]
  },
  {
   "cell_type": "code",
   "execution_count": 4,
   "metadata": {},
   "outputs": [
    {
     "data": {
      "text/html": [
       "<pre style=\"white-space:pre;overflow-x:auto;line-height:normal;font-family:Menlo,'DejaVu Sans Mono',consolas,'Courier New',monospace\"><span style=\"font-style: italic\">                                                                                              </span>\n",
       "<span style=\"font-style: italic\">                                 Total time elapsed: 305.434 seconds                          </span>\n",
       "<span style=\"font-style: italic\">                                0 GPU function calls in 0.000 seconds                         </span>\n",
       "<span style=\"font-style: italic\">                               1 CPU function calls in 304.997 seconds                        </span>\n",
       "<span style=\"font-style: italic\">                                                                                              </span>\n",
       "<span style=\"font-style: italic\">                                                Stats                                         </span>\n",
       "<span style=\"font-style: italic\">                                                                                              </span>\n",
       "┏━━━━━━━━━━┳━━━━━━━━━━━━┳━━━━━━━━━━━━━┳━━━━━━━━━━━━━┳━━━━━━━━━━━━┳━━━━━━━━━━━━━┳━━━━━━━━━━━━━┓\n",
       "┃<span style=\"font-weight: bold\"> Function </span>┃<span style=\"font-weight: bold\"> GPU ncalls </span>┃<span style=\"font-weight: bold\"> GPU cumtime </span>┃<span style=\"font-weight: bold\"> GPU percall </span>┃<span style=\"font-weight: bold\"> CPU ncalls </span>┃<span style=\"font-weight: bold\"> CPU cumtime </span>┃<span style=\"font-weight: bold\"> CPU percall </span>┃\n",
       "┡━━━━━━━━━━╇━━━━━━━━━━━━╇━━━━━━━━━━━━━╇━━━━━━━━━━━━━╇━━━━━━━━━━━━╇━━━━━━━━━━━━━╇━━━━━━━━━━━━━┩\n",
       "│ read_csv │ 0          │ 0.000       │ 0.000       │ 1          │ 304.997     │ 304.997     │\n",
       "└──────────┴────────────┴─────────────┴─────────────┴────────────┴─────────────┴─────────────┘\n",
       "</pre>\n"
      ],
      "text/plain": [
       "\u001b[3m                                                                                              \u001b[0m\n",
       "\u001b[3m                                 Total time elapsed: 305.434 seconds                          \u001b[0m\n",
       "\u001b[3m                                0 GPU function calls in 0.000 seconds                         \u001b[0m\n",
       "\u001b[3m                               1 CPU function calls in 304.997 seconds                        \u001b[0m\n",
       "\u001b[3m                                                                                              \u001b[0m\n",
       "\u001b[3m                                                Stats                                         \u001b[0m\n",
       "\u001b[3m                                                                                              \u001b[0m\n",
       "┏━━━━━━━━━━┳━━━━━━━━━━━━┳━━━━━━━━━━━━━┳━━━━━━━━━━━━━┳━━━━━━━━━━━━┳━━━━━━━━━━━━━┳━━━━━━━━━━━━━┓\n",
       "┃\u001b[1m \u001b[0m\u001b[1mFunction\u001b[0m\u001b[1m \u001b[0m┃\u001b[1m \u001b[0m\u001b[1mGPU ncalls\u001b[0m\u001b[1m \u001b[0m┃\u001b[1m \u001b[0m\u001b[1mGPU cumtime\u001b[0m\u001b[1m \u001b[0m┃\u001b[1m \u001b[0m\u001b[1mGPU percall\u001b[0m\u001b[1m \u001b[0m┃\u001b[1m \u001b[0m\u001b[1mCPU ncalls\u001b[0m\u001b[1m \u001b[0m┃\u001b[1m \u001b[0m\u001b[1mCPU cumtime\u001b[0m\u001b[1m \u001b[0m┃\u001b[1m \u001b[0m\u001b[1mCPU percall\u001b[0m\u001b[1m \u001b[0m┃\n",
       "┡━━━━━━━━━━╇━━━━━━━━━━━━╇━━━━━━━━━━━━━╇━━━━━━━━━━━━━╇━━━━━━━━━━━━╇━━━━━━━━━━━━━╇━━━━━━━━━━━━━┩\n",
       "│ read_csv │ 0          │ 0.000       │ 0.000       │ 1          │ 304.997     │ 304.997     │\n",
       "└──────────┴────────────┴─────────────┴─────────────┴────────────┴─────────────┴─────────────┘\n"
      ]
     },
     "metadata": {},
     "output_type": "display_data"
    },
    {
     "data": {
      "text/html": [
       "<pre style=\"white-space:pre;overflow-x:auto;line-height:normal;font-family:Menlo,'DejaVu Sans Mono',consolas,'Courier New',monospace\">Not all pandas operations ran on the GPU. The following functions required CPU fallback:\n",
       "\n",
       "- read_csv\n",
       "\n",
       "</pre>\n"
      ],
      "text/plain": [
       "Not all pandas operations ran on the GPU. The following functions required CPU fallback:\n",
       "\n",
       "- read_csv\n",
       "\n"
      ]
     },
     "metadata": {},
     "output_type": "display_data"
    },
    {
     "data": {
      "text/html": [
       "<pre style=\"white-space:pre;overflow-x:auto;line-height:normal;font-family:Menlo,'DejaVu Sans Mono',consolas,'Courier New',monospace\">To request GPU support for any of these functions, please file a Github issue here: \n",
       "<a href=\"https://github.com/rapidsai/cudf/issues/new?assignees=&labels=%3F+-+Needs+Triage%2C+feature+request&projects=&template=pandas_function_request.md&title=%5BFEA%5D\" target=\"_blank\"><span style=\"color: #0000ff; text-decoration-color: #0000ff; text-decoration: underline\">https://github.com/rapidsai/cudf/issues/new/choose</span></a><span style=\"color: #0000ff; text-decoration-color: #0000ff; text-decoration: underline\">.</span>\n",
       "</pre>\n"
      ],
      "text/plain": [
       "To request GPU support for any of these functions, please file a Github issue here: \n",
       "\u001b]8;id=191555;https://github.com/rapidsai/cudf/issues/new?assignees=&labels=%3F+-+Needs+Triage%2C+feature+request&projects=&template=pandas_function_request.md&title=%5BFEA%5D\u001b\\\u001b[4;94mhttps://github.com/rapidsai/cudf/issues/new/choose\u001b[0m\u001b]8;;\u001b\\\u001b[4;94m.\u001b[0m\n"
      ]
     },
     "metadata": {},
     "output_type": "display_data"
    }
   ],
   "source": [
    "%%cudf.pandas.profile\n",
    "df_transactions = pd.read_csv('/nvme/1/manass/notebooks/polars_exp/Data/HI-Large_Trans_reduced.csv')"
   ]
  },
  {
   "cell_type": "markdown",
   "metadata": {},
   "source": [
    "Disabling managed memory led to CPU fallback because of `Out of Memory` issues on the GPU "
   ]
  },
  {
   "cell_type": "code",
   "execution_count": 5,
   "metadata": {},
   "outputs": [
    {
     "data": {
      "text/html": [
       "<div>\n",
       "<style scoped>\n",
       "    .dataframe tbody tr th:only-of-type {\n",
       "        vertical-align: middle;\n",
       "    }\n",
       "\n",
       "    .dataframe tbody tr th {\n",
       "        vertical-align: top;\n",
       "    }\n",
       "\n",
       "    .dataframe thead th {\n",
       "        text-align: right;\n",
       "    }\n",
       "</style>\n",
       "<table border=\"1\" class=\"dataframe\">\n",
       "  <thead>\n",
       "    <tr style=\"text-align: right;\">\n",
       "      <th></th>\n",
       "      <th>Amount Received</th>\n",
       "    </tr>\n",
       "    <tr>\n",
       "      <th>From Bank</th>\n",
       "      <th></th>\n",
       "    </tr>\n",
       "  </thead>\n",
       "  <tbody>\n",
       "    <tr>\n",
       "      <th>0</th>\n",
       "      <td>1.592349e+12</td>\n",
       "    </tr>\n",
       "    <tr>\n",
       "      <th>1</th>\n",
       "      <td>5.536070e+10</td>\n",
       "    </tr>\n",
       "    <tr>\n",
       "      <th>2</th>\n",
       "      <td>4.319278e+11</td>\n",
       "    </tr>\n",
       "    <tr>\n",
       "      <th>3</th>\n",
       "      <td>2.200754e+12</td>\n",
       "    </tr>\n",
       "    <tr>\n",
       "      <th>4</th>\n",
       "      <td>4.873087e+12</td>\n",
       "    </tr>\n",
       "    <tr>\n",
       "      <th>...</th>\n",
       "      <td>...</td>\n",
       "    </tr>\n",
       "    <tr>\n",
       "      <th>3225441</th>\n",
       "      <td>1.981200e-02</td>\n",
       "    </tr>\n",
       "    <tr>\n",
       "      <th>3225444</th>\n",
       "      <td>4.904000e-02</td>\n",
       "    </tr>\n",
       "    <tr>\n",
       "      <th>3225451</th>\n",
       "      <td>2.820300e+02</td>\n",
       "    </tr>\n",
       "    <tr>\n",
       "      <th>3225454</th>\n",
       "      <td>3.459300e+03</td>\n",
       "    </tr>\n",
       "    <tr>\n",
       "      <th>3225455</th>\n",
       "      <td>2.543745e+00</td>\n",
       "    </tr>\n",
       "  </tbody>\n",
       "</table>\n",
       "<p>116329 rows × 1 columns</p>\n",
       "</div>"
      ],
      "text/plain": [
       "           Amount Received\n",
       "From Bank                 \n",
       "0             1.592349e+12\n",
       "1             5.536070e+10\n",
       "2             4.319278e+11\n",
       "3             2.200754e+12\n",
       "4             4.873087e+12\n",
       "...                    ...\n",
       "3225441       1.981200e-02\n",
       "3225444       4.904000e-02\n",
       "3225451       2.820300e+02\n",
       "3225454       3.459300e+03\n",
       "3225455       2.543745e+00\n",
       "\n",
       "[116329 rows x 1 columns]"
      ]
     },
     "execution_count": 5,
     "metadata": {},
     "output_type": "execute_result"
    },
    {
     "data": {
      "text/html": [
       "<pre style=\"white-space:pre;overflow-x:auto;line-height:normal;font-family:Menlo,'DejaVu Sans Mono',consolas,'Courier New',monospace\"><span style=\"font-style: italic\">                                                                                                                </span>\n",
       "<span style=\"font-style: italic\">                                          Total time elapsed: 3194.712 seconds                                  </span>\n",
       "<span style=\"font-style: italic\">                                        3 GPU function calls in 3194.299 seconds                                </span>\n",
       "<span style=\"font-style: italic\">                                         2 CPU function calls in 0.038 seconds                                  </span>\n",
       "<span style=\"font-style: italic\">                                                                                                                </span>\n",
       "<span style=\"font-style: italic\">                                                         Stats                                                  </span>\n",
       "<span style=\"font-style: italic\">                                                                                                                </span>\n",
       "┏━━━━━━━━━━━━━━━━━━━━━━━━━━━━┳━━━━━━━━━━━━┳━━━━━━━━━━━━━┳━━━━━━━━━━━━━┳━━━━━━━━━━━━┳━━━━━━━━━━━━━┳━━━━━━━━━━━━━┓\n",
       "┃<span style=\"font-weight: bold\"> Function                   </span>┃<span style=\"font-weight: bold\"> GPU ncalls </span>┃<span style=\"font-weight: bold\"> GPU cumtime </span>┃<span style=\"font-weight: bold\"> GPU percall </span>┃<span style=\"font-weight: bold\"> CPU ncalls </span>┃<span style=\"font-weight: bold\"> CPU cumtime </span>┃<span style=\"font-weight: bold\"> CPU percall </span>┃\n",
       "┡━━━━━━━━━━━━━━━━━━━━━━━━━━━━╇━━━━━━━━━━━━╇━━━━━━━━━━━━━╇━━━━━━━━━━━━━╇━━━━━━━━━━━━╇━━━━━━━━━━━━━╇━━━━━━━━━━━━━┩\n",
       "│ DataFrame.groupby          │ 1          │ 3194.025    │ 3194.025    │ 0          │ 0.000       │ 0.000       │\n",
       "│ DataFrameGroupBy.aggregate │ 1          │ 0.159       │ 0.159       │ 0          │ 0.000       │ 0.000       │\n",
       "│ DataFrame.__repr__         │ 1          │ 0.115       │ 0.115       │ 0          │ 0.000       │ 0.000       │\n",
       "│ DataFrame._repr_html_      │ 0          │ 0.000       │ 0.000       │ 1          │ 0.028       │ 0.028       │\n",
       "│ NDFrame._repr_latex_       │ 0          │ 0.000       │ 0.000       │ 1          │ 0.011       │ 0.011       │\n",
       "└────────────────────────────┴────────────┴─────────────┴─────────────┴────────────┴─────────────┴─────────────┘\n",
       "</pre>\n"
      ],
      "text/plain": [
       "\u001b[3m                                                                                                                \u001b[0m\n",
       "\u001b[3m                                          Total time elapsed: 3194.712 seconds                                  \u001b[0m\n",
       "\u001b[3m                                        3 GPU function calls in 3194.299 seconds                                \u001b[0m\n",
       "\u001b[3m                                         2 CPU function calls in 0.038 seconds                                  \u001b[0m\n",
       "\u001b[3m                                                                                                                \u001b[0m\n",
       "\u001b[3m                                                         Stats                                                  \u001b[0m\n",
       "\u001b[3m                                                                                                                \u001b[0m\n",
       "┏━━━━━━━━━━━━━━━━━━━━━━━━━━━━┳━━━━━━━━━━━━┳━━━━━━━━━━━━━┳━━━━━━━━━━━━━┳━━━━━━━━━━━━┳━━━━━━━━━━━━━┳━━━━━━━━━━━━━┓\n",
       "┃\u001b[1m \u001b[0m\u001b[1mFunction                  \u001b[0m\u001b[1m \u001b[0m┃\u001b[1m \u001b[0m\u001b[1mGPU ncalls\u001b[0m\u001b[1m \u001b[0m┃\u001b[1m \u001b[0m\u001b[1mGPU cumtime\u001b[0m\u001b[1m \u001b[0m┃\u001b[1m \u001b[0m\u001b[1mGPU percall\u001b[0m\u001b[1m \u001b[0m┃\u001b[1m \u001b[0m\u001b[1mCPU ncalls\u001b[0m\u001b[1m \u001b[0m┃\u001b[1m \u001b[0m\u001b[1mCPU cumtime\u001b[0m\u001b[1m \u001b[0m┃\u001b[1m \u001b[0m\u001b[1mCPU percall\u001b[0m\u001b[1m \u001b[0m┃\n",
       "┡━━━━━━━━━━━━━━━━━━━━━━━━━━━━╇━━━━━━━━━━━━╇━━━━━━━━━━━━━╇━━━━━━━━━━━━━╇━━━━━━━━━━━━╇━━━━━━━━━━━━━╇━━━━━━━━━━━━━┩\n",
       "│ DataFrame.groupby          │ 1          │ 3194.025    │ 3194.025    │ 0          │ 0.000       │ 0.000       │\n",
       "│ DataFrameGroupBy.aggregate │ 1          │ 0.159       │ 0.159       │ 0          │ 0.000       │ 0.000       │\n",
       "│ DataFrame.__repr__         │ 1          │ 0.115       │ 0.115       │ 0          │ 0.000       │ 0.000       │\n",
       "│ DataFrame._repr_html_      │ 0          │ 0.000       │ 0.000       │ 1          │ 0.028       │ 0.028       │\n",
       "│ NDFrame._repr_latex_       │ 0          │ 0.000       │ 0.000       │ 1          │ 0.011       │ 0.011       │\n",
       "└────────────────────────────┴────────────┴─────────────┴─────────────┴────────────┴─────────────┴─────────────┘\n"
      ]
     },
     "metadata": {},
     "output_type": "display_data"
    },
    {
     "data": {
      "text/html": [
       "<pre style=\"white-space:pre;overflow-x:auto;line-height:normal;font-family:Menlo,'DejaVu Sans Mono',consolas,'Courier New',monospace\">Not all pandas operations ran on the GPU. The following functions required CPU fallback:\n",
       "\n",
       "- DataFrame._repr_html_\n",
       "- NDFrame._repr_latex_\n",
       "\n",
       "</pre>\n"
      ],
      "text/plain": [
       "Not all pandas operations ran on the GPU. The following functions required CPU fallback:\n",
       "\n",
       "- DataFrame._repr_html_\n",
       "- NDFrame._repr_latex_\n",
       "\n"
      ]
     },
     "metadata": {},
     "output_type": "display_data"
    },
    {
     "data": {
      "text/html": [
       "<pre style=\"white-space:pre;overflow-x:auto;line-height:normal;font-family:Menlo,'DejaVu Sans Mono',consolas,'Courier New',monospace\">To request GPU support for any of these functions, please file a Github issue here: \n",
       "<a href=\"https://github.com/rapidsai/cudf/issues/new?assignees=&labels=%3F+-+Needs+Triage%2C+feature+request&projects=&template=pandas_function_request.md&title=%5BFEA%5D\" target=\"_blank\"><span style=\"color: #0000ff; text-decoration-color: #0000ff; text-decoration: underline\">https://github.com/rapidsai/cudf/issues/new/choose</span></a><span style=\"color: #0000ff; text-decoration-color: #0000ff; text-decoration: underline\">.</span>\n",
       "</pre>\n"
      ],
      "text/plain": [
       "To request GPU support for any of these functions, please file a Github issue here: \n",
       "\u001b]8;id=240435;https://github.com/rapidsai/cudf/issues/new?assignees=&labels=%3F+-+Needs+Triage%2C+feature+request&projects=&template=pandas_function_request.md&title=%5BFEA%5D\u001b\\\u001b[4;94mhttps://github.com/rapidsai/cudf/issues/new/choose\u001b[0m\u001b]8;;\u001b\\\u001b[4;94m.\u001b[0m\n"
      ]
     },
     "metadata": {},
     "output_type": "display_data"
    }
   ],
   "source": [
    "%%cudf.pandas.profile\n",
    "# Aggregate-\n",
    "df_transactions.groupby(\n",
    "    [\"From Bank\"]).agg({\"Amount Received\":\"sum\"})"
   ]
  },
  {
   "cell_type": "markdown",
   "metadata": {},
   "source": [
    "Even group by slowed down considerably once managed memory was switched off."
   ]
  },
  {
   "cell_type": "markdown",
   "metadata": {},
   "source": [
    "# Summary\n",
    "\n",
    "With cudf.pandas, you can keep using pandas as your primary dataframe library. When things start to get a little slow, just load the `cudf.pandas` extension and enjoy the incredible speedups\n",
    "\n",
    "If you like Google Colab and want to get peak `cudf.pandas` performance to process even larger datasets, Google Colab's paid tier includes both L4 and A100 GPUs (in addition to the T4 GPU this demo notebook is using).\n",
    "\n",
    "To learn more about cudf.pandas, we encourage you to visit rapids.ai/cudf-pandas."
   ]
  },
  {
   "cell_type": "markdown",
   "metadata": {},
   "source": [
    "# Do you have any feedback for us?"
   ]
  },
  {
   "cell_type": "markdown",
   "metadata": {},
   "source": [
    "Fill this quick survey <a href=\"https://www.surveymonkey.com/r/TX3QQQR\">HERE</a>\n",
    "\n",
    "Raise an issue on our github repo <a href=\"https://github.com/rapidsai/cudf/issues\">HERE</a>"
   ]
  },
  {
   "cell_type": "code",
   "execution_count": null,
   "metadata": {},
   "outputs": [],
   "source": []
  }
 ],
 "metadata": {
  "kernelspec": {
   "display_name": "Rapids-24.08 demo",
   "language": "python",
   "name": "rapids_24.08_4aug"
  },
  "language_info": {
   "codemirror_mode": {
    "name": "ipython",
    "version": 3
   },
   "file_extension": ".py",
   "mimetype": "text/x-python",
   "name": "python",
   "nbconvert_exporter": "python",
   "pygments_lexer": "ipython3",
   "version": "3.11.9"
  }
 },
 "nbformat": 4,
 "nbformat_minor": 4
}
