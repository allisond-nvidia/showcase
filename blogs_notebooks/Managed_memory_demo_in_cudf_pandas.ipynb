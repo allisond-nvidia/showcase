{
  "cells": [
    {
      "cell_type": "markdown",
      "metadata": {
        "id": "SH_h6ci1Sx0u"
      },
      "source": [
        "# ⚠️ Verify your setup\n",
        "\n",
        "First, we'll verify that you are running with an NVIDIA GPU."
      ]
    },
    {
      "cell_type": "code",
      "execution_count": null,
      "metadata": {
        "colab": {
          "base_uri": "https://localhost:8080/"
        },
        "id": "Y2vPCtXcCvUR",
        "outputId": "6db3e918-c236-4cd4-9d23-8c8da3ba9d92",
        "tags": []
      },
      "outputs": [
        {
          "output_type": "stream",
          "name": "stdout",
          "text": [
            "Mon Nov 25 23:28:09 2024       \n",
            "+---------------------------------------------------------------------------------------+\n",
            "| NVIDIA-SMI 535.104.05             Driver Version: 535.104.05   CUDA Version: 12.2     |\n",
            "|-----------------------------------------+----------------------+----------------------+\n",
            "| GPU  Name                 Persistence-M | Bus-Id        Disp.A | Volatile Uncorr. ECC |\n",
            "| Fan  Temp   Perf          Pwr:Usage/Cap |         Memory-Usage | GPU-Util  Compute M. |\n",
            "|                                         |                      |               MIG M. |\n",
            "|=========================================+======================+======================|\n",
            "|   0  Tesla T4                       Off | 00000000:00:04.0 Off |                    0 |\n",
            "| N/A   72C    P8              12W /  70W |      0MiB / 15360MiB |      0%      Default |\n",
            "|                                         |                      |                  N/A |\n",
            "+-----------------------------------------+----------------------+----------------------+\n",
            "                                                                                         \n",
            "+---------------------------------------------------------------------------------------+\n",
            "| Processes:                                                                            |\n",
            "|  GPU   GI   CI        PID   Type   Process name                            GPU Memory |\n",
            "|        ID   ID                                                             Usage      |\n",
            "|=======================================================================================|\n",
            "|  No running processes found                                                           |\n",
            "+---------------------------------------------------------------------------------------+\n"
          ]
        }
      ],
      "source": [
        "!nvidia-smi  # this should display information about available GPUs"
      ]
    },
    {
      "cell_type": "markdown",
      "metadata": {
        "id": "4zGUeWvcTbDs"
      },
      "source": [
        "# Download the data\n",
        "\n",
        "The data we'll be working with is the [Parking Violations Issued - Fiscal Year 2022](https://data.cityofnewyork.us/City-Government/Parking-Violations-Issued-Fiscal-Year-2022/7mxj-7a6y) dataset from NYC Open Data.\n",
        "\n",
        "We're downloading a copy of this dataset from an s3 bucket hosted by NVIDIA to provide faster download speeds. We'll start by downloading the data. This should take about 30 seconds.\n",
        "\n",
        "## Data License and Terms\n",
        "As this dataset originates from the NYC Open Data Portal, it's governed by their license and terms of use.\n",
        "\n",
        "### Are there restrictions on how I can use Open Data?\n",
        "\n",
        "> Open Data belongs to all New Yorkers. There are no restrictions on the use of Open Data. Refer to Terms of Use for more information.\n",
        "\n",
        "### [Terms of Use](https://opendata.cityofnewyork.us/overview/#termsofuse)\n",
        "\n",
        "> By accessing datasets and feeds available through NYC Open Data, the user agrees to all of the Terms of Use of NYC.gov as well as the Privacy Policy for NYC.gov. The user also agrees to any additional terms of use defined by the agencies, bureaus, and offices providing data. Public data sets made available on NYC Open Data are provided for informational purposes. The City does not warranty the completeness, accuracy, content, or fitness for any particular purpose or use of any public data set made available on NYC Open Data, nor are any such warranties to be implied or inferred with respect to the public data sets furnished therein.\n",
        "\n",
        "> The City is not liable for any deficiencies in the completeness, accuracy, content, or fitness for any particular purpose or use of any public data set, or application utilizing such data set, provided by any third party.\n",
        "\n",
        "> Submitting City Agencies are the authoritative source of data available on NYC Open Data. These entities are responsible for data quality and retain version control of data sets and feeds accessed on the Site. Data may be updated, corrected, or refreshed at any time."
      ]
    },
    {
      "cell_type": "code",
      "execution_count": null,
      "metadata": {
        "colab": {
          "base_uri": "https://localhost:8080/"
        },
        "id": "5EoQqNwsTqeP",
        "outputId": "bd50dc0e-e49f-40a6-a127-a33340053634",
        "tags": []
      },
      "outputs": [
        {
          "output_type": "stream",
          "name": "stdout",
          "text": [
            "--2024-11-25 23:28:10--  https://data.rapids.ai/datasets/nyc_parking/nyc_parking_violations_2022.parquet\n",
            "Resolving data.rapids.ai (data.rapids.ai)... 13.225.4.33, 13.225.4.96, 13.225.4.58, ...\n",
            "Connecting to data.rapids.ai (data.rapids.ai)|13.225.4.33|:443... connected.\n",
            "HTTP request sent, awaiting response... 200 OK\n",
            "Length: 474211285 (452M) [binary/octet-stream]\n",
            "Saving to: ‘/tmp/nyc_parking_violations_2022.parquet’\n",
            "\n",
            "/tmp/nyc_parking_vi 100%[===================>] 452.24M   179MB/s    in 2.5s    \n",
            "\n",
            "2024-11-25 23:28:13 (179 MB/s) - ‘/tmp/nyc_parking_violations_2022.parquet’ saved [474211285/474211285]\n",
            "\n"
          ]
        }
      ],
      "source": [
        "!wget https://data.rapids.ai/datasets/nyc_parking/nyc_parking_violations_2022.parquet -O /tmp/nyc_parking_violations_2022.parquet"
      ]
    },
    {
      "cell_type": "markdown",
      "metadata": {
        "id": "hAvNFbYKWwti"
      },
      "source": [
        "# Let's try to load the file using just `cudf`"
      ]
    },
    {
      "cell_type": "code",
      "execution_count": null,
      "metadata": {
        "id": "SLRleX9xWxqX",
        "tags": []
      },
      "outputs": [],
      "source": [
        "import cudf"
      ]
    },
    {
      "cell_type": "code",
      "execution_count": null,
      "metadata": {
        "colab": {
          "base_uri": "https://localhost:8080/",
          "height": 206
        },
        "id": "OLatEi7rW0la",
        "outputId": "19f3f90a-55bf-437f-ae87-770d11fd9b2e",
        "tags": []
      },
      "outputs": [
        {
          "output_type": "execute_result",
          "data": {
            "text/plain": [
              "  Registration State Violation Description Vehicle Body Type  Issue Date  \\\n",
              "0                 NY                  <NA>               VAN  06/25/2021   \n",
              "1                 NY                  <NA>              SUBN  06/25/2021   \n",
              "2                 TX                  <NA>               SDN  06/17/2021   \n",
              "3                 MO                  <NA>               SDN  06/16/2021   \n",
              "4                 NY                  <NA>              TAXI  07/04/2021   \n",
              "\n",
              "   Summons Number  \n",
              "0      1457617912  \n",
              "1      1457617924  \n",
              "2      1457622427  \n",
              "3      1457638629  \n",
              "4      1457639580  "
            ],
            "text/html": [
              "<div>\n",
              "<style scoped>\n",
              "    .dataframe tbody tr th:only-of-type {\n",
              "        vertical-align: middle;\n",
              "    }\n",
              "\n",
              "    .dataframe tbody tr th {\n",
              "        vertical-align: top;\n",
              "    }\n",
              "\n",
              "    .dataframe thead th {\n",
              "        text-align: right;\n",
              "    }\n",
              "</style>\n",
              "<table border=\"1\" class=\"dataframe\">\n",
              "  <thead>\n",
              "    <tr style=\"text-align: right;\">\n",
              "      <th></th>\n",
              "      <th>Registration State</th>\n",
              "      <th>Violation Description</th>\n",
              "      <th>Vehicle Body Type</th>\n",
              "      <th>Issue Date</th>\n",
              "      <th>Summons Number</th>\n",
              "    </tr>\n",
              "  </thead>\n",
              "  <tbody>\n",
              "    <tr>\n",
              "      <th>0</th>\n",
              "      <td>NY</td>\n",
              "      <td>&lt;NA&gt;</td>\n",
              "      <td>VAN</td>\n",
              "      <td>06/25/2021</td>\n",
              "      <td>1457617912</td>\n",
              "    </tr>\n",
              "    <tr>\n",
              "      <th>1</th>\n",
              "      <td>NY</td>\n",
              "      <td>&lt;NA&gt;</td>\n",
              "      <td>SUBN</td>\n",
              "      <td>06/25/2021</td>\n",
              "      <td>1457617924</td>\n",
              "    </tr>\n",
              "    <tr>\n",
              "      <th>2</th>\n",
              "      <td>TX</td>\n",
              "      <td>&lt;NA&gt;</td>\n",
              "      <td>SDN</td>\n",
              "      <td>06/17/2021</td>\n",
              "      <td>1457622427</td>\n",
              "    </tr>\n",
              "    <tr>\n",
              "      <th>3</th>\n",
              "      <td>MO</td>\n",
              "      <td>&lt;NA&gt;</td>\n",
              "      <td>SDN</td>\n",
              "      <td>06/16/2021</td>\n",
              "      <td>1457638629</td>\n",
              "    </tr>\n",
              "    <tr>\n",
              "      <th>4</th>\n",
              "      <td>NY</td>\n",
              "      <td>&lt;NA&gt;</td>\n",
              "      <td>TAXI</td>\n",
              "      <td>07/04/2021</td>\n",
              "      <td>1457639580</td>\n",
              "    </tr>\n",
              "  </tbody>\n",
              "</table>\n",
              "</div>"
            ]
          },
          "metadata": {},
          "execution_count": 4
        }
      ],
      "source": [
        "# read 5 columns data:\n",
        "df = cudf.read_parquet(\n",
        "    \"/tmp/nyc_parking_violations_2022.parquet\",\n",
        "    columns=[\"Registration State\", \"Violation Description\", \"Vehicle Body Type\", \"Issue Date\", \"Summons Number\"]\n",
        ")\n",
        "\n",
        "\n",
        "df.head(5)"
      ]
    },
    {
      "cell_type": "markdown",
      "source": [
        "Performing a Join on `df` that is not quite taxing to the GPU memory works just fine."
      ],
      "metadata": {
        "id": "5YxsZ5oVqb2B"
      }
    },
    {
      "cell_type": "code",
      "source": [
        "df.merge(df, on=\"Summons Number\")"
      ],
      "metadata": {
        "colab": {
          "base_uri": "https://localhost:8080/",
          "height": 545
        },
        "id": "ZR9rb6HTkYxB",
        "outputId": "6a225f0b-3800-4411-8722-e44b237df410"
      },
      "execution_count": null,
      "outputs": [
        {
          "output_type": "execute_result",
          "data": {
            "text/plain": [
              "         Registration State_x         Violation Description_x  \\\n",
              "0                          WA                            <NA>   \n",
              "1                          TX                            <NA>   \n",
              "2                          NY                            <NA>   \n",
              "3                          NY                            <NA>   \n",
              "4                          NY                            <NA>   \n",
              "...                       ...                             ...   \n",
              "15435602                   NJ    16A-No Std (Com Veh) Non-COM   \n",
              "15435603                   NY                  10-No Stopping   \n",
              "15435604                   NY    16A-No Std (Com Veh) Non-COM   \n",
              "15435605                   NY    16A-No Std (Com Veh) Non-COM   \n",
              "15435606                   NY  70B-Impropr Dsply of Reg (NYS)   \n",
              "\n",
              "         Vehicle Body Type_x Issue Date_x  Summons Number  \\\n",
              "0                        SDN   06/15/2021      1478653530   \n",
              "1                       SUBN   07/10/2021      1478653577   \n",
              "2                        SDN   07/09/2021      1478653772   \n",
              "3                        SDN   07/09/2021      1478653784   \n",
              "4                       SUBN   07/10/2021      1478653978   \n",
              "...                      ...          ...             ...   \n",
              "15435602                4DSD   06/06/2022      8991294911   \n",
              "15435603                4DSD   06/03/2022      8991294819   \n",
              "15435604                MOPD   06/06/2022      8991294856   \n",
              "15435605                SUBN   06/06/2022      8991294870   \n",
              "15435606                4DSD   06/03/2022      8991294583   \n",
              "\n",
              "         Registration State_y         Violation Description_y  \\\n",
              "0                          WA                            <NA>   \n",
              "1                          TX                            <NA>   \n",
              "2                          NY                            <NA>   \n",
              "3                          NY                            <NA>   \n",
              "4                          NY                            <NA>   \n",
              "...                       ...                             ...   \n",
              "15435602                   NJ    16A-No Std (Com Veh) Non-COM   \n",
              "15435603                   NY                  10-No Stopping   \n",
              "15435604                   NY    16A-No Std (Com Veh) Non-COM   \n",
              "15435605                   NY    16A-No Std (Com Veh) Non-COM   \n",
              "15435606                   NY  70B-Impropr Dsply of Reg (NYS)   \n",
              "\n",
              "         Vehicle Body Type_y Issue Date_y  \n",
              "0                        SDN   06/15/2021  \n",
              "1                       SUBN   07/10/2021  \n",
              "2                        SDN   07/09/2021  \n",
              "3                        SDN   07/09/2021  \n",
              "4                       SUBN   07/10/2021  \n",
              "...                      ...          ...  \n",
              "15435602                4DSD   06/06/2022  \n",
              "15435603                4DSD   06/03/2022  \n",
              "15435604                MOPD   06/06/2022  \n",
              "15435605                SUBN   06/06/2022  \n",
              "15435606                4DSD   06/03/2022  \n",
              "\n",
              "[15435607 rows x 9 columns]"
            ],
            "text/html": [
              "<div>\n",
              "<style scoped>\n",
              "    .dataframe tbody tr th:only-of-type {\n",
              "        vertical-align: middle;\n",
              "    }\n",
              "\n",
              "    .dataframe tbody tr th {\n",
              "        vertical-align: top;\n",
              "    }\n",
              "\n",
              "    .dataframe thead th {\n",
              "        text-align: right;\n",
              "    }\n",
              "</style>\n",
              "<table border=\"1\" class=\"dataframe\">\n",
              "  <thead>\n",
              "    <tr style=\"text-align: right;\">\n",
              "      <th></th>\n",
              "      <th>Registration State_x</th>\n",
              "      <th>Violation Description_x</th>\n",
              "      <th>Vehicle Body Type_x</th>\n",
              "      <th>Issue Date_x</th>\n",
              "      <th>Summons Number</th>\n",
              "      <th>Registration State_y</th>\n",
              "      <th>Violation Description_y</th>\n",
              "      <th>Vehicle Body Type_y</th>\n",
              "      <th>Issue Date_y</th>\n",
              "    </tr>\n",
              "  </thead>\n",
              "  <tbody>\n",
              "    <tr>\n",
              "      <th>0</th>\n",
              "      <td>WA</td>\n",
              "      <td>&lt;NA&gt;</td>\n",
              "      <td>SDN</td>\n",
              "      <td>06/15/2021</td>\n",
              "      <td>1478653530</td>\n",
              "      <td>WA</td>\n",
              "      <td>&lt;NA&gt;</td>\n",
              "      <td>SDN</td>\n",
              "      <td>06/15/2021</td>\n",
              "    </tr>\n",
              "    <tr>\n",
              "      <th>1</th>\n",
              "      <td>TX</td>\n",
              "      <td>&lt;NA&gt;</td>\n",
              "      <td>SUBN</td>\n",
              "      <td>07/10/2021</td>\n",
              "      <td>1478653577</td>\n",
              "      <td>TX</td>\n",
              "      <td>&lt;NA&gt;</td>\n",
              "      <td>SUBN</td>\n",
              "      <td>07/10/2021</td>\n",
              "    </tr>\n",
              "    <tr>\n",
              "      <th>2</th>\n",
              "      <td>NY</td>\n",
              "      <td>&lt;NA&gt;</td>\n",
              "      <td>SDN</td>\n",
              "      <td>07/09/2021</td>\n",
              "      <td>1478653772</td>\n",
              "      <td>NY</td>\n",
              "      <td>&lt;NA&gt;</td>\n",
              "      <td>SDN</td>\n",
              "      <td>07/09/2021</td>\n",
              "    </tr>\n",
              "    <tr>\n",
              "      <th>3</th>\n",
              "      <td>NY</td>\n",
              "      <td>&lt;NA&gt;</td>\n",
              "      <td>SDN</td>\n",
              "      <td>07/09/2021</td>\n",
              "      <td>1478653784</td>\n",
              "      <td>NY</td>\n",
              "      <td>&lt;NA&gt;</td>\n",
              "      <td>SDN</td>\n",
              "      <td>07/09/2021</td>\n",
              "    </tr>\n",
              "    <tr>\n",
              "      <th>4</th>\n",
              "      <td>NY</td>\n",
              "      <td>&lt;NA&gt;</td>\n",
              "      <td>SUBN</td>\n",
              "      <td>07/10/2021</td>\n",
              "      <td>1478653978</td>\n",
              "      <td>NY</td>\n",
              "      <td>&lt;NA&gt;</td>\n",
              "      <td>SUBN</td>\n",
              "      <td>07/10/2021</td>\n",
              "    </tr>\n",
              "    <tr>\n",
              "      <th>...</th>\n",
              "      <td>...</td>\n",
              "      <td>...</td>\n",
              "      <td>...</td>\n",
              "      <td>...</td>\n",
              "      <td>...</td>\n",
              "      <td>...</td>\n",
              "      <td>...</td>\n",
              "      <td>...</td>\n",
              "      <td>...</td>\n",
              "    </tr>\n",
              "    <tr>\n",
              "      <th>15435602</th>\n",
              "      <td>NJ</td>\n",
              "      <td>16A-No Std (Com Veh) Non-COM</td>\n",
              "      <td>4DSD</td>\n",
              "      <td>06/06/2022</td>\n",
              "      <td>8991294911</td>\n",
              "      <td>NJ</td>\n",
              "      <td>16A-No Std (Com Veh) Non-COM</td>\n",
              "      <td>4DSD</td>\n",
              "      <td>06/06/2022</td>\n",
              "    </tr>\n",
              "    <tr>\n",
              "      <th>15435603</th>\n",
              "      <td>NY</td>\n",
              "      <td>10-No Stopping</td>\n",
              "      <td>4DSD</td>\n",
              "      <td>06/03/2022</td>\n",
              "      <td>8991294819</td>\n",
              "      <td>NY</td>\n",
              "      <td>10-No Stopping</td>\n",
              "      <td>4DSD</td>\n",
              "      <td>06/03/2022</td>\n",
              "    </tr>\n",
              "    <tr>\n",
              "      <th>15435604</th>\n",
              "      <td>NY</td>\n",
              "      <td>16A-No Std (Com Veh) Non-COM</td>\n",
              "      <td>MOPD</td>\n",
              "      <td>06/06/2022</td>\n",
              "      <td>8991294856</td>\n",
              "      <td>NY</td>\n",
              "      <td>16A-No Std (Com Veh) Non-COM</td>\n",
              "      <td>MOPD</td>\n",
              "      <td>06/06/2022</td>\n",
              "    </tr>\n",
              "    <tr>\n",
              "      <th>15435605</th>\n",
              "      <td>NY</td>\n",
              "      <td>16A-No Std (Com Veh) Non-COM</td>\n",
              "      <td>SUBN</td>\n",
              "      <td>06/06/2022</td>\n",
              "      <td>8991294870</td>\n",
              "      <td>NY</td>\n",
              "      <td>16A-No Std (Com Veh) Non-COM</td>\n",
              "      <td>SUBN</td>\n",
              "      <td>06/06/2022</td>\n",
              "    </tr>\n",
              "    <tr>\n",
              "      <th>15435606</th>\n",
              "      <td>NY</td>\n",
              "      <td>70B-Impropr Dsply of Reg (NYS)</td>\n",
              "      <td>4DSD</td>\n",
              "      <td>06/03/2022</td>\n",
              "      <td>8991294583</td>\n",
              "      <td>NY</td>\n",
              "      <td>70B-Impropr Dsply of Reg (NYS)</td>\n",
              "      <td>4DSD</td>\n",
              "      <td>06/03/2022</td>\n",
              "    </tr>\n",
              "  </tbody>\n",
              "</table>\n",
              "<p>15435607 rows × 9 columns</p>\n",
              "</div>"
            ]
          },
          "metadata": {},
          "execution_count": 5
        }
      ]
    },
    {
      "cell_type": "markdown",
      "source": [
        "# Let's try performing a join on a data-frame that's double the size"
      ],
      "metadata": {
        "id": "EFfm9rojcCfO"
      }
    },
    {
      "cell_type": "code",
      "source": [
        "new_df = cudf.concat([df, df])"
      ],
      "metadata": {
        "id": "gJ7itISjofUl"
      },
      "execution_count": null,
      "outputs": []
    },
    {
      "cell_type": "markdown",
      "source": [
        "Performing a join requires additional intermediate memory which the GPU ran out of, and thus a `MemoryError` is raised."
      ],
      "metadata": {
        "id": "k9oazmPfrPEo"
      }
    },
    {
      "cell_type": "code",
      "source": [
        "new_df.merge(new_df, on=\"Summons Number\")"
      ],
      "metadata": {
        "colab": {
          "base_uri": "https://localhost:8080/",
          "height": 418
        },
        "id": "vgMk8ALKlWQ-",
        "outputId": "5588d259-492e-44e2-fd5a-c09667e079fc"
      },
      "execution_count": null,
      "outputs": [
        {
          "output_type": "error",
          "ename": "MemoryError",
          "evalue": "std::bad_alloc: out_of_memory: CUDA error at: /tmp/pip-build-env-z8x7r21l/normal/lib/python3.12/site-packages/librmm/include/rmm/mr/device/cuda_memory_resource.hpp:62: cudaErrorMemoryAllocation out of memory",
          "traceback": [
            "\u001b[0;31m---------------------------------------------------------------------------\u001b[0m",
            "\u001b[0;31mMemoryError\u001b[0m                               Traceback (most recent call last)",
            "\u001b[0;32m<ipython-input-9-ae6585b03489>\u001b[0m in \u001b[0;36m<cell line: 1>\u001b[0;34m()\u001b[0m\n\u001b[0;32m----> 1\u001b[0;31m \u001b[0mnew_df\u001b[0m\u001b[0;34m.\u001b[0m\u001b[0mmerge\u001b[0m\u001b[0;34m(\u001b[0m\u001b[0mnew_df\u001b[0m\u001b[0;34m,\u001b[0m \u001b[0mon\u001b[0m\u001b[0;34m=\u001b[0m\u001b[0;34m\"Summons Number\"\u001b[0m\u001b[0;34m)\u001b[0m\u001b[0;34m\u001b[0m\u001b[0;34m\u001b[0m\u001b[0m\n\u001b[0m",
            "\u001b[0;32m/usr/local/lib/python3.10/dist-packages/cudf/utils/performance_tracking.py\u001b[0m in \u001b[0;36mwrapper\u001b[0;34m(*args, **kwargs)\u001b[0m\n\u001b[1;32m     49\u001b[0m                     )\n\u001b[1;32m     50\u001b[0m                 )\n\u001b[0;32m---> 51\u001b[0;31m             \u001b[0;32mreturn\u001b[0m \u001b[0mfunc\u001b[0m\u001b[0;34m(\u001b[0m\u001b[0;34m*\u001b[0m\u001b[0margs\u001b[0m\u001b[0;34m,\u001b[0m \u001b[0;34m**\u001b[0m\u001b[0mkwargs\u001b[0m\u001b[0;34m)\u001b[0m\u001b[0;34m\u001b[0m\u001b[0;34m\u001b[0m\u001b[0m\n\u001b[0m\u001b[1;32m     52\u001b[0m \u001b[0;34m\u001b[0m\u001b[0m\n\u001b[1;32m     53\u001b[0m     \u001b[0;32mreturn\u001b[0m \u001b[0mwrapper\u001b[0m\u001b[0;34m\u001b[0m\u001b[0;34m\u001b[0m\u001b[0m\n",
            "\u001b[0;32m/usr/local/lib/python3.10/dist-packages/cudf/core/dataframe.py\u001b[0m in \u001b[0;36mmerge\u001b[0;34m(self, right, how, on, left_on, right_on, left_index, right_index, sort, suffixes, indicator, validate)\u001b[0m\n\u001b[1;32m   4297\u001b[0m             \u001b[0mindicator\u001b[0m\u001b[0;34m=\u001b[0m\u001b[0mindicator\u001b[0m\u001b[0;34m,\u001b[0m\u001b[0;34m\u001b[0m\u001b[0;34m\u001b[0m\u001b[0m\n\u001b[1;32m   4298\u001b[0m             \u001b[0msuffixes\u001b[0m\u001b[0;34m=\u001b[0m\u001b[0msuffixes\u001b[0m\u001b[0;34m,\u001b[0m\u001b[0;34m\u001b[0m\u001b[0;34m\u001b[0m\u001b[0m\n\u001b[0;32m-> 4299\u001b[0;31m         ).perform_merge()\n\u001b[0m\u001b[1;32m   4300\u001b[0m \u001b[0;34m\u001b[0m\u001b[0m\n\u001b[1;32m   4301\u001b[0m     \u001b[0;34m@\u001b[0m\u001b[0m_performance_tracking\u001b[0m\u001b[0;34m\u001b[0m\u001b[0;34m\u001b[0m\u001b[0m\n",
            "\u001b[0;32m/usr/local/lib/python3.10/dist-packages/cudf/core/join/join.py\u001b[0m in \u001b[0;36mperform_merge\u001b[0;34m(self)\u001b[0m\n\u001b[1;32m    287\u001b[0m         }\n\u001b[1;32m    288\u001b[0m         left_result = (\n\u001b[0;32m--> 289\u001b[0;31m             self.lhs._gather(\n\u001b[0m\u001b[1;32m    290\u001b[0m                 GatherMap.from_column_unchecked(\n\u001b[1;32m    291\u001b[0m                     \u001b[0mleft_rows\u001b[0m\u001b[0;34m,\u001b[0m \u001b[0mlen\u001b[0m\u001b[0;34m(\u001b[0m\u001b[0mself\u001b[0m\u001b[0;34m.\u001b[0m\u001b[0mlhs\u001b[0m\u001b[0;34m)\u001b[0m\u001b[0;34m,\u001b[0m \u001b[0mnullify\u001b[0m\u001b[0;34m=\u001b[0m\u001b[0;32mTrue\u001b[0m\u001b[0;34m\u001b[0m\u001b[0;34m\u001b[0m\u001b[0m\n",
            "\u001b[0;32m/usr/local/lib/python3.10/dist-packages/cudf/core/indexed_frame.py\u001b[0m in \u001b[0;36m_gather\u001b[0;34m(self, gather_map, keep_index)\u001b[0m\n\u001b[1;32m   2919\u001b[0m             \u001b[0;32mraise\u001b[0m \u001b[0mIndexError\u001b[0m\u001b[0;34m(\u001b[0m\u001b[0;34m\"Gather map is out of bounds\"\u001b[0m\u001b[0;34m)\u001b[0m\u001b[0;34m\u001b[0m\u001b[0;34m\u001b[0m\u001b[0m\n\u001b[1;32m   2920\u001b[0m         return self._from_columns_like_self(\n\u001b[0;32m-> 2921\u001b[0;31m             libcudf.copying.gather(\n\u001b[0m\u001b[1;32m   2922\u001b[0m                 \u001b[0mlist\u001b[0m\u001b[0;34m(\u001b[0m\u001b[0mself\u001b[0m\u001b[0;34m.\u001b[0m\u001b[0mindex\u001b[0m\u001b[0;34m.\u001b[0m\u001b[0m_columns\u001b[0m \u001b[0;34m+\u001b[0m \u001b[0mself\u001b[0m\u001b[0;34m.\u001b[0m\u001b[0m_columns\u001b[0m\u001b[0;34m)\u001b[0m\u001b[0;34m\u001b[0m\u001b[0;34m\u001b[0m\u001b[0m\n\u001b[1;32m   2923\u001b[0m                 \u001b[0;32mif\u001b[0m \u001b[0mkeep_index\u001b[0m\u001b[0;34m\u001b[0m\u001b[0;34m\u001b[0m\u001b[0m\n",
            "\u001b[0;32m/usr/lib/python3.10/contextlib.py\u001b[0m in \u001b[0;36minner\u001b[0;34m(*args, **kwds)\u001b[0m\n\u001b[1;32m     77\u001b[0m         \u001b[0;32mdef\u001b[0m \u001b[0minner\u001b[0m\u001b[0;34m(\u001b[0m\u001b[0;34m*\u001b[0m\u001b[0margs\u001b[0m\u001b[0;34m,\u001b[0m \u001b[0;34m**\u001b[0m\u001b[0mkwds\u001b[0m\u001b[0;34m)\u001b[0m\u001b[0;34m:\u001b[0m\u001b[0;34m\u001b[0m\u001b[0;34m\u001b[0m\u001b[0m\n\u001b[1;32m     78\u001b[0m             \u001b[0;32mwith\u001b[0m \u001b[0mself\u001b[0m\u001b[0;34m.\u001b[0m\u001b[0m_recreate_cm\u001b[0m\u001b[0;34m(\u001b[0m\u001b[0;34m)\u001b[0m\u001b[0;34m:\u001b[0m\u001b[0;34m\u001b[0m\u001b[0;34m\u001b[0m\u001b[0m\n\u001b[0;32m---> 79\u001b[0;31m                 \u001b[0;32mreturn\u001b[0m \u001b[0mfunc\u001b[0m\u001b[0;34m(\u001b[0m\u001b[0;34m*\u001b[0m\u001b[0margs\u001b[0m\u001b[0;34m,\u001b[0m \u001b[0;34m**\u001b[0m\u001b[0mkwds\u001b[0m\u001b[0;34m)\u001b[0m\u001b[0;34m\u001b[0m\u001b[0;34m\u001b[0m\u001b[0m\n\u001b[0m\u001b[1;32m     80\u001b[0m         \u001b[0;32mreturn\u001b[0m \u001b[0minner\u001b[0m\u001b[0;34m\u001b[0m\u001b[0;34m\u001b[0m\u001b[0m\n\u001b[1;32m     81\u001b[0m \u001b[0;34m\u001b[0m\u001b[0m\n",
            "\u001b[0;32mcopying.pyx\u001b[0m in \u001b[0;36mcudf._lib.copying.gather\u001b[0;34m()\u001b[0m\n",
            "\u001b[0;32mcopying.pyx\u001b[0m in \u001b[0;36mpylibcudf.copying.gather\u001b[0;34m()\u001b[0m\n",
            "\u001b[0;32mcopying.pyx\u001b[0m in \u001b[0;36mpylibcudf.copying.gather\u001b[0;34m()\u001b[0m\n",
            "\u001b[0;31mMemoryError\u001b[0m: std::bad_alloc: out_of_memory: CUDA error at: /tmp/pip-build-env-z8x7r21l/normal/lib/python3.12/site-packages/librmm/include/rmm/mr/device/cuda_memory_resource.hpp:62: cudaErrorMemoryAllocation out of memory"
          ]
        }
      ]
    },
    {
      "cell_type": "markdown",
      "source": [
        "# Stepping it up even more with a very large dataframe"
      ],
      "metadata": {
        "id": "rhVJITKysKm9"
      }
    },
    {
      "cell_type": "code",
      "source": [
        "new_df = cudf.concat([df, df, df, df, df, df[:int(len(df)/2)]])"
      ],
      "metadata": {
        "id": "PyOgG3wGWaf4"
      },
      "execution_count": null,
      "outputs": []
    },
    {
      "cell_type": "markdown",
      "source": [
        "Let's try to write this huge dataframe back into a parquet file, notice that here we run into Memory Error. The reason for this error is the dataframe needs roughly 3x more memory on GPU to encode to write it to a file and thus the memory error."
      ],
      "metadata": {
        "id": "BYpbokzKcGuz"
      }
    },
    {
      "cell_type": "code",
      "source": [
        "new_df.to_parquet(\"larger_df.parquet\")"
      ],
      "metadata": {
        "colab": {
          "base_uri": "https://localhost:8080/",
          "height": 347
        },
        "id": "fO2NYi1FZqb9",
        "outputId": "cffdd651-5f82-4ace-b127-ff56dcdcc3aa"
      },
      "execution_count": null,
      "outputs": [
        {
          "output_type": "error",
          "ename": "MemoryError",
          "evalue": "std::bad_alloc: out_of_memory: CUDA error at: /tmp/pip-build-env-z8x7r21l/normal/lib/python3.12/site-packages/librmm/include/rmm/mr/device/cuda_memory_resource.hpp:62: cudaErrorMemoryAllocation out of memory",
          "traceback": [
            "\u001b[0;31m---------------------------------------------------------------------------\u001b[0m",
            "\u001b[0;31mMemoryError\u001b[0m                               Traceback (most recent call last)",
            "\u001b[0;32m<ipython-input-7-04cf8fdc4a1a>\u001b[0m in \u001b[0;36m<cell line: 1>\u001b[0;34m()\u001b[0m\n\u001b[0;32m----> 1\u001b[0;31m \u001b[0mnew_df\u001b[0m\u001b[0;34m.\u001b[0m\u001b[0mto_parquet\u001b[0m\u001b[0;34m(\u001b[0m\u001b[0;34m\"larger_df.parquet\"\u001b[0m\u001b[0;34m)\u001b[0m\u001b[0;34m\u001b[0m\u001b[0;34m\u001b[0m\u001b[0m\n\u001b[0m",
            "\u001b[0;32m/usr/local/lib/python3.10/dist-packages/cudf/core/dataframe.py\u001b[0m in \u001b[0;36mto_parquet\u001b[0;34m(self, path, engine, compression, index, partition_cols, partition_file_name, partition_offsets, statistics, metadata_file_path, int96_timestamps, row_group_size_bytes, row_group_size_rows, max_page_size_bytes, max_page_size_rows, storage_options, return_metadata, use_dictionary, header_version, skip_compression, column_encoding, column_type_length, output_as_binary, *args, **kwargs)\u001b[0m\n\u001b[1;32m   6859\u001b[0m         \u001b[0;32mfrom\u001b[0m \u001b[0mcudf\u001b[0m\u001b[0;34m.\u001b[0m\u001b[0mio\u001b[0m \u001b[0;32mimport\u001b[0m \u001b[0mparquet\u001b[0m\u001b[0;34m\u001b[0m\u001b[0;34m\u001b[0m\u001b[0m\n\u001b[1;32m   6860\u001b[0m \u001b[0;34m\u001b[0m\u001b[0m\n\u001b[0;32m-> 6861\u001b[0;31m         return parquet.to_parquet(\n\u001b[0m\u001b[1;32m   6862\u001b[0m             \u001b[0mself\u001b[0m\u001b[0;34m,\u001b[0m\u001b[0;34m\u001b[0m\u001b[0;34m\u001b[0m\u001b[0m\n\u001b[1;32m   6863\u001b[0m             \u001b[0mpath\u001b[0m\u001b[0;34m=\u001b[0m\u001b[0mpath\u001b[0m\u001b[0;34m,\u001b[0m\u001b[0;34m\u001b[0m\u001b[0;34m\u001b[0m\u001b[0m\n",
            "\u001b[0;32m/usr/local/lib/python3.10/dist-packages/cudf/utils/performance_tracking.py\u001b[0m in \u001b[0;36mwrapper\u001b[0;34m(*args, **kwargs)\u001b[0m\n\u001b[1;32m     49\u001b[0m                     )\n\u001b[1;32m     50\u001b[0m                 )\n\u001b[0;32m---> 51\u001b[0;31m             \u001b[0;32mreturn\u001b[0m \u001b[0mfunc\u001b[0m\u001b[0;34m(\u001b[0m\u001b[0;34m*\u001b[0m\u001b[0margs\u001b[0m\u001b[0;34m,\u001b[0m \u001b[0;34m**\u001b[0m\u001b[0mkwargs\u001b[0m\u001b[0;34m)\u001b[0m\u001b[0;34m\u001b[0m\u001b[0;34m\u001b[0m\u001b[0m\n\u001b[0m\u001b[1;32m     52\u001b[0m \u001b[0;34m\u001b[0m\u001b[0m\n\u001b[1;32m     53\u001b[0m     \u001b[0;32mreturn\u001b[0m \u001b[0mwrapper\u001b[0m\u001b[0;34m\u001b[0m\u001b[0;34m\u001b[0m\u001b[0m\n",
            "\u001b[0;32m/usr/local/lib/python3.10/dist-packages/cudf/io/parquet.py\u001b[0m in \u001b[0;36mto_parquet\u001b[0;34m(df, path, engine, compression, index, partition_cols, partition_file_name, partition_offsets, statistics, metadata_file_path, int96_timestamps, row_group_size_bytes, row_group_size_rows, max_page_size_bytes, max_page_size_rows, max_dictionary_size, storage_options, return_metadata, force_nullable_schema, header_version, use_dictionary, skip_compression, column_encoding, column_type_length, output_as_binary, store_schema, *args, **kwargs)\u001b[0m\n\u001b[1;32m   1062\u001b[0m             \u001b[0;32melse\u001b[0m \u001b[0;32mNone\u001b[0m\u001b[0;34m\u001b[0m\u001b[0;34m\u001b[0m\u001b[0m\n\u001b[1;32m   1063\u001b[0m         )\n\u001b[0;32m-> 1064\u001b[0;31m         return _write_parquet(\n\u001b[0m\u001b[1;32m   1065\u001b[0m             \u001b[0mdf\u001b[0m\u001b[0;34m,\u001b[0m\u001b[0;34m\u001b[0m\u001b[0;34m\u001b[0m\u001b[0m\n\u001b[1;32m   1066\u001b[0m             \u001b[0mpaths\u001b[0m\u001b[0;34m=\u001b[0m\u001b[0mpath\u001b[0m \u001b[0;32mif\u001b[0m \u001b[0mis_list_like\u001b[0m\u001b[0;34m(\u001b[0m\u001b[0mpath\u001b[0m\u001b[0;34m)\u001b[0m \u001b[0;32melse\u001b[0m \u001b[0;34m[\u001b[0m\u001b[0mpath\u001b[0m\u001b[0;34m]\u001b[0m\u001b[0;34m,\u001b[0m\u001b[0;34m\u001b[0m\u001b[0;34m\u001b[0m\u001b[0m\n",
            "\u001b[0;32m/usr/local/lib/python3.10/dist-packages/cudf/utils/performance_tracking.py\u001b[0m in \u001b[0;36mwrapper\u001b[0;34m(*args, **kwargs)\u001b[0m\n\u001b[1;32m     49\u001b[0m                     )\n\u001b[1;32m     50\u001b[0m                 )\n\u001b[0;32m---> 51\u001b[0;31m             \u001b[0;32mreturn\u001b[0m \u001b[0mfunc\u001b[0m\u001b[0;34m(\u001b[0m\u001b[0;34m*\u001b[0m\u001b[0margs\u001b[0m\u001b[0;34m,\u001b[0m \u001b[0;34m**\u001b[0m\u001b[0mkwargs\u001b[0m\u001b[0;34m)\u001b[0m\u001b[0;34m\u001b[0m\u001b[0;34m\u001b[0m\u001b[0m\n\u001b[0m\u001b[1;32m     52\u001b[0m \u001b[0;34m\u001b[0m\u001b[0m\n\u001b[1;32m     53\u001b[0m     \u001b[0;32mreturn\u001b[0m \u001b[0mwrapper\u001b[0m\u001b[0;34m\u001b[0m\u001b[0;34m\u001b[0m\u001b[0m\n",
            "\u001b[0;32m/usr/local/lib/python3.10/dist-packages/cudf/io/parquet.py\u001b[0m in \u001b[0;36m_write_parquet\u001b[0;34m(df, paths, compression, index, statistics, metadata_file_path, int96_timestamps, row_group_size_bytes, row_group_size_rows, max_page_size_bytes, max_page_size_rows, max_dictionary_size, partitions_info, storage_options, force_nullable_schema, header_version, use_dictionary, skip_compression, column_encoding, column_type_length, output_as_binary, write_arrow_schema)\u001b[0m\n\u001b[1;32m    129\u001b[0m             )\n\u001b[1;32m    130\u001b[0m     \u001b[0;32melse\u001b[0m\u001b[0;34m:\u001b[0m\u001b[0;34m\u001b[0m\u001b[0;34m\u001b[0m\u001b[0m\n\u001b[0;32m--> 131\u001b[0;31m         write_parquet_res = libparquet.write_parquet(\n\u001b[0m\u001b[1;32m    132\u001b[0m             \u001b[0mdf\u001b[0m\u001b[0;34m,\u001b[0m \u001b[0mfilepaths_or_buffers\u001b[0m\u001b[0;34m=\u001b[0m\u001b[0mpaths_or_bufs\u001b[0m\u001b[0;34m,\u001b[0m \u001b[0;34m**\u001b[0m\u001b[0mcommon_args\u001b[0m\u001b[0;34m\u001b[0m\u001b[0;34m\u001b[0m\u001b[0m\n\u001b[1;32m    133\u001b[0m         )\n",
            "\u001b[0;32m/usr/lib/python3.10/contextlib.py\u001b[0m in \u001b[0;36minner\u001b[0;34m(*args, **kwds)\u001b[0m\n\u001b[1;32m     77\u001b[0m         \u001b[0;32mdef\u001b[0m \u001b[0minner\u001b[0m\u001b[0;34m(\u001b[0m\u001b[0;34m*\u001b[0m\u001b[0margs\u001b[0m\u001b[0;34m,\u001b[0m \u001b[0;34m**\u001b[0m\u001b[0mkwds\u001b[0m\u001b[0;34m)\u001b[0m\u001b[0;34m:\u001b[0m\u001b[0;34m\u001b[0m\u001b[0;34m\u001b[0m\u001b[0m\n\u001b[1;32m     78\u001b[0m             \u001b[0;32mwith\u001b[0m \u001b[0mself\u001b[0m\u001b[0;34m.\u001b[0m\u001b[0m_recreate_cm\u001b[0m\u001b[0;34m(\u001b[0m\u001b[0;34m)\u001b[0m\u001b[0;34m:\u001b[0m\u001b[0;34m\u001b[0m\u001b[0;34m\u001b[0m\u001b[0m\n\u001b[0;32m---> 79\u001b[0;31m                 \u001b[0;32mreturn\u001b[0m \u001b[0mfunc\u001b[0m\u001b[0;34m(\u001b[0m\u001b[0;34m*\u001b[0m\u001b[0margs\u001b[0m\u001b[0;34m,\u001b[0m \u001b[0;34m**\u001b[0m\u001b[0mkwds\u001b[0m\u001b[0;34m)\u001b[0m\u001b[0;34m\u001b[0m\u001b[0;34m\u001b[0m\u001b[0m\n\u001b[0m\u001b[1;32m     80\u001b[0m         \u001b[0;32mreturn\u001b[0m \u001b[0minner\u001b[0m\u001b[0;34m\u001b[0m\u001b[0;34m\u001b[0m\u001b[0m\n\u001b[1;32m     81\u001b[0m \u001b[0;34m\u001b[0m\u001b[0m\n",
            "\u001b[0;32mparquet.pyx\u001b[0m in \u001b[0;36mcudf._lib.parquet.write_parquet\u001b[0;34m()\u001b[0m\n",
            "\u001b[0;31mMemoryError\u001b[0m: std::bad_alloc: out_of_memory: CUDA error at: /tmp/pip-build-env-z8x7r21l/normal/lib/python3.12/site-packages/librmm/include/rmm/mr/device/cuda_memory_resource.hpp:62: cudaErrorMemoryAllocation out of memory"
          ]
        }
      ]
    },
    {
      "cell_type": "markdown",
      "metadata": {
        "id": "VgAWS0yXXtGj"
      },
      "source": [
        "# Using cudf.pandas\n",
        "\n",
        "Now, let's re-run the Pandas code above with the `cudf.pandas` extension loaded.\n",
        "\n",
        "**Note:\n",
        "Typically, you should load the `cudf.pandas` extension as the first step in your notebook, before importing any modules. Here, we explicitly restart the kernel to simulate that behavior.**\n"
      ]
    },
    {
      "cell_type": "code",
      "execution_count": null,
      "metadata": {
        "colab": {
          "base_uri": "https://localhost:8080/"
        },
        "id": "hW5rUr2tXzUW",
        "outputId": "7d3f0962-96c5-44e0-bcb1-93c6a16d23da"
      },
      "outputs": [
        {
          "output_type": "execute_result",
          "data": {
            "text/plain": [
              "{'status': 'ok', 'restart': True}"
            ]
          },
          "metadata": {},
          "execution_count": 10
        }
      ],
      "source": [
        "get_ipython().kernel.do_shutdown(restart=True)"
      ]
    },
    {
      "cell_type": "code",
      "execution_count": null,
      "metadata": {
        "id": "NjvPsTlGZrW7"
      },
      "outputs": [],
      "source": [
        "%load_ext cudf.pandas"
      ]
    },
    {
      "cell_type": "markdown",
      "source": [
        "`cudf.pandas` make use of cuda managed memory that will utilize both GPU and CPU memory whenever GPU falls short of memory."
      ],
      "metadata": {
        "id": "Afe6WpgHsuj_"
      }
    },
    {
      "cell_type": "code",
      "source": [
        "import pandas as pd"
      ],
      "metadata": {
        "id": "Zo7zi3tTzpcV"
      },
      "execution_count": null,
      "outputs": []
    },
    {
      "cell_type": "code",
      "source": [
        "df = pd.read_parquet(\n",
        "    \"/tmp/nyc_parking_violations_2022.parquet\",\n",
        "    columns=[\"Registration State\", \"Violation Description\", \"Vehicle Body Type\", \"Issue Date\", \"Summons Number\"],\n",
        ")\n"
      ],
      "metadata": {
        "id": "R4i-BmEGzsDk"
      },
      "execution_count": null,
      "outputs": []
    },
    {
      "cell_type": "code",
      "source": [
        "df.head(5)"
      ],
      "metadata": {
        "id": "b7NMTz9tz2pc",
        "outputId": "a0e4b6a8-ab91-4339-e920-ee634f655011",
        "colab": {
          "base_uri": "https://localhost:8080/",
          "height": 206
        }
      },
      "execution_count": null,
      "outputs": [
        {
          "output_type": "execute_result",
          "data": {
            "text/plain": [
              "  Registration State Violation Description Vehicle Body Type  Issue Date  \\\n",
              "0                 NY                  <NA>               VAN  06/25/2021   \n",
              "1                 NY                  <NA>              SUBN  06/25/2021   \n",
              "2                 TX                  <NA>               SDN  06/17/2021   \n",
              "3                 MO                  <NA>               SDN  06/16/2021   \n",
              "4                 NY                  <NA>              TAXI  07/04/2021   \n",
              "\n",
              "   Summons Number  \n",
              "0      1457617912  \n",
              "1      1457617924  \n",
              "2      1457622427  \n",
              "3      1457638629  \n",
              "4      1457639580  "
            ],
            "text/html": [
              "<div>\n",
              "<style scoped>\n",
              "    .dataframe tbody tr th:only-of-type {\n",
              "        vertical-align: middle;\n",
              "    }\n",
              "\n",
              "    .dataframe tbody tr th {\n",
              "        vertical-align: top;\n",
              "    }\n",
              "\n",
              "    .dataframe thead th {\n",
              "        text-align: right;\n",
              "    }\n",
              "</style>\n",
              "<table border=\"1\" class=\"dataframe\">\n",
              "  <thead>\n",
              "    <tr style=\"text-align: right;\">\n",
              "      <th></th>\n",
              "      <th>Registration State</th>\n",
              "      <th>Violation Description</th>\n",
              "      <th>Vehicle Body Type</th>\n",
              "      <th>Issue Date</th>\n",
              "      <th>Summons Number</th>\n",
              "    </tr>\n",
              "  </thead>\n",
              "  <tbody>\n",
              "    <tr>\n",
              "      <th>0</th>\n",
              "      <td>NY</td>\n",
              "      <td>&lt;NA&gt;</td>\n",
              "      <td>VAN</td>\n",
              "      <td>06/25/2021</td>\n",
              "      <td>1457617912</td>\n",
              "    </tr>\n",
              "    <tr>\n",
              "      <th>1</th>\n",
              "      <td>NY</td>\n",
              "      <td>&lt;NA&gt;</td>\n",
              "      <td>SUBN</td>\n",
              "      <td>06/25/2021</td>\n",
              "      <td>1457617924</td>\n",
              "    </tr>\n",
              "    <tr>\n",
              "      <th>2</th>\n",
              "      <td>TX</td>\n",
              "      <td>&lt;NA&gt;</td>\n",
              "      <td>SDN</td>\n",
              "      <td>06/17/2021</td>\n",
              "      <td>1457622427</td>\n",
              "    </tr>\n",
              "    <tr>\n",
              "      <th>3</th>\n",
              "      <td>MO</td>\n",
              "      <td>&lt;NA&gt;</td>\n",
              "      <td>SDN</td>\n",
              "      <td>06/16/2021</td>\n",
              "      <td>1457638629</td>\n",
              "    </tr>\n",
              "    <tr>\n",
              "      <th>4</th>\n",
              "      <td>NY</td>\n",
              "      <td>&lt;NA&gt;</td>\n",
              "      <td>TAXI</td>\n",
              "      <td>07/04/2021</td>\n",
              "      <td>1457639580</td>\n",
              "    </tr>\n",
              "  </tbody>\n",
              "</table>\n",
              "</div>"
            ],
            "application/vnd.google.colaboratory.intrinsic+json": {
              "type": "dataframe",
              "variable_name": "df"
            }
          },
          "metadata": {},
          "execution_count": 4
        }
      ]
    },
    {
      "cell_type": "markdown",
      "source": [
        "The above `merge` that failed with a `MemoryError` with `cudf`, now fully executes with `cudf.pandas` on GPU!!"
      ],
      "metadata": {
        "id": "SAH1wUD4uM_O"
      }
    },
    {
      "cell_type": "code",
      "source": [
        "new_df = pd.concat([df, df])"
      ],
      "metadata": {
        "id": "n50mogCVnXx6"
      },
      "execution_count": null,
      "outputs": []
    },
    {
      "cell_type": "code",
      "source": [
        "new_df.merge(new_df, on=\"Summons Number\")"
      ],
      "metadata": {
        "colab": {
          "base_uri": "https://localhost:8080/",
          "height": 510
        },
        "id": "WEdYl7cUne5T",
        "outputId": "dc4173ea-4920-4108-e5f6-dc290ab7a5d1"
      },
      "execution_count": null,
      "outputs": [
        {
          "output_type": "execute_result",
          "data": {
            "text/plain": [
              "         Registration State_x       Violation Description_x  \\\n",
              "0                          NY                          <NA>   \n",
              "1                          NY                          <NA>   \n",
              "2                          NY                          <NA>   \n",
              "3                          NY                          <NA>   \n",
              "4                          TX                          <NA>   \n",
              "...                       ...                           ...   \n",
              "61742423                   NY  21-No Parking (street clean)   \n",
              "61742424                   VA  21-No Parking (street clean)   \n",
              "61742425                   VA  21-No Parking (street clean)   \n",
              "61742426                   MD                14-No Standing   \n",
              "61742427                   MD                14-No Standing   \n",
              "\n",
              "         Vehicle Body Type_x Issue Date_x  Summons Number  \\\n",
              "0                        VAN   06/25/2021      1457617912   \n",
              "1                        VAN   06/25/2021      1457617912   \n",
              "2                       SUBN   06/25/2021      1457617924   \n",
              "3                       SUBN   06/25/2021      1457617924   \n",
              "4                        SDN   06/17/2021      1457622427   \n",
              "...                      ...          ...             ...   \n",
              "61742423                2DSD   06/07/2022      8995222785   \n",
              "61742424                SUBN   06/07/2022      8995222827   \n",
              "61742425                SUBN   06/07/2022      8995222827   \n",
              "61742426                4DSD   06/07/2022      8995222839   \n",
              "61742427                4DSD   06/07/2022      8995222839   \n",
              "\n",
              "         Registration State_y       Violation Description_y  \\\n",
              "0                          NY                          <NA>   \n",
              "1                          NY                          <NA>   \n",
              "2                          NY                          <NA>   \n",
              "3                          NY                          <NA>   \n",
              "4                          TX                          <NA>   \n",
              "...                       ...                           ...   \n",
              "61742423                   NY  21-No Parking (street clean)   \n",
              "61742424                   VA  21-No Parking (street clean)   \n",
              "61742425                   VA  21-No Parking (street clean)   \n",
              "61742426                   MD                14-No Standing   \n",
              "61742427                   MD                14-No Standing   \n",
              "\n",
              "         Vehicle Body Type_y Issue Date_y  \n",
              "0                        VAN   06/25/2021  \n",
              "1                        VAN   06/25/2021  \n",
              "2                       SUBN   06/25/2021  \n",
              "3                       SUBN   06/25/2021  \n",
              "4                        SDN   06/17/2021  \n",
              "...                      ...          ...  \n",
              "61742423                2DSD   06/07/2022  \n",
              "61742424                SUBN   06/07/2022  \n",
              "61742425                SUBN   06/07/2022  \n",
              "61742426                4DSD   06/07/2022  \n",
              "61742427                4DSD   06/07/2022  \n",
              "\n",
              "[61742428 rows x 9 columns]"
            ],
            "text/html": [
              "<div>\n",
              "<style scoped>\n",
              "    .dataframe tbody tr th:only-of-type {\n",
              "        vertical-align: middle;\n",
              "    }\n",
              "\n",
              "    .dataframe tbody tr th {\n",
              "        vertical-align: top;\n",
              "    }\n",
              "\n",
              "    .dataframe thead th {\n",
              "        text-align: right;\n",
              "    }\n",
              "</style>\n",
              "<table border=\"1\" class=\"dataframe\">\n",
              "  <thead>\n",
              "    <tr style=\"text-align: right;\">\n",
              "      <th></th>\n",
              "      <th>Registration State_x</th>\n",
              "      <th>Violation Description_x</th>\n",
              "      <th>Vehicle Body Type_x</th>\n",
              "      <th>Issue Date_x</th>\n",
              "      <th>Summons Number</th>\n",
              "      <th>Registration State_y</th>\n",
              "      <th>Violation Description_y</th>\n",
              "      <th>Vehicle Body Type_y</th>\n",
              "      <th>Issue Date_y</th>\n",
              "    </tr>\n",
              "  </thead>\n",
              "  <tbody>\n",
              "    <tr>\n",
              "      <th>0</th>\n",
              "      <td>NY</td>\n",
              "      <td>&lt;NA&gt;</td>\n",
              "      <td>VAN</td>\n",
              "      <td>06/25/2021</td>\n",
              "      <td>1457617912</td>\n",
              "      <td>NY</td>\n",
              "      <td>&lt;NA&gt;</td>\n",
              "      <td>VAN</td>\n",
              "      <td>06/25/2021</td>\n",
              "    </tr>\n",
              "    <tr>\n",
              "      <th>1</th>\n",
              "      <td>NY</td>\n",
              "      <td>&lt;NA&gt;</td>\n",
              "      <td>VAN</td>\n",
              "      <td>06/25/2021</td>\n",
              "      <td>1457617912</td>\n",
              "      <td>NY</td>\n",
              "      <td>&lt;NA&gt;</td>\n",
              "      <td>VAN</td>\n",
              "      <td>06/25/2021</td>\n",
              "    </tr>\n",
              "    <tr>\n",
              "      <th>2</th>\n",
              "      <td>NY</td>\n",
              "      <td>&lt;NA&gt;</td>\n",
              "      <td>SUBN</td>\n",
              "      <td>06/25/2021</td>\n",
              "      <td>1457617924</td>\n",
              "      <td>NY</td>\n",
              "      <td>&lt;NA&gt;</td>\n",
              "      <td>SUBN</td>\n",
              "      <td>06/25/2021</td>\n",
              "    </tr>\n",
              "    <tr>\n",
              "      <th>3</th>\n",
              "      <td>NY</td>\n",
              "      <td>&lt;NA&gt;</td>\n",
              "      <td>SUBN</td>\n",
              "      <td>06/25/2021</td>\n",
              "      <td>1457617924</td>\n",
              "      <td>NY</td>\n",
              "      <td>&lt;NA&gt;</td>\n",
              "      <td>SUBN</td>\n",
              "      <td>06/25/2021</td>\n",
              "    </tr>\n",
              "    <tr>\n",
              "      <th>4</th>\n",
              "      <td>TX</td>\n",
              "      <td>&lt;NA&gt;</td>\n",
              "      <td>SDN</td>\n",
              "      <td>06/17/2021</td>\n",
              "      <td>1457622427</td>\n",
              "      <td>TX</td>\n",
              "      <td>&lt;NA&gt;</td>\n",
              "      <td>SDN</td>\n",
              "      <td>06/17/2021</td>\n",
              "    </tr>\n",
              "    <tr>\n",
              "      <th>...</th>\n",
              "      <td>...</td>\n",
              "      <td>...</td>\n",
              "      <td>...</td>\n",
              "      <td>...</td>\n",
              "      <td>...</td>\n",
              "      <td>...</td>\n",
              "      <td>...</td>\n",
              "      <td>...</td>\n",
              "      <td>...</td>\n",
              "    </tr>\n",
              "    <tr>\n",
              "      <th>61742423</th>\n",
              "      <td>NY</td>\n",
              "      <td>21-No Parking (street clean)</td>\n",
              "      <td>2DSD</td>\n",
              "      <td>06/07/2022</td>\n",
              "      <td>8995222785</td>\n",
              "      <td>NY</td>\n",
              "      <td>21-No Parking (street clean)</td>\n",
              "      <td>2DSD</td>\n",
              "      <td>06/07/2022</td>\n",
              "    </tr>\n",
              "    <tr>\n",
              "      <th>61742424</th>\n",
              "      <td>VA</td>\n",
              "      <td>21-No Parking (street clean)</td>\n",
              "      <td>SUBN</td>\n",
              "      <td>06/07/2022</td>\n",
              "      <td>8995222827</td>\n",
              "      <td>VA</td>\n",
              "      <td>21-No Parking (street clean)</td>\n",
              "      <td>SUBN</td>\n",
              "      <td>06/07/2022</td>\n",
              "    </tr>\n",
              "    <tr>\n",
              "      <th>61742425</th>\n",
              "      <td>VA</td>\n",
              "      <td>21-No Parking (street clean)</td>\n",
              "      <td>SUBN</td>\n",
              "      <td>06/07/2022</td>\n",
              "      <td>8995222827</td>\n",
              "      <td>VA</td>\n",
              "      <td>21-No Parking (street clean)</td>\n",
              "      <td>SUBN</td>\n",
              "      <td>06/07/2022</td>\n",
              "    </tr>\n",
              "    <tr>\n",
              "      <th>61742426</th>\n",
              "      <td>MD</td>\n",
              "      <td>14-No Standing</td>\n",
              "      <td>4DSD</td>\n",
              "      <td>06/07/2022</td>\n",
              "      <td>8995222839</td>\n",
              "      <td>MD</td>\n",
              "      <td>14-No Standing</td>\n",
              "      <td>4DSD</td>\n",
              "      <td>06/07/2022</td>\n",
              "    </tr>\n",
              "    <tr>\n",
              "      <th>61742427</th>\n",
              "      <td>MD</td>\n",
              "      <td>14-No Standing</td>\n",
              "      <td>4DSD</td>\n",
              "      <td>06/07/2022</td>\n",
              "      <td>8995222839</td>\n",
              "      <td>MD</td>\n",
              "      <td>14-No Standing</td>\n",
              "      <td>4DSD</td>\n",
              "      <td>06/07/2022</td>\n",
              "    </tr>\n",
              "  </tbody>\n",
              "</table>\n",
              "<p>61742428 rows × 9 columns</p>\n",
              "</div>"
            ],
            "application/vnd.google.colaboratory.intrinsic+json": {
              "type": "dataframe"
            }
          },
          "metadata": {},
          "execution_count": 9
        }
      ]
    },
    {
      "cell_type": "code",
      "source": [
        "new_df = pd.concat([df, df, df, df, df, df[:int(len(df)/2)]])"
      ],
      "metadata": {
        "id": "yukF_LGbW0XG"
      },
      "execution_count": null,
      "outputs": []
    },
    {
      "cell_type": "markdown",
      "source": [
        "The same for IO: We now see that cuda managed memory is using the GPU + CPU memory to encode and write the dataframe into a parquet file."
      ],
      "metadata": {
        "id": "9Op3bX3ScvIN"
      }
    },
    {
      "cell_type": "code",
      "source": [
        "new_df.to_parquet(\"larger_df.parquet\")"
      ],
      "metadata": {
        "id": "ECXNZutwYoP5"
      },
      "execution_count": null,
      "outputs": []
    },
    {
      "cell_type": "code",
      "source": [
        "!ls -al larger_df.parquet"
      ],
      "metadata": {
        "id": "tTElCruE0mmh",
        "colab": {
          "base_uri": "https://localhost:8080/"
        },
        "outputId": "52b7b1c8-0de5-45a9-957f-1605c307ef8f"
      },
      "execution_count": null,
      "outputs": [
        {
          "output_type": "stream",
          "name": "stdout",
          "text": [
            "-rw-r--r-- 1 root root 852288745 Nov 25 23:29 larger_df.parquet\n"
          ]
        }
      ]
    },
    {
      "cell_type": "code",
      "source": [],
      "metadata": {
        "id": "AqdDF1F9n6NF"
      },
      "execution_count": null,
      "outputs": []
    },
    {
      "cell_type": "markdown",
      "source": [
        "Comparing the performance against `pandas`"
      ],
      "metadata": {
        "id": "FEGAkxkcu51Y"
      }
    },
    {
      "cell_type": "code",
      "source": [
        "get_ipython().kernel.do_shutdown(restart=True)"
      ],
      "metadata": {
        "colab": {
          "base_uri": "https://localhost:8080/"
        },
        "id": "nm3VOOWau9OT",
        "outputId": "b622c96c-f10b-4ff2-8821-2b306690f123"
      },
      "execution_count": null,
      "outputs": [
        {
          "output_type": "execute_result",
          "data": {
            "text/plain": [
              "{'status': 'ok', 'restart': True}"
            ]
          },
          "metadata": {},
          "execution_count": 10
        }
      ]
    },
    {
      "cell_type": "code",
      "source": [
        "import pandas as pd"
      ],
      "metadata": {
        "id": "x3s0Q_3BvBA0"
      },
      "execution_count": null,
      "outputs": []
    },
    {
      "cell_type": "code",
      "source": [
        "df = pd.read_parquet(\n",
        "    \"/tmp/nyc_parking_violations_2022.parquet\",\n",
        "    columns=[\"Registration State\", \"Violation Description\", \"Vehicle Body Type\", \"Issue Date\", \"Summons Number\"],\n",
        ")\n"
      ],
      "metadata": {
        "id": "Z8g2uPm-vPos"
      },
      "execution_count": null,
      "outputs": []
    },
    {
      "cell_type": "code",
      "source": [
        "df.head(5)"
      ],
      "metadata": {
        "colab": {
          "base_uri": "https://localhost:8080/",
          "height": 206
        },
        "id": "XEcdgK8kvQ6S",
        "outputId": "3420c700-426e-4f57-9aac-60c4b02cb731"
      },
      "execution_count": null,
      "outputs": [
        {
          "output_type": "execute_result",
          "data": {
            "text/plain": [
              "  Registration State Violation Description Vehicle Body Type  Issue Date  \\\n",
              "0                 NY                  <NA>               VAN  06/25/2021   \n",
              "1                 NY                  <NA>              SUBN  06/25/2021   \n",
              "2                 TX                  <NA>               SDN  06/17/2021   \n",
              "3                 MO                  <NA>               SDN  06/16/2021   \n",
              "4                 NY                  <NA>              TAXI  07/04/2021   \n",
              "\n",
              "   Summons Number  \n",
              "0      1457617912  \n",
              "1      1457617924  \n",
              "2      1457622427  \n",
              "3      1457638629  \n",
              "4      1457639580  "
            ],
            "text/html": [
              "\n",
              "  <div id=\"df-9aa811bf-0a6f-4c5e-812f-15be0ea03cd5\" class=\"colab-df-container\">\n",
              "    <div>\n",
              "<style scoped>\n",
              "    .dataframe tbody tr th:only-of-type {\n",
              "        vertical-align: middle;\n",
              "    }\n",
              "\n",
              "    .dataframe tbody tr th {\n",
              "        vertical-align: top;\n",
              "    }\n",
              "\n",
              "    .dataframe thead th {\n",
              "        text-align: right;\n",
              "    }\n",
              "</style>\n",
              "<table border=\"1\" class=\"dataframe\">\n",
              "  <thead>\n",
              "    <tr style=\"text-align: right;\">\n",
              "      <th></th>\n",
              "      <th>Registration State</th>\n",
              "      <th>Violation Description</th>\n",
              "      <th>Vehicle Body Type</th>\n",
              "      <th>Issue Date</th>\n",
              "      <th>Summons Number</th>\n",
              "    </tr>\n",
              "  </thead>\n",
              "  <tbody>\n",
              "    <tr>\n",
              "      <th>0</th>\n",
              "      <td>NY</td>\n",
              "      <td>&lt;NA&gt;</td>\n",
              "      <td>VAN</td>\n",
              "      <td>06/25/2021</td>\n",
              "      <td>1457617912</td>\n",
              "    </tr>\n",
              "    <tr>\n",
              "      <th>1</th>\n",
              "      <td>NY</td>\n",
              "      <td>&lt;NA&gt;</td>\n",
              "      <td>SUBN</td>\n",
              "      <td>06/25/2021</td>\n",
              "      <td>1457617924</td>\n",
              "    </tr>\n",
              "    <tr>\n",
              "      <th>2</th>\n",
              "      <td>TX</td>\n",
              "      <td>&lt;NA&gt;</td>\n",
              "      <td>SDN</td>\n",
              "      <td>06/17/2021</td>\n",
              "      <td>1457622427</td>\n",
              "    </tr>\n",
              "    <tr>\n",
              "      <th>3</th>\n",
              "      <td>MO</td>\n",
              "      <td>&lt;NA&gt;</td>\n",
              "      <td>SDN</td>\n",
              "      <td>06/16/2021</td>\n",
              "      <td>1457638629</td>\n",
              "    </tr>\n",
              "    <tr>\n",
              "      <th>4</th>\n",
              "      <td>NY</td>\n",
              "      <td>&lt;NA&gt;</td>\n",
              "      <td>TAXI</td>\n",
              "      <td>07/04/2021</td>\n",
              "      <td>1457639580</td>\n",
              "    </tr>\n",
              "  </tbody>\n",
              "</table>\n",
              "</div>\n",
              "    <div class=\"colab-df-buttons\">\n",
              "\n",
              "  <div class=\"colab-df-container\">\n",
              "    <button class=\"colab-df-convert\" onclick=\"convertToInteractive('df-9aa811bf-0a6f-4c5e-812f-15be0ea03cd5')\"\n",
              "            title=\"Convert this dataframe to an interactive table.\"\n",
              "            style=\"display:none;\">\n",
              "\n",
              "  <svg xmlns=\"http://www.w3.org/2000/svg\" height=\"24px\" viewBox=\"0 -960 960 960\">\n",
              "    <path d=\"M120-120v-720h720v720H120Zm60-500h600v-160H180v160Zm220 220h160v-160H400v160Zm0 220h160v-160H400v160ZM180-400h160v-160H180v160Zm440 0h160v-160H620v160ZM180-180h160v-160H180v160Zm440 0h160v-160H620v160Z\"/>\n",
              "  </svg>\n",
              "    </button>\n",
              "\n",
              "  <style>\n",
              "    .colab-df-container {\n",
              "      display:flex;\n",
              "      gap: 12px;\n",
              "    }\n",
              "\n",
              "    .colab-df-convert {\n",
              "      background-color: #E8F0FE;\n",
              "      border: none;\n",
              "      border-radius: 50%;\n",
              "      cursor: pointer;\n",
              "      display: none;\n",
              "      fill: #1967D2;\n",
              "      height: 32px;\n",
              "      padding: 0 0 0 0;\n",
              "      width: 32px;\n",
              "    }\n",
              "\n",
              "    .colab-df-convert:hover {\n",
              "      background-color: #E2EBFA;\n",
              "      box-shadow: 0px 1px 2px rgba(60, 64, 67, 0.3), 0px 1px 3px 1px rgba(60, 64, 67, 0.15);\n",
              "      fill: #174EA6;\n",
              "    }\n",
              "\n",
              "    .colab-df-buttons div {\n",
              "      margin-bottom: 4px;\n",
              "    }\n",
              "\n",
              "    [theme=dark] .colab-df-convert {\n",
              "      background-color: #3B4455;\n",
              "      fill: #D2E3FC;\n",
              "    }\n",
              "\n",
              "    [theme=dark] .colab-df-convert:hover {\n",
              "      background-color: #434B5C;\n",
              "      box-shadow: 0px 1px 3px 1px rgba(0, 0, 0, 0.15);\n",
              "      filter: drop-shadow(0px 1px 2px rgba(0, 0, 0, 0.3));\n",
              "      fill: #FFFFFF;\n",
              "    }\n",
              "  </style>\n",
              "\n",
              "    <script>\n",
              "      const buttonEl =\n",
              "        document.querySelector('#df-9aa811bf-0a6f-4c5e-812f-15be0ea03cd5 button.colab-df-convert');\n",
              "      buttonEl.style.display =\n",
              "        google.colab.kernel.accessAllowed ? 'block' : 'none';\n",
              "\n",
              "      async function convertToInteractive(key) {\n",
              "        const element = document.querySelector('#df-9aa811bf-0a6f-4c5e-812f-15be0ea03cd5');\n",
              "        const dataTable =\n",
              "          await google.colab.kernel.invokeFunction('convertToInteractive',\n",
              "                                                    [key], {});\n",
              "        if (!dataTable) return;\n",
              "\n",
              "        const docLinkHtml = 'Like what you see? Visit the ' +\n",
              "          '<a target=\"_blank\" href=https://colab.research.google.com/notebooks/data_table.ipynb>data table notebook</a>'\n",
              "          + ' to learn more about interactive tables.';\n",
              "        element.innerHTML = '';\n",
              "        dataTable['output_type'] = 'display_data';\n",
              "        await google.colab.output.renderOutput(dataTable, element);\n",
              "        const docLink = document.createElement('div');\n",
              "        docLink.innerHTML = docLinkHtml;\n",
              "        element.appendChild(docLink);\n",
              "      }\n",
              "    </script>\n",
              "  </div>\n",
              "\n",
              "\n",
              "<div id=\"df-e811a763-b291-4fff-94eb-654af7122aa1\">\n",
              "  <button class=\"colab-df-quickchart\" onclick=\"quickchart('df-e811a763-b291-4fff-94eb-654af7122aa1')\"\n",
              "            title=\"Suggest charts\"\n",
              "            style=\"display:none;\">\n",
              "\n",
              "<svg xmlns=\"http://www.w3.org/2000/svg\" height=\"24px\"viewBox=\"0 0 24 24\"\n",
              "     width=\"24px\">\n",
              "    <g>\n",
              "        <path d=\"M19 3H5c-1.1 0-2 .9-2 2v14c0 1.1.9 2 2 2h14c1.1 0 2-.9 2-2V5c0-1.1-.9-2-2-2zM9 17H7v-7h2v7zm4 0h-2V7h2v10zm4 0h-2v-4h2v4z\"/>\n",
              "    </g>\n",
              "</svg>\n",
              "  </button>\n",
              "\n",
              "<style>\n",
              "  .colab-df-quickchart {\n",
              "      --bg-color: #E8F0FE;\n",
              "      --fill-color: #1967D2;\n",
              "      --hover-bg-color: #E2EBFA;\n",
              "      --hover-fill-color: #174EA6;\n",
              "      --disabled-fill-color: #AAA;\n",
              "      --disabled-bg-color: #DDD;\n",
              "  }\n",
              "\n",
              "  [theme=dark] .colab-df-quickchart {\n",
              "      --bg-color: #3B4455;\n",
              "      --fill-color: #D2E3FC;\n",
              "      --hover-bg-color: #434B5C;\n",
              "      --hover-fill-color: #FFFFFF;\n",
              "      --disabled-bg-color: #3B4455;\n",
              "      --disabled-fill-color: #666;\n",
              "  }\n",
              "\n",
              "  .colab-df-quickchart {\n",
              "    background-color: var(--bg-color);\n",
              "    border: none;\n",
              "    border-radius: 50%;\n",
              "    cursor: pointer;\n",
              "    display: none;\n",
              "    fill: var(--fill-color);\n",
              "    height: 32px;\n",
              "    padding: 0;\n",
              "    width: 32px;\n",
              "  }\n",
              "\n",
              "  .colab-df-quickchart:hover {\n",
              "    background-color: var(--hover-bg-color);\n",
              "    box-shadow: 0 1px 2px rgba(60, 64, 67, 0.3), 0 1px 3px 1px rgba(60, 64, 67, 0.15);\n",
              "    fill: var(--button-hover-fill-color);\n",
              "  }\n",
              "\n",
              "  .colab-df-quickchart-complete:disabled,\n",
              "  .colab-df-quickchart-complete:disabled:hover {\n",
              "    background-color: var(--disabled-bg-color);\n",
              "    fill: var(--disabled-fill-color);\n",
              "    box-shadow: none;\n",
              "  }\n",
              "\n",
              "  .colab-df-spinner {\n",
              "    border: 2px solid var(--fill-color);\n",
              "    border-color: transparent;\n",
              "    border-bottom-color: var(--fill-color);\n",
              "    animation:\n",
              "      spin 1s steps(1) infinite;\n",
              "  }\n",
              "\n",
              "  @keyframes spin {\n",
              "    0% {\n",
              "      border-color: transparent;\n",
              "      border-bottom-color: var(--fill-color);\n",
              "      border-left-color: var(--fill-color);\n",
              "    }\n",
              "    20% {\n",
              "      border-color: transparent;\n",
              "      border-left-color: var(--fill-color);\n",
              "      border-top-color: var(--fill-color);\n",
              "    }\n",
              "    30% {\n",
              "      border-color: transparent;\n",
              "      border-left-color: var(--fill-color);\n",
              "      border-top-color: var(--fill-color);\n",
              "      border-right-color: var(--fill-color);\n",
              "    }\n",
              "    40% {\n",
              "      border-color: transparent;\n",
              "      border-right-color: var(--fill-color);\n",
              "      border-top-color: var(--fill-color);\n",
              "    }\n",
              "    60% {\n",
              "      border-color: transparent;\n",
              "      border-right-color: var(--fill-color);\n",
              "    }\n",
              "    80% {\n",
              "      border-color: transparent;\n",
              "      border-right-color: var(--fill-color);\n",
              "      border-bottom-color: var(--fill-color);\n",
              "    }\n",
              "    90% {\n",
              "      border-color: transparent;\n",
              "      border-bottom-color: var(--fill-color);\n",
              "    }\n",
              "  }\n",
              "</style>\n",
              "\n",
              "  <script>\n",
              "    async function quickchart(key) {\n",
              "      const quickchartButtonEl =\n",
              "        document.querySelector('#' + key + ' button');\n",
              "      quickchartButtonEl.disabled = true;  // To prevent multiple clicks.\n",
              "      quickchartButtonEl.classList.add('colab-df-spinner');\n",
              "      try {\n",
              "        const charts = await google.colab.kernel.invokeFunction(\n",
              "            'suggestCharts', [key], {});\n",
              "      } catch (error) {\n",
              "        console.error('Error during call to suggestCharts:', error);\n",
              "      }\n",
              "      quickchartButtonEl.classList.remove('colab-df-spinner');\n",
              "      quickchartButtonEl.classList.add('colab-df-quickchart-complete');\n",
              "    }\n",
              "    (() => {\n",
              "      let quickchartButtonEl =\n",
              "        document.querySelector('#df-e811a763-b291-4fff-94eb-654af7122aa1 button');\n",
              "      quickchartButtonEl.style.display =\n",
              "        google.colab.kernel.accessAllowed ? 'block' : 'none';\n",
              "    })();\n",
              "  </script>\n",
              "</div>\n",
              "\n",
              "    </div>\n",
              "  </div>\n"
            ],
            "application/vnd.google.colaboratory.intrinsic+json": {
              "type": "dataframe",
              "variable_name": "df"
            }
          },
          "metadata": {},
          "execution_count": 3
        }
      ]
    },
    {
      "cell_type": "code",
      "source": [
        "new_df = pd.concat([df, df])"
      ],
      "metadata": {
        "id": "KQg9HnFNvTGC"
      },
      "execution_count": null,
      "outputs": []
    },
    {
      "cell_type": "code",
      "source": [
        "%%time\n",
        "new_df.merge(new_df, on=\"Summons Number\")"
      ],
      "metadata": {
        "id": "bL0Q9eNIvU72"
      },
      "execution_count": null,
      "outputs": []
    },
    {
      "cell_type": "code",
      "source": [
        "new_df = pd.concat([df, df, df, df, df, df[:int(len(df)/2)]])"
      ],
      "metadata": {
        "id": "p-Ev-NpFvX28"
      },
      "execution_count": null,
      "outputs": []
    },
    {
      "cell_type": "code",
      "source": [
        "%%time\n",
        "new_df.to_parquet(\"larger_df.parquet\")"
      ],
      "metadata": {
        "id": "KLy1Q_I7veCi"
      },
      "execution_count": null,
      "outputs": []
    }
  ],
  "metadata": {
    "accelerator": "GPU",
    "colab": {
      "gpuType": "T4",
      "provenance": []
    },
    "kernelspec": {
      "display_name": "Python 3",
      "name": "python3"
    },
    "language_info": {
      "codemirror_mode": {
        "name": "ipython",
        "version": 3
      },
      "file_extension": ".py",
      "mimetype": "text/x-python",
      "name": "python",
      "nbconvert_exporter": "python",
      "pygments_lexer": "ipython3",
      "version": "3.11.8"
    }
  },
  "nbformat": 4,
  "nbformat_minor": 0
}