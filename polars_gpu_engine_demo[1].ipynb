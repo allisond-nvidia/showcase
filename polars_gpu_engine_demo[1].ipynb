{
  "cells": [
    {
      "cell_type": "markdown",
      "metadata": {
        "id": "view-in-github",
        "colab_type": "text"
      },
      "source": [
        "<a href=\"https://colab.research.google.com/github/singhmanas1/showcase/blob/feat%2Fpolars_gpu_engine_demo/polars_gpu_engine_demo%5B1%5D.ipynb\" target=\"_parent\"><img src=\"https://colab.research.google.com/assets/colab-badge.svg\" alt=\"Open In Colab\"/></a>"
      ]
    },
    {
      "cell_type": "markdown",
      "id": "3ee31ce0-49be-4f82-ab61-4d7f830ddca7",
      "metadata": {
        "id": "3ee31ce0-49be-4f82-ab61-4d7f830ddca7"
      },
      "source": [
        "## Intro\n",
        "\n",
        "Polars is a popular single machine DataFrame library powered by an OLAP Query Engine. Beginning in the v1.3 release, Polars can now leverage NVIDIA GPUs for even higher performance through its GPU engine (powered by RAPIDS cuDF).\n",
        "\n",
        "Designed to make processing 10-100+ GBs of data feel interactive with just a single GPU, this new engine is built directly into the Polars Lazy API – just pass <font color=\"#76B900\">**engine=\"gpu\"**</font> to the `collect` operation.\n",
        "\n",
        "The GPU engine fully utilizes the Polars optimizer to ensure efficient execution and minimal memory usage, is compatible with the Polars' ecosystem of tools, and has graceful CPU fallback for queries that are not supported by GPU.\n",
        "\n",
        "This notebook is a short introduction to the Polars GPU engine, powered by cuDF."
      ]
    },
    {
      "cell_type": "code",
      "execution_count": null,
      "id": "06582ce0-5db4-46e6-8ced-1e65f97e54b1",
      "metadata": {
        "id": "06582ce0-5db4-46e6-8ced-1e65f97e54b1",
        "colab": {
          "base_uri": "https://localhost:8080/"
        },
        "outputId": "8bc59414-0b76-4d0c-e0a7-de256a5355d8"
      },
      "outputs": [
        {
          "output_type": "stream",
          "name": "stdout",
          "text": [
            "Wed Sep 11 23:46:03 2024       \n",
            "+---------------------------------------------------------------------------------------+\n",
            "| NVIDIA-SMI 535.104.05             Driver Version: 535.104.05   CUDA Version: 12.2     |\n",
            "|-----------------------------------------+----------------------+----------------------+\n",
            "| GPU  Name                 Persistence-M | Bus-Id        Disp.A | Volatile Uncorr. ECC |\n",
            "| Fan  Temp   Perf          Pwr:Usage/Cap |         Memory-Usage | GPU-Util  Compute M. |\n",
            "|                                         |                      |               MIG M. |\n",
            "|=========================================+======================+======================|\n",
            "|   0  Tesla T4                       Off | 00000000:00:04.0 Off |                    0 |\n",
            "| N/A   44C    P8              11W /  70W |      0MiB / 15360MiB |      0%      Default |\n"
          ]
        }
      ],
      "source": [
        "!nvidia-smi | head"
      ]
    },
    {
      "cell_type": "code",
      "execution_count": null,
      "id": "91244434-bf27-4c54-8e02-deb0215e4c66",
      "metadata": {
        "id": "91244434-bf27-4c54-8e02-deb0215e4c66",
        "colab": {
          "base_uri": "https://localhost:8080/"
        },
        "outputId": "75d83e06-729c-41db-8637-0a07fa7c2fa8"
      },
      "outputs": [
        {
          "output_type": "stream",
          "name": "stdout",
          "text": [
            "Model name:                           Intel(R) Xeon(R) CPU @ 2.00GHz\n",
            "Model:                                85\n",
            "Socket(s):                            1\n"
          ]
        }
      ],
      "source": [
        "!lscpu | grep -E \"Model|Socket\""
      ]
    },
    {
      "cell_type": "markdown",
      "source": [
        "# Setup"
      ],
      "metadata": {
        "id": "W_-gtW5OFaXw"
      },
      "id": "W_-gtW5OFaXw"
    },
    {
      "cell_type": "markdown",
      "source": [
        "## Installing the Polars GPU Engine\n",
        "\n",
        "Install Polars with GPU Engine by using a feature flag in the standard pip install command  `pip install polars[gpu] --extra-index-url=https://pypi.nvidia.com`."
      ],
      "metadata": {
        "id": "TabS5fiHG0dG"
      },
      "id": "TabS5fiHG0dG"
    },
    {
      "cell_type": "code",
      "source": [
        "!pip install --upgrade --force-reinstall polars[gpu] --extra-index-url=https://pypi.nvidia.com"
      ],
      "metadata": {
        "id": "a5JaF7AweJhO"
      },
      "id": "a5JaF7AweJhO",
      "execution_count": null,
      "outputs": []
    },
    {
      "cell_type": "markdown",
      "id": "a289485d-a5ed-4ffc-9491-47b3142654b0",
      "metadata": {
        "id": "a289485d-a5ed-4ffc-9491-47b3142654b0"
      },
      "source": [
        "# Install Other Important Dependencies\n",
        "To use the built-in data visualization capabilities of Polars v1.5, you'll need to install a few additional dependencies.  We'll also install pynvml to help us determine which dataset size to use."
      ]
    },
    {
      "cell_type": "code",
      "execution_count": 1,
      "id": "d0ffec33-3f1b-4fa5-8b42-e3b979664a2e",
      "metadata": {
        "id": "d0ffec33-3f1b-4fa5-8b42-e3b979664a2e",
        "colab": {
          "base_uri": "https://localhost:8080/"
        },
        "outputId": "0dae4eb3-53e7-4f71-91a8-04eab8a2078b"
      },
      "outputs": [
        {
          "output_type": "stream",
          "name": "stdout",
          "text": [
            "Collecting hvplot\n",
            "  Downloading hvplot-0.10.0-py3-none-any.whl.metadata (15 kB)\n",
            "Collecting jupyter_bokeh\n",
            "  Downloading jupyter_bokeh-4.0.5-py3-none-any.whl.metadata (7.1 kB)\n",
            "Collecting holoviews==1.19\n",
            "  Downloading holoviews-1.19.0-py3-none-any.whl.metadata (9.8 kB)\n",
            "Collecting pynvml\n",
            "  Downloading pynvml-11.5.3-py3-none-any.whl.metadata (8.8 kB)\n",
            "Requirement already satisfied: bokeh>=3.1 in /usr/local/lib/python3.10/dist-packages (from holoviews==1.19) (3.4.3)\n",
            "Requirement already satisfied: colorcet in /usr/local/lib/python3.10/dist-packages (from holoviews==1.19) (3.1.0)\n",
            "Requirement already satisfied: numpy>=1.21 in /usr/local/lib/python3.10/dist-packages (from holoviews==1.19) (1.26.4)\n",
            "Requirement already satisfied: packaging in /usr/local/lib/python3.10/dist-packages (from holoviews==1.19) (24.1)\n",
            "Requirement already satisfied: pandas>=1.3 in /usr/local/lib/python3.10/dist-packages (from holoviews==1.19) (2.2.2)\n",
            "Requirement already satisfied: panel>=1.0 in /usr/local/lib/python3.10/dist-packages (from holoviews==1.19) (1.4.5)\n",
            "Requirement already satisfied: param<3.0,>=2.0 in /usr/local/lib/python3.10/dist-packages (from holoviews==1.19) (2.1.1)\n",
            "Requirement already satisfied: pyviz-comms>=2.1 in /usr/local/lib/python3.10/dist-packages (from holoviews==1.19) (3.0.3)\n",
            "Collecting ipywidgets==8.* (from jupyter_bokeh)\n",
            "  Downloading ipywidgets-8.1.5-py3-none-any.whl.metadata (2.3 kB)\n",
            "Requirement already satisfied: Jinja2>=2.9 in /usr/local/lib/python3.10/dist-packages (from bokeh>=3.1->holoviews==1.19) (3.1.4)\n",
            "Requirement already satisfied: contourpy>=1.2 in /usr/local/lib/python3.10/dist-packages (from bokeh>=3.1->holoviews==1.19) (1.3.0)\n",
            "Requirement already satisfied: pillow>=7.1.0 in /usr/local/lib/python3.10/dist-packages (from bokeh>=3.1->holoviews==1.19) (9.4.0)\n",
            "Requirement already satisfied: PyYAML>=3.10 in /usr/local/lib/python3.10/dist-packages (from bokeh>=3.1->holoviews==1.19) (6.0.2)\n",
            "Requirement already satisfied: tornado>=6.2 in /usr/local/lib/python3.10/dist-packages (from bokeh>=3.1->holoviews==1.19) (6.3.3)\n",
            "Requirement already satisfied: xyzservices>=2021.09.1 in /usr/local/lib/python3.10/dist-packages (from bokeh>=3.1->holoviews==1.19) (2024.9.0)\n",
            "Collecting comm>=0.1.3 (from ipywidgets==8.*->jupyter_bokeh)\n",
            "  Downloading comm-0.2.2-py3-none-any.whl.metadata (3.7 kB)\n",
            "Requirement already satisfied: ipython>=6.1.0 in /usr/local/lib/python3.10/dist-packages (from ipywidgets==8.*->jupyter_bokeh) (7.34.0)\n",
            "Requirement already satisfied: traitlets>=4.3.1 in /usr/local/lib/python3.10/dist-packages (from ipywidgets==8.*->jupyter_bokeh) (5.7.1)\n",
            "Collecting widgetsnbextension~=4.0.12 (from ipywidgets==8.*->jupyter_bokeh)\n",
            "  Downloading widgetsnbextension-4.0.13-py3-none-any.whl.metadata (1.6 kB)\n",
            "Requirement already satisfied: jupyterlab-widgets~=3.0.12 in /usr/local/lib/python3.10/dist-packages (from ipywidgets==8.*->jupyter_bokeh) (3.0.13)\n",
            "Requirement already satisfied: python-dateutil>=2.8.2 in /usr/local/lib/python3.10/dist-packages (from pandas>=1.3->holoviews==1.19) (2.9.0.post0)\n",
            "Requirement already satisfied: pytz>=2020.1 in /usr/local/lib/python3.10/dist-packages (from pandas>=1.3->holoviews==1.19) (2024.2)\n",
            "Requirement already satisfied: tzdata>=2022.7 in /usr/local/lib/python3.10/dist-packages (from pandas>=1.3->holoviews==1.19) (2024.1)\n",
            "Requirement already satisfied: markdown in /usr/local/lib/python3.10/dist-packages (from panel>=1.0->holoviews==1.19) (3.7)\n",
            "Requirement already satisfied: markdown-it-py in /usr/local/lib/python3.10/dist-packages (from panel>=1.0->holoviews==1.19) (3.0.0)\n",
            "Requirement already satisfied: linkify-it-py in /usr/local/lib/python3.10/dist-packages (from panel>=1.0->holoviews==1.19) (2.0.3)\n",
            "Requirement already satisfied: mdit-py-plugins in /usr/local/lib/python3.10/dist-packages (from panel>=1.0->holoviews==1.19) (0.4.2)\n",
            "Requirement already satisfied: requests in /usr/local/lib/python3.10/dist-packages (from panel>=1.0->holoviews==1.19) (2.32.3)\n",
            "Requirement already satisfied: tqdm>=4.48.0 in /usr/local/lib/python3.10/dist-packages (from panel>=1.0->holoviews==1.19) (4.66.5)\n",
            "Requirement already satisfied: bleach in /usr/local/lib/python3.10/dist-packages (from panel>=1.0->holoviews==1.19) (6.1.0)\n",
            "Requirement already satisfied: typing-extensions in /usr/local/lib/python3.10/dist-packages (from panel>=1.0->holoviews==1.19) (4.12.2)\n",
            "Requirement already satisfied: setuptools>=18.5 in /usr/local/lib/python3.10/dist-packages (from ipython>=6.1.0->ipywidgets==8.*->jupyter_bokeh) (71.0.4)\n",
            "Collecting jedi>=0.16 (from ipython>=6.1.0->ipywidgets==8.*->jupyter_bokeh)\n",
            "  Using cached jedi-0.19.1-py2.py3-none-any.whl.metadata (22 kB)\n",
            "Requirement already satisfied: decorator in /usr/local/lib/python3.10/dist-packages (from ipython>=6.1.0->ipywidgets==8.*->jupyter_bokeh) (4.4.2)\n",
            "Requirement already satisfied: pickleshare in /usr/local/lib/python3.10/dist-packages (from ipython>=6.1.0->ipywidgets==8.*->jupyter_bokeh) (0.7.5)\n",
            "Requirement already satisfied: prompt-toolkit!=3.0.0,!=3.0.1,<3.1.0,>=2.0.0 in /usr/local/lib/python3.10/dist-packages (from ipython>=6.1.0->ipywidgets==8.*->jupyter_bokeh) (3.0.47)\n",
            "Requirement already satisfied: pygments in /usr/local/lib/python3.10/dist-packages (from ipython>=6.1.0->ipywidgets==8.*->jupyter_bokeh) (2.18.0)\n",
            "Requirement already satisfied: backcall in /usr/local/lib/python3.10/dist-packages (from ipython>=6.1.0->ipywidgets==8.*->jupyter_bokeh) (0.2.0)\n",
            "Requirement already satisfied: matplotlib-inline in /usr/local/lib/python3.10/dist-packages (from ipython>=6.1.0->ipywidgets==8.*->jupyter_bokeh) (0.1.7)\n",
            "Requirement already satisfied: pexpect>4.3 in /usr/local/lib/python3.10/dist-packages (from ipython>=6.1.0->ipywidgets==8.*->jupyter_bokeh) (4.9.0)\n",
            "Requirement already satisfied: MarkupSafe>=2.0 in /usr/local/lib/python3.10/dist-packages (from Jinja2>=2.9->bokeh>=3.1->holoviews==1.19) (2.1.5)\n",
            "Requirement already satisfied: six>=1.5 in /usr/local/lib/python3.10/dist-packages (from python-dateutil>=2.8.2->pandas>=1.3->holoviews==1.19) (1.16.0)\n",
            "Requirement already satisfied: webencodings in /usr/local/lib/python3.10/dist-packages (from bleach->panel>=1.0->holoviews==1.19) (0.5.1)\n",
            "Requirement already satisfied: uc-micro-py in /usr/local/lib/python3.10/dist-packages (from linkify-it-py->panel>=1.0->holoviews==1.19) (1.0.3)\n",
            "Requirement already satisfied: mdurl~=0.1 in /usr/local/lib/python3.10/dist-packages (from markdown-it-py->panel>=1.0->holoviews==1.19) (0.1.2)\n",
            "Requirement already satisfied: charset-normalizer<4,>=2 in /usr/local/lib/python3.10/dist-packages (from requests->panel>=1.0->holoviews==1.19) (3.3.2)\n",
            "Requirement already satisfied: idna<4,>=2.5 in /usr/local/lib/python3.10/dist-packages (from requests->panel>=1.0->holoviews==1.19) (3.8)\n",
            "Requirement already satisfied: urllib3<3,>=1.21.1 in /usr/local/lib/python3.10/dist-packages (from requests->panel>=1.0->holoviews==1.19) (2.0.7)\n",
            "Requirement already satisfied: certifi>=2017.4.17 in /usr/local/lib/python3.10/dist-packages (from requests->panel>=1.0->holoviews==1.19) (2024.8.30)\n",
            "Requirement already satisfied: parso<0.9.0,>=0.8.3 in /usr/local/lib/python3.10/dist-packages (from jedi>=0.16->ipython>=6.1.0->ipywidgets==8.*->jupyter_bokeh) (0.8.4)\n",
            "Requirement already satisfied: ptyprocess>=0.5 in /usr/local/lib/python3.10/dist-packages (from pexpect>4.3->ipython>=6.1.0->ipywidgets==8.*->jupyter_bokeh) (0.7.0)\n",
            "Requirement already satisfied: wcwidth in /usr/local/lib/python3.10/dist-packages (from prompt-toolkit!=3.0.0,!=3.0.1,<3.1.0,>=2.0.0->ipython>=6.1.0->ipywidgets==8.*->jupyter_bokeh) (0.2.13)\n",
            "Downloading holoviews-1.19.0-py3-none-any.whl (5.0 MB)\n",
            "\u001b[2K   \u001b[90m━━━━━━━━━━━━━━━━━━━━━━━━━━━━━━━━━━━━━━━━\u001b[0m \u001b[32m5.0/5.0 MB\u001b[0m \u001b[31m60.9 MB/s\u001b[0m eta \u001b[36m0:00:00\u001b[0m\n",
            "\u001b[?25hDownloading hvplot-0.10.0-py3-none-any.whl (155 kB)\n",
            "\u001b[2K   \u001b[90m━━━━━━━━━━━━━━━━━━━━━━━━━━━━━━━━━━━━━━━━\u001b[0m \u001b[32m155.4/155.4 kB\u001b[0m \u001b[31m14.7 MB/s\u001b[0m eta \u001b[36m0:00:00\u001b[0m\n",
            "\u001b[?25hDownloading jupyter_bokeh-4.0.5-py3-none-any.whl (148 kB)\n",
            "\u001b[2K   \u001b[90m━━━━━━━━━━━━━━━━━━━━━━━━━━━━━━━━━━━━━━━━\u001b[0m \u001b[32m148.6/148.6 kB\u001b[0m \u001b[31m14.4 MB/s\u001b[0m eta \u001b[36m0:00:00\u001b[0m\n",
            "\u001b[?25hDownloading ipywidgets-8.1.5-py3-none-any.whl (139 kB)\n",
            "\u001b[2K   \u001b[90m━━━━━━━━━━━━━━━━━━━━━━━━━━━━━━━━━━━━━━━━\u001b[0m \u001b[32m139.8/139.8 kB\u001b[0m \u001b[31m13.0 MB/s\u001b[0m eta \u001b[36m0:00:00\u001b[0m\n",
            "\u001b[?25hDownloading pynvml-11.5.3-py3-none-any.whl (53 kB)\n",
            "\u001b[2K   \u001b[90m━━━━━━━━━━━━━━━━━━━━━━━━━━━━━━━━━━━━━━━━\u001b[0m \u001b[32m53.1/53.1 kB\u001b[0m \u001b[31m4.9 MB/s\u001b[0m eta \u001b[36m0:00:00\u001b[0m\n",
            "\u001b[?25hDownloading comm-0.2.2-py3-none-any.whl (7.2 kB)\n",
            "Downloading widgetsnbextension-4.0.13-py3-none-any.whl (2.3 MB)\n",
            "\u001b[2K   \u001b[90m━━━━━━━━━━━━━━━━━━━━━━━━━━━━━━━━━━━━━━━━\u001b[0m \u001b[32m2.3/2.3 MB\u001b[0m \u001b[31m86.0 MB/s\u001b[0m eta \u001b[36m0:00:00\u001b[0m\n",
            "\u001b[?25hUsing cached jedi-0.19.1-py2.py3-none-any.whl (1.6 MB)\n",
            "Installing collected packages: widgetsnbextension, pynvml, jedi, comm, ipywidgets, jupyter_bokeh, holoviews, hvplot\n",
            "  Attempting uninstall: widgetsnbextension\n",
            "    Found existing installation: widgetsnbextension 3.6.9\n",
            "    Uninstalling widgetsnbextension-3.6.9:\n",
            "      Successfully uninstalled widgetsnbextension-3.6.9\n",
            "  Attempting uninstall: ipywidgets\n",
            "    Found existing installation: ipywidgets 7.7.1\n",
            "    Uninstalling ipywidgets-7.7.1:\n",
            "      Successfully uninstalled ipywidgets-7.7.1\n",
            "  Attempting uninstall: holoviews\n",
            "    Found existing installation: holoviews 1.18.3\n",
            "    Uninstalling holoviews-1.18.3:\n",
            "      Successfully uninstalled holoviews-1.18.3\n",
            "Successfully installed comm-0.2.2 holoviews-1.19.0 hvplot-0.10.0 ipywidgets-8.1.5 jedi-0.19.1 jupyter_bokeh-4.0.5 pynvml-11.5.3 widgetsnbextension-4.0.13\n"
          ]
        }
      ],
      "source": [
        "!pip install hvplot jupyter_bokeh holoviews==1.19 pynvml"
      ]
    },
    {
      "cell_type": "markdown",
      "id": "420f36d3-b9c6-43b1-bdd7-a18ede3a1330",
      "metadata": {
        "id": "420f36d3-b9c6-43b1-bdd7-a18ede3a1330"
      },
      "source": [
        "## Download the Data\n",
        "\n",
        "We'll be working with a roughly 22GB dataset of [simulated financial transactions from Kaggle](https://www.kaggle.com/datasets/conorsully1/simulated-transactions) by default. If you're running this notebook on a system with a < 24GB GPU, such as Google Colab using the T4 GPU in the Colab free tier, it will download a smaller version of this dataset (about 20% of the size) to fit on the relatively smaller memory footprint in the CPU + GPU combo.\n",
        "\n",
        "We're downloading a copy of this dataset from a GCS bucket hosted by NVIDIA to provide faster download speeds. We'll start by downloading the data. This should take about 30 seconds."
      ]
    },
    {
      "cell_type": "code",
      "source": [
        "import pynvml\n",
        "pynvml.nvmlInit()\n",
        "pynvml.nvmlDeviceGetName(pynvml.nvmlDeviceGetHandleByIndex(0))\n",
        "mem = pynvml.nvmlDeviceGetMemoryInfo(pynvml.nvmlDeviceGetHandleByIndex(0))\n",
        "mem = mem.total/1e9\n",
        "if mem < 24:\n",
        "    !wget https://storage.googleapis.com/rapidsai/polars-demo/transactions-t4-20.parquet -O transactions.parquet\n",
        "else:\n",
        "    !wget https://storage.googleapis.com/rapidsai/polars-demo/transactions.parquet -O transactions.parquet\n",
        "\n",
        "!wget https://storage.googleapis.com/rapidsai/polars-demo/rainfall_data_2010_2020.csv"
      ],
      "metadata": {
        "colab": {
          "base_uri": "https://localhost:8080/"
        },
        "id": "-z_nGkmwUV7g",
        "outputId": "fc23dae9-7fde-4918-bb05-c8a042675e47"
      },
      "id": "-z_nGkmwUV7g",
      "execution_count": 2,
      "outputs": [
        {
          "output_type": "stream",
          "name": "stdout",
          "text": [
            "--2024-09-12 00:00:16--  https://storage.googleapis.com/rapidsai/polars-demo/transactions-t4-20.parquet\n",
            "Resolving storage.googleapis.com (storage.googleapis.com)... 173.194.202.207, 173.194.203.207, 74.125.199.207, ...\n",
            "Connecting to storage.googleapis.com (storage.googleapis.com)|173.194.202.207|:443... connected.\n",
            "HTTP request sent, awaiting response... 200 OK\n",
            "Length: 857658422 (818M) [application/octet-stream]\n",
            "Saving to: ‘transactions.parquet’\n",
            "\n",
            "transactions.parque 100%[===================>] 817.93M  53.4MB/s    in 7.5s    \n",
            "\n",
            "2024-09-12 00:00:24 (109 MB/s) - ‘transactions.parquet’ saved [857658422/857658422]\n",
            "\n",
            "--2024-09-12 00:00:24--  https://storage.googleapis.com/rapidsai/polars-demo/rainfall_data_2010_2020.csv\n",
            "Resolving storage.googleapis.com (storage.googleapis.com)... 173.194.202.207, 173.194.203.207, 74.125.199.207, ...\n",
            "Connecting to storage.googleapis.com (storage.googleapis.com)|173.194.202.207|:443... connected.\n",
            "HTTP request sent, awaiting response... 200 OK\n",
            "Length: 131421 (128K) [text/csv]\n",
            "Saving to: ‘rainfall_data_2010_2020.csv’\n",
            "\n",
            "rainfall_data_2010_ 100%[===================>] 128.34K  --.-KB/s    in 0.001s  \n",
            "\n",
            "2024-09-12 00:00:24 (91.8 MB/s) - ‘rainfall_data_2010_2020.csv’ saved [131421/131421]\n",
            "\n"
          ]
        }
      ]
    },
    {
      "cell_type": "markdown",
      "id": "c642c436-05cf-472a-833e-4c8872bdd269",
      "metadata": {
        "id": "c642c436-05cf-472a-833e-4c8872bdd269"
      },
      "source": [
        "## Data License and Terms\n",
        "As this dataset originates from Kaggle, it's governed by a Kaggle dataset-specific license and terms of use.\n",
        "\n",
        "> ### CC0 1.0 Universal\n",
        "> **No Copyright**\n",
        "\n",
        ">The person who associated a work with this deed has dedicated the work to the public domain by waiving all of his or her rights to the work worldwide under copyright law, including all related and neighboring rights, to the extent allowed by law.\n",
        "You can copy, modify, distribute and perform the work, even for commercial purposes, all without asking permission. See Other Information below.\n",
        "\n",
        "> **Other Information**\n",
        "\n",
        ">In no way are the patent or trademark rights of any person affected by CC0, nor are the rights that other persons may have in the work or in how the work is used, such as publicity or privacy rights.\n",
        "Unless expressly stated otherwise, the person who associated a work with this deed makes no warranties about the work, and disclaims liability for all uses of the work, to the fullest extent permitted by applicable law.\n",
        "When using or citing the work, you should not imply endorsement by the author or the affirmer.\n"
      ]
    },
    {
      "cell_type": "markdown",
      "id": "a07de20a-ef6f-40fe-ab00-8a11e9c4f1e3",
      "metadata": {
        "id": "a07de20a-ef6f-40fe-ab00-8a11e9c4f1e3"
      },
      "source": [
        "# Getting Started"
      ]
    },
    {
      "cell_type": "markdown",
      "id": "ea333c53-6402-43d6-b196-91d7e199b315",
      "metadata": {
        "id": "ea333c53-6402-43d6-b196-91d7e199b315"
      },
      "source": [
        "With this dataset, we expect to see some meaningful performance benefits using NVIDIA GPUs for computationally heavy queries and limited benefits for basic queries that are primarily bottlenecked by reading data.\n",
        "\n",
        "To begin, let's use Polars to read the parquet file and look at the schema and first few rows."
      ]
    },
    {
      "cell_type": "code",
      "execution_count": 6,
      "id": "eb8364ee-3db7-40ae-80bd-76572c4e41ff",
      "metadata": {
        "id": "eb8364ee-3db7-40ae-80bd-76572c4e41ff",
        "tags": []
      },
      "outputs": [],
      "source": [
        "import polars as pl\n",
        "from polars.testing import assert_frame_equal"
      ]
    },
    {
      "cell_type": "code",
      "source": [
        "pl.__version__ # Make sure the version is `1.6.x` or greater; If not restart the session."
      ],
      "metadata": {
        "id": "isB8fVBAqqDJ",
        "colab": {
          "base_uri": "https://localhost:8080/",
          "height": 35
        },
        "outputId": "398c4ef1-7ff2-4548-e146-e4100788acd3"
      },
      "id": "isB8fVBAqqDJ",
      "execution_count": 7,
      "outputs": [
        {
          "output_type": "execute_result",
          "data": {
            "text/plain": [
              "'1.6.0'"
            ],
            "application/vnd.google.colaboratory.intrinsic+json": {
              "type": "string"
            }
          },
          "metadata": {},
          "execution_count": 7
        }
      ]
    },
    {
      "cell_type": "code",
      "execution_count": 8,
      "id": "a04f58fd-3df5-44ee-9a59-67d5c5146b08",
      "metadata": {
        "id": "a04f58fd-3df5-44ee-9a59-67d5c5146b08",
        "tags": []
      },
      "outputs": [],
      "source": [
        "transactions = pl.scan_parquet(\"transactions.parquet\")"
      ]
    },
    {
      "cell_type": "code",
      "execution_count": 9,
      "id": "271b5f7f-612d-4ee3-ab6c-8539bc36a8a0",
      "metadata": {
        "id": "271b5f7f-612d-4ee3-ab6c-8539bc36a8a0",
        "tags": [],
        "colab": {
          "base_uri": "https://localhost:8080/"
        },
        "outputId": "97989b1e-bc84-4d0c-bb96-dcd357d571e0"
      },
      "outputs": [
        {
          "output_type": "execute_result",
          "data": {
            "text/plain": [
              "Schema([('CUST_ID', String),\n",
              "        ('START_DATE', Date),\n",
              "        ('END_DATE', Date),\n",
              "        ('TRANS_ID', String),\n",
              "        ('DATE', Date),\n",
              "        ('YEAR', Int64),\n",
              "        ('MONTH', Int64),\n",
              "        ('DAY', Int64),\n",
              "        ('EXP_TYPE', String),\n",
              "        ('AMOUNT', Float64)])"
            ]
          },
          "metadata": {},
          "execution_count": 9
        }
      ],
      "source": [
        "transactions.collect_schema()"
      ]
    },
    {
      "cell_type": "code",
      "execution_count": 10,
      "id": "86b44c08-a229-41b3-8e22-59f03eee68fd",
      "metadata": {
        "id": "86b44c08-a229-41b3-8e22-59f03eee68fd",
        "colab": {
          "base_uri": "https://localhost:8080/",
          "height": 254
        },
        "outputId": "61f515ae-6e0c-421e-834c-2acf7dea6aca"
      },
      "outputs": [
        {
          "output_type": "execute_result",
          "data": {
            "text/plain": [
              "shape: (5, 10)\n",
              "┌────────────┬────────────┬──────────┬─────────────────┬───┬───────┬─────┬───────────────┬────────┐\n",
              "│ CUST_ID    ┆ START_DATE ┆ END_DATE ┆ TRANS_ID        ┆ … ┆ MONTH ┆ DAY ┆ EXP_TYPE      ┆ AMOUNT │\n",
              "│ ---        ┆ ---        ┆ ---      ┆ ---             ┆   ┆ ---   ┆ --- ┆ ---           ┆ ---    │\n",
              "│ str        ┆ date       ┆ date     ┆ str             ┆   ┆ i64   ┆ i64 ┆ str           ┆ f64    │\n",
              "╞════════════╪════════════╪══════════╪═════════════════╪═══╪═══════╪═════╪═══════════════╪════════╡\n",
              "│ CI6XLYUMQK ┆ 2015-05-01 ┆ null     ┆ T8I9ZB5A6X90UG8 ┆ … ┆ 9     ┆ 11  ┆ Motor/Travel  ┆ 20.27  │\n",
              "│ CI6XLYUMQK ┆ 2015-05-01 ┆ null     ┆ TZ4JSLS7SC7FO9H ┆ … ┆ 2     ┆ 8   ┆ Motor/Travel  ┆ 12.85  │\n",
              "│ CI6XLYUMQK ┆ 2015-05-01 ┆ null     ┆ TTUKRDDJ6B6F42H ┆ … ┆ 8     ┆ 1   ┆ Housing       ┆ 383.8  │\n",
              "│ CI6XLYUMQK ┆ 2015-05-01 ┆ null     ┆ TDUHFRUKGPPI6HD ┆ … ┆ 3     ┆ 16  ┆ Entertainment ┆ 5.72   │\n",
              "│ CI6XLYUMQK ┆ 2015-05-01 ┆ null     ┆ T0JBZHBMSVRFMMD ┆ … ┆ 5     ┆ 15  ┆ Entertainment ┆ 11.06  │\n",
              "└────────────┴────────────┴──────────┴─────────────────┴───┴───────┴─────┴───────────────┴────────┘"
            ],
            "text/html": [
              "<div><style>\n",
              ".dataframe > thead > tr,\n",
              ".dataframe > tbody > tr {\n",
              "  text-align: right;\n",
              "  white-space: pre-wrap;\n",
              "}\n",
              "</style>\n",
              "<small>shape: (5, 10)</small><table border=\"1\" class=\"dataframe\"><thead><tr><th>CUST_ID</th><th>START_DATE</th><th>END_DATE</th><th>TRANS_ID</th><th>DATE</th><th>YEAR</th><th>MONTH</th><th>DAY</th><th>EXP_TYPE</th><th>AMOUNT</th></tr><tr><td>str</td><td>date</td><td>date</td><td>str</td><td>date</td><td>i64</td><td>i64</td><td>i64</td><td>str</td><td>f64</td></tr></thead><tbody><tr><td>&quot;CI6XLYUMQK&quot;</td><td>2015-05-01</td><td>null</td><td>&quot;T8I9ZB5A6X90UG8&quot;</td><td>2015-09-11</td><td>2015</td><td>9</td><td>11</td><td>&quot;Motor/Travel&quot;</td><td>20.27</td></tr><tr><td>&quot;CI6XLYUMQK&quot;</td><td>2015-05-01</td><td>null</td><td>&quot;TZ4JSLS7SC7FO9H&quot;</td><td>2017-02-08</td><td>2017</td><td>2</td><td>8</td><td>&quot;Motor/Travel&quot;</td><td>12.85</td></tr><tr><td>&quot;CI6XLYUMQK&quot;</td><td>2015-05-01</td><td>null</td><td>&quot;TTUKRDDJ6B6F42H&quot;</td><td>2015-08-01</td><td>2015</td><td>8</td><td>1</td><td>&quot;Housing&quot;</td><td>383.8</td></tr><tr><td>&quot;CI6XLYUMQK&quot;</td><td>2015-05-01</td><td>null</td><td>&quot;TDUHFRUKGPPI6HD&quot;</td><td>2019-03-16</td><td>2019</td><td>3</td><td>16</td><td>&quot;Entertainment&quot;</td><td>5.72</td></tr><tr><td>&quot;CI6XLYUMQK&quot;</td><td>2015-05-01</td><td>null</td><td>&quot;T0JBZHBMSVRFMMD&quot;</td><td>2015-05-15</td><td>2015</td><td>5</td><td>15</td><td>&quot;Entertainment&quot;</td><td>11.06</td></tr></tbody></table></div>"
            ]
          },
          "metadata": {},
          "execution_count": 10
        }
      ],
      "source": [
        "transactions.head(5).collect()"
      ]
    },
    {
      "cell_type": "markdown",
      "id": "fa5da5a9-4ca5-473b-a99f-b5ef4711e70e",
      "metadata": {
        "id": "fa5da5a9-4ca5-473b-a99f-b5ef4711e70e"
      },
      "source": [
        "This dataset has a mix of data types (strings, dates, integers, and floats), some missing values, and it looks like the dates were actually parsed as strings. We'll need to handle that during some of our analysis."
      ]
    },
    {
      "cell_type": "markdown",
      "id": "bfc44e41-191c-4cee-8d99-29a47d5f3b78",
      "metadata": {
        "id": "bfc44e41-191c-4cee-8d99-29a47d5f3b78"
      },
      "source": [
        "# Our first GPU operation: Total aggregate transaction amount"
      ]
    },
    {
      "cell_type": "markdown",
      "id": "551e3232-b815-4b96-8f49-343f6ce07af9",
      "metadata": {
        "id": "551e3232-b815-4b96-8f49-343f6ce07af9"
      },
      "source": [
        "With Polars, to calculate the total spending in of all transactions we simply `sum` the `AMOUNT` column:"
      ]
    },
    {
      "cell_type": "code",
      "execution_count": null,
      "id": "f4960ea1-a1fd-4af9-a08b-2dc6210117af",
      "metadata": {
        "id": "f4960ea1-a1fd-4af9-a08b-2dc6210117af",
        "tags": [],
        "colab": {
          "base_uri": "https://localhost:8080/",
          "height": 129
        },
        "outputId": "066b0d3e-ecd3-4c5f-ce8f-be6b6bc5d00a"
      },
      "outputs": [
        {
          "output_type": "execute_result",
          "data": {
            "text/plain": [
              "shape: (1, 1)\n",
              "┌──────────┐\n",
              "│ AMOUNT   │\n",
              "│ ---      │\n",
              "│ f64      │\n",
              "╞══════════╡\n",
              "│ 3.6183e9 │\n",
              "└──────────┘"
            ],
            "text/html": [
              "<div><style>\n",
              ".dataframe > thead > tr,\n",
              ".dataframe > tbody > tr {\n",
              "  text-align: right;\n",
              "  white-space: pre-wrap;\n",
              "}\n",
              "</style>\n",
              "<small>shape: (1, 1)</small><table border=\"1\" class=\"dataframe\"><thead><tr><th>AMOUNT</th></tr><tr><td>f64</td></tr></thead><tbody><tr><td>3.6183e9</td></tr></tbody></table></div>"
            ]
          },
          "metadata": {},
          "execution_count": 8
        }
      ],
      "source": [
        "transactions.select(pl.col(\"AMOUNT\").sum()).collect()"
      ]
    },
    {
      "cell_type": "markdown",
      "id": "fd4a8068-5e43-4188-b268-1358af945048",
      "metadata": {
        "id": "fd4a8068-5e43-4188-b268-1358af945048"
      },
      "source": [
        "Looks like we're handling a high total transaction volume. Let's run the same query on the GPU.\n",
        "\n",
        "To use a GPU, we just need to tell Polars to use the GPU engine when we call `collect` by passing `engine=\"gpu\"` as a parameter.\n",
        "\n",
        "\n",
        "```python\n",
        "transactions.select(pl.col(\"AMOUNT\").sum()).collect(engine=\"gpu\")\n",
        "```\n",
        "\n",
        "The default configuration is likely the right choice for most workloads, but sometimes we want more control. We can provide more detailed configuration options (such as which device to run on and a variety of other options) by passing a Polars `GPUEngine` object to the `engine` parameter instead.\n",
        "\n",
        "\n",
        "In this notebook, we'll use `pl.GPUEngine`. The default configuration has transparent CPU fallback for unsupported operations, so if we execute an unsupported query we don't get an error. To prove we're running on the GPU, we'll pass a configured engine object that will raise an error if we can't run the query.\n",
        "\n",
        "_If you're running with [jupyterlab-nvdashboard](https://developer.nvidia.com/blog/maximize-gpu-performance-with-near-real-time-usage-stats-on-nvdashboard-v0-10/) you should see the GPU Memory and Utilization tick up._"
      ]
    },
    {
      "cell_type": "code",
      "execution_count": 11,
      "id": "308471b8-1086-470c-ac32-95e8af55fc9a",
      "metadata": {
        "id": "308471b8-1086-470c-ac32-95e8af55fc9a"
      },
      "outputs": [],
      "source": [
        "gpu_engine = pl.GPUEngine(\n",
        "    device=0, # This is the default\n",
        "    raise_on_fail=True, # Fail loudly if we can't run on the GPU.\n",
        ")"
      ]
    },
    {
      "cell_type": "markdown",
      "id": "9b96dc10-65b0-4399-a09e-bf6e0c94438c",
      "metadata": {
        "id": "9b96dc10-65b0-4399-a09e-bf6e0c94438c"
      },
      "source": [
        "The very first collection on the GPU will take a couple of seconds. The GPU engine is lazy-loaded so that even if the necessary packages are installed, Polars' fast import times are not affected. Consequently, when we trigger GPU execution for the first time, we load a number of additional packages, and initialize GPU-specific data structures and contexts."
      ]
    },
    {
      "cell_type": "code",
      "execution_count": 12,
      "id": "986c74e0-94b7-48e4-9921-fb2a17a252f5",
      "metadata": {
        "id": "986c74e0-94b7-48e4-9921-fb2a17a252f5",
        "colab": {
          "base_uri": "https://localhost:8080/",
          "height": 129
        },
        "outputId": "e68a693d-1eb1-43be-eac5-2ead6ba42351"
      },
      "outputs": [
        {
          "output_type": "execute_result",
          "data": {
            "text/plain": [
              "shape: (1, 1)\n",
              "┌──────────┐\n",
              "│ AMOUNT   │\n",
              "│ ---      │\n",
              "│ f64      │\n",
              "╞══════════╡\n",
              "│ 3.6183e9 │\n",
              "└──────────┘"
            ],
            "text/html": [
              "<div><style>\n",
              ".dataframe > thead > tr,\n",
              ".dataframe > tbody > tr {\n",
              "  text-align: right;\n",
              "  white-space: pre-wrap;\n",
              "}\n",
              "</style>\n",
              "<small>shape: (1, 1)</small><table border=\"1\" class=\"dataframe\"><thead><tr><th>AMOUNT</th></tr><tr><td>f64</td></tr></thead><tbody><tr><td>3.6183e9</td></tr></tbody></table></div>"
            ]
          },
          "metadata": {},
          "execution_count": 12
        }
      ],
      "source": [
        "transactions.select(pl.col(\"AMOUNT\").sum()).collect(engine=gpu_engine)"
      ]
    },
    {
      "cell_type": "markdown",
      "id": "e87175dd-e11c-4146-92ae-4afd3417071b",
      "metadata": {
        "id": "e87175dd-e11c-4146-92ae-4afd3417071b"
      },
      "source": [
        "We probably don't need a GPU for such a simple operation on this dataset. But when we start doing more complex analysis, the high-bandwidth memory and compute power of GPUs will make things much more interactive."
      ]
    },
    {
      "cell_type": "markdown",
      "id": "30466c12-ab87-4800-9bbb-5207197bb444",
      "metadata": {
        "id": "30466c12-ab87-4800-9bbb-5207197bb444"
      },
      "source": [
        "# More Complex Analysis"
      ]
    },
    {
      "cell_type": "markdown",
      "id": "c715ceee-36ea-4b0f-a826-882afaddf23c",
      "metadata": {
        "id": "c715ceee-36ea-4b0f-a826-882afaddf23c"
      },
      "source": [
        "While the data is synthetic, it's representative of the kinds of datasets that come up in financial services, retail/e-commerce, consumer internet, and other industries.\n",
        "\n",
        "With this data, we can see how using GPU-accelerated Polars provides a significant productivity boosts by exploring common business questions like:\n",
        "\n",
        "1. Which customers have the largest total transctions?\n",
        "2. What's the per-month transaction amount for each spending category over time?\n",
        "3. How does weather effect the transactions for each category?\n",
        "\n",
        "Because this data is synthentic, the results won't be meaningful in terms of business conclusions. Rather, we are motivating _why_ using this GPU engine is useful in terms of perfomance and cost reduction. We'll prove that the CPU and GPU engine get the same results in the first example, but as we move throughout the notebook we'll take this for granted and focus on CPU and GPU timings.\n",
        "\n",
        "Let's start with our first question."
      ]
    },
    {
      "cell_type": "markdown",
      "id": "d0ff0679-e562-437c-b5e8-882c88e04393",
      "metadata": {
        "id": "d0ff0679-e562-437c-b5e8-882c88e04393"
      },
      "source": [
        "## Which customers have the largest total transactions?"
      ]
    },
    {
      "cell_type": "code",
      "execution_count": 13,
      "id": "7ac30d66-a58b-4b72-83d6-99c0646b9e3c",
      "metadata": {
        "id": "7ac30d66-a58b-4b72-83d6-99c0646b9e3c",
        "colab": {
          "base_uri": "https://localhost:8080/",
          "height": 289
        },
        "outputId": "d847f16a-885d-4feb-cef4-25961cb86130"
      },
      "outputs": [
        {
          "output_type": "stream",
          "name": "stdout",
          "text": [
            "CPU times: user 4.07 s, sys: 3.9 s, total: 7.96 s\n",
            "Wall time: 5.51 s\n"
          ]
        },
        {
          "output_type": "execute_result",
          "data": {
            "text/plain": [
              "shape: (5, 2)\n",
              "┌────────────┬──────────┐\n",
              "│ CUST_ID    ┆ AMOUNT   │\n",
              "│ ---        ┆ ---      │\n",
              "│ str        ┆ f64      │\n",
              "╞════════════╪══════════╡\n",
              "│ CA9UYOQ5DA ┆ 2.0290e6 │\n",
              "│ CJUK2MTM5Q ┆ 1.8115e6 │\n",
              "│ CYXX1NBIKL ┆ 1.8082e6 │\n",
              "│ C6ILEYAYQ9 ┆ 1.7961e6 │\n",
              "│ CCNBC305GI ┆ 1.7274e6 │\n",
              "└────────────┴──────────┘"
            ],
            "text/html": [
              "<div><style>\n",
              ".dataframe > thead > tr,\n",
              ".dataframe > tbody > tr {\n",
              "  text-align: right;\n",
              "  white-space: pre-wrap;\n",
              "}\n",
              "</style>\n",
              "<small>shape: (5, 2)</small><table border=\"1\" class=\"dataframe\"><thead><tr><th>CUST_ID</th><th>AMOUNT</th></tr><tr><td>str</td><td>f64</td></tr></thead><tbody><tr><td>&quot;CA9UYOQ5DA&quot;</td><td>2.0290e6</td></tr><tr><td>&quot;CJUK2MTM5Q&quot;</td><td>1.8115e6</td></tr><tr><td>&quot;CYXX1NBIKL&quot;</td><td>1.8082e6</td></tr><tr><td>&quot;C6ILEYAYQ9&quot;</td><td>1.7961e6</td></tr><tr><td>&quot;CCNBC305GI&quot;</td><td>1.7274e6</td></tr></tbody></table></div>"
            ]
          },
          "metadata": {},
          "execution_count": 13
        }
      ],
      "source": [
        "%%time\n",
        "\n",
        "res_cpu = (\n",
        "    transactions\n",
        "    .group_by(\"CUST_ID\")\n",
        "    .agg(pl.col(\"AMOUNT\").sum())\n",
        "    .sort(by=\"AMOUNT\", descending=True)\n",
        "    .head()\n",
        "    .collect()\n",
        ")\n",
        "res_cpu"
      ]
    },
    {
      "cell_type": "code",
      "execution_count": 14,
      "id": "3c67acfc-531f-49a2-8485-b665d33468a7",
      "metadata": {
        "id": "3c67acfc-531f-49a2-8485-b665d33468a7",
        "colab": {
          "base_uri": "https://localhost:8080/",
          "height": 289
        },
        "outputId": "cc31866c-21bd-4ba8-9464-5704f8d616b9"
      },
      "outputs": [
        {
          "output_type": "stream",
          "name": "stdout",
          "text": [
            "CPU times: user 349 ms, sys: 134 ms, total: 482 ms\n",
            "Wall time: 447 ms\n"
          ]
        },
        {
          "output_type": "execute_result",
          "data": {
            "text/plain": [
              "shape: (5, 2)\n",
              "┌────────────┬──────────┐\n",
              "│ CUST_ID    ┆ AMOUNT   │\n",
              "│ ---        ┆ ---      │\n",
              "│ str        ┆ f64      │\n",
              "╞════════════╪══════════╡\n",
              "│ CA9UYOQ5DA ┆ 2.0290e6 │\n",
              "│ CJUK2MTM5Q ┆ 1.8115e6 │\n",
              "│ CYXX1NBIKL ┆ 1.8082e6 │\n",
              "│ C6ILEYAYQ9 ┆ 1.7961e6 │\n",
              "│ CCNBC305GI ┆ 1.7274e6 │\n",
              "└────────────┴──────────┘"
            ],
            "text/html": [
              "<div><style>\n",
              ".dataframe > thead > tr,\n",
              ".dataframe > tbody > tr {\n",
              "  text-align: right;\n",
              "  white-space: pre-wrap;\n",
              "}\n",
              "</style>\n",
              "<small>shape: (5, 2)</small><table border=\"1\" class=\"dataframe\"><thead><tr><th>CUST_ID</th><th>AMOUNT</th></tr><tr><td>str</td><td>f64</td></tr></thead><tbody><tr><td>&quot;CA9UYOQ5DA&quot;</td><td>2.0290e6</td></tr><tr><td>&quot;CJUK2MTM5Q&quot;</td><td>1.8115e6</td></tr><tr><td>&quot;CYXX1NBIKL&quot;</td><td>1.8082e6</td></tr><tr><td>&quot;C6ILEYAYQ9&quot;</td><td>1.7961e6</td></tr><tr><td>&quot;CCNBC305GI&quot;</td><td>1.7274e6</td></tr></tbody></table></div>"
            ]
          },
          "metadata": {},
          "execution_count": 14
        }
      ],
      "source": [
        "%%time\n",
        "\n",
        "res_gpu = (\n",
        "    transactions\n",
        "    .group_by(\"CUST_ID\")\n",
        "    .agg(pl.col(\"AMOUNT\").sum())\n",
        "    .sort(by=\"AMOUNT\", descending=True)\n",
        "    .head()\n",
        "    .collect(engine=gpu_engine)\n",
        ")\n",
        "res_gpu"
      ]
    },
    {
      "cell_type": "code",
      "execution_count": 15,
      "id": "03c876f1-495b-4cf9-ad4c-0a16ed53ce32",
      "metadata": {
        "id": "03c876f1-495b-4cf9-ad4c-0a16ed53ce32"
      },
      "outputs": [],
      "source": [
        "assert_frame_equal(res_cpu, res_gpu)"
      ]
    },
    {
      "cell_type": "markdown",
      "id": "3ec2e276-6ed2-47f2-b968-85586896a854",
      "metadata": {
        "id": "3ec2e276-6ed2-47f2-b968-85586896a854"
      },
      "source": [
        "Great! We see a nice performance gain when using the GPU engine and we've confirmed the results are equal."
      ]
    },
    {
      "cell_type": "markdown",
      "id": "4acabf65-ee3f-4e88-9d05-206c776bcb3d",
      "metadata": {
        "id": "4acabf65-ee3f-4e88-9d05-206c776bcb3d"
      },
      "source": [
        "In addition to the Dataframe interface, Polars also has an SQL interface. We can also use this with the GPU engine, since Polars translates both the DataFrame and SQL interfaces into a query execution plan."
      ]
    },
    {
      "cell_type": "code",
      "execution_count": 16,
      "id": "5b9a25d0-f777-4bb9-9c74-e15690675938",
      "metadata": {
        "id": "5b9a25d0-f777-4bb9-9c74-e15690675938",
        "colab": {
          "base_uri": "https://localhost:8080/",
          "height": 324
        },
        "outputId": "7b8a24c5-8c11-4b07-8556-bb4276af857c"
      },
      "outputs": [
        {
          "output_type": "stream",
          "name": "stdout",
          "text": [
            "CPU times: user 4.57 s, sys: 2.75 s, total: 7.32 s\n",
            "Wall time: 6.13 s\n",
            "CPU times: user 317 ms, sys: 58.7 ms, total: 375 ms\n",
            "Wall time: 360 ms\n"
          ]
        },
        {
          "output_type": "execute_result",
          "data": {
            "text/plain": [
              "shape: (5, 2)\n",
              "┌────────────┬──────────┐\n",
              "│ CUST_ID    ┆ sum_amt  │\n",
              "│ ---        ┆ ---      │\n",
              "│ str        ┆ f64      │\n",
              "╞════════════╪══════════╡\n",
              "│ CA9UYOQ5DA ┆ 2.0290e6 │\n",
              "│ CJUK2MTM5Q ┆ 1.8115e6 │\n",
              "│ CYXX1NBIKL ┆ 1.8082e6 │\n",
              "│ C6ILEYAYQ9 ┆ 1.7961e6 │\n",
              "│ CCNBC305GI ┆ 1.7274e6 │\n",
              "└────────────┴──────────┘"
            ],
            "text/html": [
              "<div><style>\n",
              ".dataframe > thead > tr,\n",
              ".dataframe > tbody > tr {\n",
              "  text-align: right;\n",
              "  white-space: pre-wrap;\n",
              "}\n",
              "</style>\n",
              "<small>shape: (5, 2)</small><table border=\"1\" class=\"dataframe\"><thead><tr><th>CUST_ID</th><th>sum_amt</th></tr><tr><td>str</td><td>f64</td></tr></thead><tbody><tr><td>&quot;CA9UYOQ5DA&quot;</td><td>2.0290e6</td></tr><tr><td>&quot;CJUK2MTM5Q&quot;</td><td>1.8115e6</td></tr><tr><td>&quot;CYXX1NBIKL&quot;</td><td>1.8082e6</td></tr><tr><td>&quot;C6ILEYAYQ9&quot;</td><td>1.7961e6</td></tr><tr><td>&quot;CCNBC305GI&quot;</td><td>1.7274e6</td></tr></tbody></table></div>"
            ]
          },
          "metadata": {},
          "execution_count": 16
        }
      ],
      "source": [
        "query = \"\"\"\n",
        "SELECT CUST_ID, SUM(AMOUNT) as sum_amt\n",
        "FROM transactions\n",
        "GROUP BY CUST_ID\n",
        "ORDER BY sum_amt desc\n",
        "LIMIT 5\n",
        "\"\"\"\n",
        "\n",
        "%time pl.sql(query).collect()\n",
        "%time pl.sql(query).collect(engine=gpu_engine)"
      ]
    },
    {
      "cell_type": "markdown",
      "id": "27c9efa0-1c69-4039-8a7b-7a55cb1ecf78",
      "metadata": {
        "id": "27c9efa0-1c69-4039-8a7b-7a55cb1ecf78"
      },
      "source": [
        "## Which customers have the largest single transaction?\n",
        "\n",
        "Customer `CP2KXQSX9I` had the largest total transactions over time (on the full dataset), but they might not have the largest single transaction. Let's find the top customers by single transaction amount."
      ]
    },
    {
      "cell_type": "code",
      "execution_count": 17,
      "id": "b26080e3-9b35-45cc-8a7e-c78926467ae8",
      "metadata": {
        "id": "b26080e3-9b35-45cc-8a7e-c78926467ae8",
        "colab": {
          "base_uri": "https://localhost:8080/",
          "height": 289
        },
        "outputId": "87cbc456-831e-4d21-8cf7-bd7e474823df"
      },
      "outputs": [
        {
          "output_type": "stream",
          "name": "stdout",
          "text": [
            "CPU times: user 4.62 s, sys: 2.8 s, total: 7.42 s\n",
            "Wall time: 6.55 s\n"
          ]
        },
        {
          "output_type": "execute_result",
          "data": {
            "text/plain": [
              "shape: (5, 2)\n",
              "┌────────────┬────────────┐\n",
              "│ CUST_ID    ┆ max_amount │\n",
              "│ ---        ┆ ---        │\n",
              "│ str        ┆ f64        │\n",
              "╞════════════╪════════════╡\n",
              "│ CIP0I11MG2 ┆ 6201.45    │\n",
              "│ C4O38N5TQS ┆ 6077.49    │\n",
              "│ CL2M3N3K90 ┆ 6041.59    │\n",
              "│ CC472PU9O8 ┆ 5929.14    │\n",
              "│ CGR8UI27OK ┆ 5903.61    │\n",
              "└────────────┴────────────┘"
            ],
            "text/html": [
              "<div><style>\n",
              ".dataframe > thead > tr,\n",
              ".dataframe > tbody > tr {\n",
              "  text-align: right;\n",
              "  white-space: pre-wrap;\n",
              "}\n",
              "</style>\n",
              "<small>shape: (5, 2)</small><table border=\"1\" class=\"dataframe\"><thead><tr><th>CUST_ID</th><th>max_amount</th></tr><tr><td>str</td><td>f64</td></tr></thead><tbody><tr><td>&quot;CIP0I11MG2&quot;</td><td>6201.45</td></tr><tr><td>&quot;C4O38N5TQS&quot;</td><td>6077.49</td></tr><tr><td>&quot;CL2M3N3K90&quot;</td><td>6041.59</td></tr><tr><td>&quot;CC472PU9O8&quot;</td><td>5929.14</td></tr><tr><td>&quot;CGR8UI27OK&quot;</td><td>5903.61</td></tr></tbody></table></div>"
            ]
          },
          "metadata": {},
          "execution_count": 17
        }
      ],
      "source": [
        "%%time\n",
        "\n",
        "(\n",
        "    transactions\n",
        "    .group_by(\"CUST_ID\")\n",
        "    .agg(pl.col(\"AMOUNT\").max().alias(\"max_amount\"))\n",
        "    .sort(by=\"max_amount\", descending=True)\n",
        "    .head()\n",
        "    .collect()\n",
        ")"
      ]
    },
    {
      "cell_type": "code",
      "execution_count": 18,
      "id": "c696b693-fb50-4336-b06e-ca137ffb8897",
      "metadata": {
        "id": "c696b693-fb50-4336-b06e-ca137ffb8897",
        "colab": {
          "base_uri": "https://localhost:8080/",
          "height": 289
        },
        "outputId": "17883565-52ec-4e07-bc6d-9265deff0a95"
      },
      "outputs": [
        {
          "output_type": "stream",
          "name": "stdout",
          "text": [
            "CPU times: user 332 ms, sys: 36.7 ms, total: 368 ms\n",
            "Wall time: 360 ms\n"
          ]
        },
        {
          "output_type": "execute_result",
          "data": {
            "text/plain": [
              "shape: (5, 2)\n",
              "┌────────────┬────────────┐\n",
              "│ CUST_ID    ┆ max_amount │\n",
              "│ ---        ┆ ---        │\n",
              "│ str        ┆ f64        │\n",
              "╞════════════╪════════════╡\n",
              "│ CIP0I11MG2 ┆ 6201.45    │\n",
              "│ C4O38N5TQS ┆ 6077.49    │\n",
              "│ CL2M3N3K90 ┆ 6041.59    │\n",
              "│ CC472PU9O8 ┆ 5929.14    │\n",
              "│ CGR8UI27OK ┆ 5903.61    │\n",
              "└────────────┴────────────┘"
            ],
            "text/html": [
              "<div><style>\n",
              ".dataframe > thead > tr,\n",
              ".dataframe > tbody > tr {\n",
              "  text-align: right;\n",
              "  white-space: pre-wrap;\n",
              "}\n",
              "</style>\n",
              "<small>shape: (5, 2)</small><table border=\"1\" class=\"dataframe\"><thead><tr><th>CUST_ID</th><th>max_amount</th></tr><tr><td>str</td><td>f64</td></tr></thead><tbody><tr><td>&quot;CIP0I11MG2&quot;</td><td>6201.45</td></tr><tr><td>&quot;C4O38N5TQS&quot;</td><td>6077.49</td></tr><tr><td>&quot;CL2M3N3K90&quot;</td><td>6041.59</td></tr><tr><td>&quot;CC472PU9O8&quot;</td><td>5929.14</td></tr><tr><td>&quot;CGR8UI27OK&quot;</td><td>5903.61</td></tr></tbody></table></div>"
            ]
          },
          "metadata": {},
          "execution_count": 18
        }
      ],
      "source": [
        "%%time\n",
        "\n",
        "(\n",
        "    transactions\n",
        "    .group_by(\"CUST_ID\")\n",
        "    .agg(pl.col(\"AMOUNT\").max().alias(\"max_amount\"))\n",
        "    .sort(by=\"max_amount\", descending=True)\n",
        "    .head()\n",
        "    .collect(engine=gpu_engine)\n",
        ")"
      ]
    },
    {
      "cell_type": "markdown",
      "id": "7080def6-d4e5-408c-8c8b-83a0895b0c3b",
      "metadata": {
        "id": "7080def6-d4e5-408c-8c8b-83a0895b0c3b"
      },
      "source": [
        "Again, we see a nice speedup using the GPU engine."
      ]
    },
    {
      "cell_type": "markdown",
      "id": "d0f33dad-b5f3-446d-a63e-95d907ab1cc8",
      "metadata": {
        "id": "d0f33dad-b5f3-446d-a63e-95d907ab1cc8"
      },
      "source": [
        "## Investigating a specific customer\n",
        "\n",
        "Let's explore the transactions of a single customer now. What was `CIP0I11MG2`'s largest transaction?"
      ]
    },
    {
      "cell_type": "code",
      "execution_count": 19,
      "id": "048e08be-5e30-41fa-a344-e2eb46e0085c",
      "metadata": {
        "id": "048e08be-5e30-41fa-a344-e2eb46e0085c",
        "colab": {
          "base_uri": "https://localhost:8080/",
          "height": 164
        },
        "outputId": "7e03aeb5-cd32-4af3-e338-0a651abeca7d"
      },
      "outputs": [
        {
          "output_type": "stream",
          "name": "stdout",
          "text": [
            "CPU times: user 1.9 s, sys: 115 ms, total: 2.01 s\n",
            "Wall time: 1.43 s\n"
          ]
        },
        {
          "output_type": "execute_result",
          "data": {
            "text/plain": [
              "shape: (1, 1)\n",
              "┌─────────┐\n",
              "│ AMOUNT  │\n",
              "│ ---     │\n",
              "│ f64     │\n",
              "╞═════════╡\n",
              "│ 6201.45 │\n",
              "└─────────┘"
            ],
            "text/html": [
              "<div><style>\n",
              ".dataframe > thead > tr,\n",
              ".dataframe > tbody > tr {\n",
              "  text-align: right;\n",
              "  white-space: pre-wrap;\n",
              "}\n",
              "</style>\n",
              "<small>shape: (1, 1)</small><table border=\"1\" class=\"dataframe\"><thead><tr><th>AMOUNT</th></tr><tr><td>f64</td></tr></thead><tbody><tr><td>6201.45</td></tr></tbody></table></div>"
            ]
          },
          "metadata": {},
          "execution_count": 19
        }
      ],
      "source": [
        "%%time\n",
        "\n",
        "(\n",
        "    transactions\n",
        "    .filter(pl.col(\"CUST_ID\") == \"CIP0I11MG2\")\n",
        "    .select(pl.col(\"AMOUNT\").max())\n",
        "    .collect()\n",
        ")"
      ]
    },
    {
      "cell_type": "code",
      "execution_count": 20,
      "id": "95a01a3d-f400-4439-b30b-09860439058a",
      "metadata": {
        "id": "95a01a3d-f400-4439-b30b-09860439058a",
        "colab": {
          "base_uri": "https://localhost:8080/",
          "height": 164
        },
        "outputId": "1826f828-b317-46c9-e2e2-398567872195"
      },
      "outputs": [
        {
          "output_type": "stream",
          "name": "stdout",
          "text": [
            "CPU times: user 214 ms, sys: 44.5 ms, total: 258 ms\n",
            "Wall time: 344 ms\n"
          ]
        },
        {
          "output_type": "execute_result",
          "data": {
            "text/plain": [
              "shape: (1, 1)\n",
              "┌─────────┐\n",
              "│ AMOUNT  │\n",
              "│ ---     │\n",
              "│ f64     │\n",
              "╞═════════╡\n",
              "│ 6201.45 │\n",
              "└─────────┘"
            ],
            "text/html": [
              "<div><style>\n",
              ".dataframe > thead > tr,\n",
              ".dataframe > tbody > tr {\n",
              "  text-align: right;\n",
              "  white-space: pre-wrap;\n",
              "}\n",
              "</style>\n",
              "<small>shape: (1, 1)</small><table border=\"1\" class=\"dataframe\"><thead><tr><th>AMOUNT</th></tr><tr><td>f64</td></tr></thead><tbody><tr><td>6201.45</td></tr></tbody></table></div>"
            ]
          },
          "metadata": {},
          "execution_count": 20
        }
      ],
      "source": [
        "%%time\n",
        "\n",
        "(\n",
        "    transactions\n",
        "    .filter(pl.col(\"CUST_ID\") == \"CIP0I11MG2\")\n",
        "    .select(pl.col(\"AMOUNT\").max())\n",
        "    .collect(engine=gpu_engine)\n",
        ")"
      ]
    },
    {
      "cell_type": "markdown",
      "id": "fc6b01b0-13ec-4dcc-bd8e-26f193a54d21",
      "metadata": {
        "id": "fc6b01b0-13ec-4dcc-bd8e-26f193a54d21"
      },
      "source": [
        "### Sidebar: Why was performance using the CPU and GPU engines similar for this query?"
      ]
    },
    {
      "cell_type": "markdown",
      "id": "b1a705fe-bb1e-440e-ad5a-829e68971298",
      "metadata": {
        "id": "b1a705fe-bb1e-440e-ad5a-829e68971298"
      },
      "source": [
        "What we've seen so far is that, for many common queries, we see significant performance increases when we use the GPU. But for this last one, things were more similar.\n",
        "\n",
        "Using Polars on a GPU isn't **always** a surefire winner in terms of speed compared to Polars on a CPU. For simple queries that aren't computationally heavy, like the last query, we're often limited by the speed that we can read results from disk.\n",
        "\n",
        "Let's confirm this by profiling."
      ]
    },
    {
      "cell_type": "code",
      "execution_count": 21,
      "id": "85acb8c5-4965-4b3d-bda6-cc484bae765a",
      "metadata": {
        "id": "85acb8c5-4965-4b3d-bda6-cc484bae765a",
        "colab": {
          "base_uri": "https://localhost:8080/",
          "height": 192
        },
        "outputId": "5a5cd9bd-35e8-4aeb-f625-9e1173a18e0d"
      },
      "outputs": [
        {
          "output_type": "execute_result",
          "data": {
            "text/plain": [
              "shape: (3, 4)\n",
              "┌─────────────────────────────────┬─────────┬─────────┬────────────────┐\n",
              "│ node                            ┆ start   ┆ end     ┆ pct_time_spent │\n",
              "│ ---                             ┆ ---     ┆ ---     ┆ ---            │\n",
              "│ str                             ┆ u64     ┆ u64     ┆ f64            │\n",
              "╞═════════════════════════════════╪═════════╪═════════╪════════════════╡\n",
              "│ optimization                    ┆ 0       ┆ 5       ┆ 0.000387       │\n",
              "│ parquet(transactions.parquet, … ┆ 5       ┆ 1293588 ┆ 99.996444      │\n",
              "│ select(AMOUNT)                  ┆ 1293602 ┆ 1293629 ┆ 0.002087       │\n",
              "└─────────────────────────────────┴─────────┴─────────┴────────────────┘"
            ],
            "text/html": [
              "<div><style>\n",
              ".dataframe > thead > tr,\n",
              ".dataframe > tbody > tr {\n",
              "  text-align: right;\n",
              "  white-space: pre-wrap;\n",
              "}\n",
              "</style>\n",
              "<small>shape: (3, 4)</small><table border=\"1\" class=\"dataframe\"><thead><tr><th>node</th><th>start</th><th>end</th><th>pct_time_spent</th></tr><tr><td>str</td><td>u64</td><td>u64</td><td>f64</td></tr></thead><tbody><tr><td>&quot;optimization&quot;</td><td>0</td><td>5</td><td>0.000387</td></tr><tr><td>&quot;parquet(transactions.parquet, …</td><td>5</td><td>1293588</td><td>99.996444</td></tr><tr><td>&quot;select(AMOUNT)&quot;</td><td>1293602</td><td>1293629</td><td>0.002087</td></tr></tbody></table></div>"
            ]
          },
          "metadata": {},
          "execution_count": 21
        }
      ],
      "source": [
        "res, prof = (\n",
        "    transactions\n",
        "    .filter(pl.col(\"CUST_ID\") == \"CIP0I11MG2\")\n",
        "    .select(pl.col(\"AMOUNT\").max())\n",
        "    .profile()\n",
        ")\n",
        "\n",
        "prof.with_columns(\n",
        "    ((pl.col(\"end\") - pl.col(\"start\")) / pl.col(\"end\").max() * 100)\n",
        "    .alias(\"pct_time_spent\")\n",
        ")"
      ]
    },
    {
      "cell_type": "markdown",
      "id": "920ecf53-726a-467b-9493-c86cfab66e74",
      "metadata": {
        "id": "920ecf53-726a-467b-9493-c86cfab66e74"
      },
      "source": [
        "We spent 99.9%+ of the time just reading the data. Polars can use the GPU-accelerated Parquet reader to read this data, but ultimately when we're **IO bound** like this, there's less opportunity for GPU-acceleration.\n",
        "\n",
        "Let's try an even more computationally intense query."
      ]
    },
    {
      "cell_type": "markdown",
      "id": "3967525b-00da-488f-beba-6c14b74371de",
      "metadata": {
        "id": "3967525b-00da-488f-beba-6c14b74371de"
      },
      "source": [
        "## What's the per-month transaction amount for each category over time?\n",
        "\n",
        "For this query, we'll group and sort down to the individual month, which takes more work."
      ]
    },
    {
      "cell_type": "code",
      "execution_count": 22,
      "id": "c40ca24a-abfd-4652-afe6-2d709f07d038",
      "metadata": {
        "id": "c40ca24a-abfd-4652-afe6-2d709f07d038",
        "colab": {
          "base_uri": "https://localhost:8080/"
        },
        "outputId": "ce5fb0d8-80db-4fdb-c892-28cacbc16682"
      },
      "outputs": [
        {
          "output_type": "stream",
          "name": "stdout",
          "text": [
            "CPU times: user 12.9 s, sys: 8.23 s, total: 21.2 s\n",
            "Wall time: 15.3 s\n"
          ]
        }
      ],
      "source": [
        "%%time\n",
        "\n",
        "res = (\n",
        "    transactions\n",
        "    .group_by([\"EXP_TYPE\", \"YEAR\", \"MONTH\"])\n",
        "    .agg(pl.mean(\"AMOUNT\"))\n",
        "    .sort([\"EXP_TYPE\", \"YEAR\", \"MONTH\"])\n",
        "    .collect()\n",
        ")"
      ]
    },
    {
      "cell_type": "code",
      "execution_count": 23,
      "id": "a4810ebe-41b1-46f3-b3a6-9b4ffd9ad4f3",
      "metadata": {
        "id": "a4810ebe-41b1-46f3-b3a6-9b4ffd9ad4f3",
        "colab": {
          "base_uri": "https://localhost:8080/"
        },
        "outputId": "762200cb-7e4c-4787-f257-3147a38a4b84"
      },
      "outputs": [
        {
          "output_type": "stream",
          "name": "stdout",
          "text": [
            "CPU times: user 439 ms, sys: 173 ms, total: 612 ms\n",
            "Wall time: 1.9 s\n"
          ]
        }
      ],
      "source": [
        "%%time\n",
        "\n",
        "res = (\n",
        "    transactions\n",
        "    .group_by([\"EXP_TYPE\", \"YEAR\", \"MONTH\"])\n",
        "    .agg(pl.mean(\"AMOUNT\"))\n",
        "    .sort([\"EXP_TYPE\", \"YEAR\", \"MONTH\"])\n",
        "    .collect(engine=gpu_engine)\n",
        ")"
      ]
    },
    {
      "cell_type": "markdown",
      "id": "9f5c9e6e-de8f-4b62-8799-e39dfc9ce61e",
      "metadata": {
        "id": "9f5c9e6e-de8f-4b62-8799-e39dfc9ce61e"
      },
      "source": [
        "Again, since this query does more work we see strong performance benefits on the GPU."
      ]
    },
    {
      "cell_type": "markdown",
      "id": "a50c5318-0aa7-46be-b0e0-e98f7306ead4",
      "metadata": {
        "id": "a50c5318-0aa7-46be-b0e0-e98f7306ead4"
      },
      "source": [
        "## Interoperability\n",
        "\n",
        "As mentioned in the introduction, all results will be materialized as standard CPU Polars DataFrames.\n",
        "\n",
        "That means that any results from GPU-accelerated queries interoperate seamlessly with the rest of the polars ecosystem. For example, we can use Polars' built-in plotting functionality on the result we created from the GPU engine.\n",
        "\n",
        "**Colab Note**: Using HoloViews/Bokeh in Colab is not fully supported, so plots may not render correctly."
      ]
    },
    {
      "cell_type": "code",
      "execution_count": null,
      "id": "27802e3a-0fe8-4642-a7fd-9b00f709181d",
      "metadata": {
        "id": "27802e3a-0fe8-4642-a7fd-9b00f709181d"
      },
      "outputs": [],
      "source": [
        "res = res.with_columns(\n",
        "    pl.datetime(pl.col(\"YEAR\"), pl.col(\"MONTH\"), day=1)\n",
        "    .alias(\"year-mon\")\n",
        ")\n",
        "\n",
        "res.plot.scatter(x=\"year-mon\", y=\"AMOUNT\", groupby=\"EXP_TYPE\")"
      ]
    },
    {
      "cell_type": "markdown",
      "id": "649143e3-cd2c-4f4b-9fb0-120c395beb41",
      "metadata": {
        "id": "649143e3-cd2c-4f4b-9fb0-120c395beb41"
      },
      "source": [
        "Interoperability goes in the other direction, too. We can use materialized CPU DataFrames in downstream operations on the GPU. Polars will handle any necessary CPU/GPU conversions for us, which we'll see shortly."
      ]
    },
    {
      "cell_type": "markdown",
      "id": "6adda121-d709-4f4d-abc2-66e8f056873e",
      "metadata": {
        "id": "6adda121-d709-4f4d-abc2-66e8f056873e"
      },
      "source": [
        "# Moving Beyond Our Single Dataset\n",
        "\n",
        "Let's bring in some weather data to evaluate if transactions are impacted by weather. For example, spending behavior for certain categories could be influenced by whether it's raining or even _how much_ it's raining.\n",
        "\n",
        "Like our transactions dataset, here we'll use a simulated rainfall dataset."
      ]
    },
    {
      "cell_type": "markdown",
      "id": "cba0ded1-05bd-4bc4-9e87-70db2231fe92",
      "metadata": {
        "id": "cba0ded1-05bd-4bc4-9e87-70db2231fe92"
      },
      "source": [
        "## Is more rain related to more transactions across specific categories?\n",
        "\n",
        "Our rainfall dataset is a CSV file, so we'll use the CSV reader here and take a look at a few rows.\n",
        "\n",
        "In this case, we'll load the data using the CPU to highlight how smoothly Polars handles mixing CPU and GPU objects."
      ]
    },
    {
      "cell_type": "code",
      "execution_count": 27,
      "id": "8756b895-59fb-42b6-8d85-2c38a69c06a0",
      "metadata": {
        "id": "8756b895-59fb-42b6-8d85-2c38a69c06a0",
        "colab": {
          "base_uri": "https://localhost:8080/",
          "height": 254
        },
        "outputId": "721c3445-a276-4ec4-e69b-100afc55bbcd"
      },
      "outputs": [
        {
          "output_type": "execute_result",
          "data": {
            "text/plain": [
              "shape: (5, 6)\n",
              "┌──────────┬───────────────────┬──────────┬──────┬───────┬─────┐\n",
              "│ Location ┆ Rainfall (inches) ┆ Date     ┆ YEAR ┆ MONTH ┆ DAY │\n",
              "│ ---      ┆ ---               ┆ ---      ┆ ---  ┆ ---   ┆ --- │\n",
              "│ str      ┆ f64               ┆ i64      ┆ i64  ┆ i64   ┆ i64 │\n",
              "╞══════════╪═══════════════════╪══════════╪══════╪═══════╪═════╡\n",
              "│ Tatooine ┆ 0.33              ┆ 20100101 ┆ 2010 ┆ 1     ┆ 1   │\n",
              "│ Tatooine ┆ 0.0               ┆ 20100102 ┆ 2010 ┆ 1     ┆ 2   │\n",
              "│ Tatooine ┆ 0.28              ┆ 20100103 ┆ 2010 ┆ 1     ┆ 3   │\n",
              "│ Tatooine ┆ 0.26              ┆ 20100104 ┆ 2010 ┆ 1     ┆ 4   │\n",
              "│ Tatooine ┆ 0.39              ┆ 20100105 ┆ 2010 ┆ 1     ┆ 5   │\n",
              "└──────────┴───────────────────┴──────────┴──────┴───────┴─────┘"
            ],
            "text/html": [
              "<div><style>\n",
              ".dataframe > thead > tr,\n",
              ".dataframe > tbody > tr {\n",
              "  text-align: right;\n",
              "  white-space: pre-wrap;\n",
              "}\n",
              "</style>\n",
              "<small>shape: (5, 6)</small><table border=\"1\" class=\"dataframe\"><thead><tr><th>Location</th><th>Rainfall (inches)</th><th>Date</th><th>YEAR</th><th>MONTH</th><th>DAY</th></tr><tr><td>str</td><td>f64</td><td>i64</td><td>i64</td><td>i64</td><td>i64</td></tr></thead><tbody><tr><td>&quot;Tatooine&quot;</td><td>0.33</td><td>20100101</td><td>2010</td><td>1</td><td>1</td></tr><tr><td>&quot;Tatooine&quot;</td><td>0.0</td><td>20100102</td><td>2010</td><td>1</td><td>2</td></tr><tr><td>&quot;Tatooine&quot;</td><td>0.28</td><td>20100103</td><td>2010</td><td>1</td><td>3</td></tr><tr><td>&quot;Tatooine&quot;</td><td>0.26</td><td>20100104</td><td>2010</td><td>1</td><td>4</td></tr><tr><td>&quot;Tatooine&quot;</td><td>0.39</td><td>20100105</td><td>2010</td><td>1</td><td>5</td></tr></tbody></table></div>"
            ]
          },
          "metadata": {},
          "execution_count": 27
        }
      ],
      "source": [
        "names = ['Location', 'Rainfall (inches)', 'Date', 'YEAR', 'MONTH', 'DAY']\n",
        "\n",
        "weather = pl.scan_csv(\"rainfall_data_2010_2020.csv\", new_columns=names)\n",
        "weather.head().collect()"
      ]
    },
    {
      "cell_type": "markdown",
      "id": "412ce849-c518-4e70-a236-fb6077b0010a",
      "metadata": {
        "id": "412ce849-c518-4e70-a236-fb6077b0010a"
      },
      "source": [
        "Data is often messy. We've got dates in this CSV file, but they weren't parsed as dates by the CSV reader due to the format. We can easily clean this up by typecasting, after which we'll materialize the DataFrame in CPU memory."
      ]
    },
    {
      "cell_type": "code",
      "execution_count": 28,
      "id": "fc9f8525-d80c-430d-8baa-6bde0f1d7753",
      "metadata": {
        "id": "fc9f8525-d80c-430d-8baa-6bde0f1d7753"
      },
      "outputs": [],
      "source": [
        "weather_cleaned = (\n",
        "    weather\n",
        "    .with_columns(pl.col(\"Date\").cast(pl.Utf8).str.strptime(pl.Date(), \"%Y%m%d\"))\n",
        "    .collect()\n",
        ")"
      ]
    },
    {
      "cell_type": "markdown",
      "id": "e0e84402-6b5d-4a2b-878e-cd72a0613fb1",
      "metadata": {
        "id": "e0e84402-6b5d-4a2b-878e-cd72a0613fb1"
      },
      "source": [
        "To answer the original question about rainfall and spending, we need to join these datasets together.\n",
        "\n",
        "We can pass this CPU in-memory DataFrame to a Polars Lazy API query by calling `.lazy()`."
      ]
    },
    {
      "cell_type": "code",
      "execution_count": 29,
      "id": "899d0901-a4f5-4f08-87dc-90464c15796f",
      "metadata": {
        "id": "899d0901-a4f5-4f08-87dc-90464c15796f",
        "colab": {
          "base_uri": "https://localhost:8080/",
          "height": 289
        },
        "outputId": "2d587c8d-f4cb-490c-b5ef-9b43db874ee5"
      },
      "outputs": [
        {
          "output_type": "stream",
          "name": "stdout",
          "text": [
            "CPU times: user 14.3 s, sys: 4.36 s, total: 18.6 s\n",
            "Wall time: 17 s\n"
          ]
        },
        {
          "output_type": "execute_result",
          "data": {
            "text/plain": [
              "shape: (5, 3)\n",
              "┌─────────────────────┬────────────┬───────────────────┐\n",
              "│ EXP_TYPE            ┆ DATE       ┆ Rainfall (inches) │\n",
              "│ ---                 ┆ ---        ┆ ---               │\n",
              "│ str                 ┆ date       ┆ f64               │\n",
              "╞═════════════════════╪════════════╪═══════════════════╡\n",
              "│ Bills and Utilities ┆ 2010-01-01 ┆ 0.33              │\n",
              "│ Clothing            ┆ 2010-01-01 ┆ 0.33              │\n",
              "│ Education           ┆ 2010-01-01 ┆ 0.33              │\n",
              "│ Entertainment       ┆ 2010-01-01 ┆ 0.33              │\n",
              "│ Fines               ┆ 2010-01-01 ┆ 0.33              │\n",
              "└─────────────────────┴────────────┴───────────────────┘"
            ],
            "text/html": [
              "<div><style>\n",
              ".dataframe > thead > tr,\n",
              ".dataframe > tbody > tr {\n",
              "  text-align: right;\n",
              "  white-space: pre-wrap;\n",
              "}\n",
              "</style>\n",
              "<small>shape: (5, 3)</small><table border=\"1\" class=\"dataframe\"><thead><tr><th>EXP_TYPE</th><th>DATE</th><th>Rainfall (inches)</th></tr><tr><td>str</td><td>date</td><td>f64</td></tr></thead><tbody><tr><td>&quot;Bills and Utilities&quot;</td><td>2010-01-01</td><td>0.33</td></tr><tr><td>&quot;Clothing&quot;</td><td>2010-01-01</td><td>0.33</td></tr><tr><td>&quot;Education&quot;</td><td>2010-01-01</td><td>0.33</td></tr><tr><td>&quot;Entertainment&quot;</td><td>2010-01-01</td><td>0.33</td></tr><tr><td>&quot;Fines&quot;</td><td>2010-01-01</td><td>0.33</td></tr></tbody></table></div>"
            ]
          },
          "metadata": {},
          "execution_count": 29
        }
      ],
      "source": [
        "%%time\n",
        "\n",
        "(\n",
        "    transactions\n",
        "    .join(\n",
        "        other=weather_cleaned.lazy(),\n",
        "        left_on=\"DATE\",\n",
        "        right_on=\"Date\",\n",
        "        how=\"inner\"\n",
        "    )\n",
        "    .group_by([\"EXP_TYPE\", \"DATE\"])\n",
        "    .agg(pl.mean(\"Rainfall (inches)\"))\n",
        "    .sort([\"DATE\", \"EXP_TYPE\", \"Rainfall (inches)\"])\n",
        "    .head()\n",
        "    .collect()\n",
        ")"
      ]
    },
    {
      "cell_type": "markdown",
      "id": "8d45dbf4-cc57-4b4a-a8bd-4877c9044c64",
      "metadata": {
        "id": "8d45dbf4-cc57-4b4a-a8bd-4877c9044c64"
      },
      "source": [
        "When we run the same query on the GPU, Polars handles the CPU / GPU transfers for us under the hood."
      ]
    },
    {
      "cell_type": "code",
      "execution_count": 30,
      "id": "1d959209-4803-4c31-8f22-1fda809ca1d0",
      "metadata": {
        "id": "1d959209-4803-4c31-8f22-1fda809ca1d0",
        "colab": {
          "base_uri": "https://localhost:8080/",
          "height": 289
        },
        "outputId": "337d5b84-cb54-4415-a797-885047b24e9c"
      },
      "outputs": [
        {
          "output_type": "stream",
          "name": "stdout",
          "text": [
            "CPU times: user 372 ms, sys: 31.8 ms, total: 404 ms\n",
            "Wall time: 460 ms\n"
          ]
        },
        {
          "output_type": "execute_result",
          "data": {
            "text/plain": [
              "shape: (5, 3)\n",
              "┌─────────────────────┬────────────┬───────────────────┐\n",
              "│ EXP_TYPE            ┆ DATE       ┆ Rainfall (inches) │\n",
              "│ ---                 ┆ ---        ┆ ---               │\n",
              "│ str                 ┆ date       ┆ f64               │\n",
              "╞═════════════════════╪════════════╪═══════════════════╡\n",
              "│ Bills and Utilities ┆ 2010-01-01 ┆ 0.33              │\n",
              "│ Clothing            ┆ 2010-01-01 ┆ 0.33              │\n",
              "│ Education           ┆ 2010-01-01 ┆ 0.33              │\n",
              "│ Entertainment       ┆ 2010-01-01 ┆ 0.33              │\n",
              "│ Fines               ┆ 2010-01-01 ┆ 0.33              │\n",
              "└─────────────────────┴────────────┴───────────────────┘"
            ],
            "text/html": [
              "<div><style>\n",
              ".dataframe > thead > tr,\n",
              ".dataframe > tbody > tr {\n",
              "  text-align: right;\n",
              "  white-space: pre-wrap;\n",
              "}\n",
              "</style>\n",
              "<small>shape: (5, 3)</small><table border=\"1\" class=\"dataframe\"><thead><tr><th>EXP_TYPE</th><th>DATE</th><th>Rainfall (inches)</th></tr><tr><td>str</td><td>date</td><td>f64</td></tr></thead><tbody><tr><td>&quot;Bills and Utilities&quot;</td><td>2010-01-01</td><td>0.33</td></tr><tr><td>&quot;Clothing&quot;</td><td>2010-01-01</td><td>0.33</td></tr><tr><td>&quot;Education&quot;</td><td>2010-01-01</td><td>0.33</td></tr><tr><td>&quot;Entertainment&quot;</td><td>2010-01-01</td><td>0.33</td></tr><tr><td>&quot;Fines&quot;</td><td>2010-01-01</td><td>0.33</td></tr></tbody></table></div>"
            ]
          },
          "metadata": {},
          "execution_count": 30
        }
      ],
      "source": [
        "%%time\n",
        "\n",
        "(\n",
        "    transactions\n",
        "    .join(\n",
        "        other=weather_cleaned.lazy(),\n",
        "        left_on=\"DATE\",\n",
        "        right_on=\"Date\",\n",
        "        how=\"inner\"\n",
        "    )\n",
        "    .group_by([\"EXP_TYPE\", \"DATE\"])\n",
        "    .agg(pl.mean(\"Rainfall (inches)\"))\n",
        "    .sort([\"DATE\", \"EXP_TYPE\", \"Rainfall (inches)\"])\n",
        "    .head()\n",
        "    .collect(engine=gpu_engine)\n",
        ")"
      ]
    },
    {
      "cell_type": "markdown",
      "id": "4a91bde7-5366-4843-9103-1a8067605d97",
      "metadata": {
        "id": "4a91bde7-5366-4843-9103-1a8067605d97"
      },
      "source": [
        "Let's demonstrate some more of the native plotting facilities in Polars by answering the question in more holistic fashion.\n",
        "\n",
        "We'll make a plot of total rainfall and total amount spent per month for each year and each type of expenditure."
      ]
    },
    {
      "cell_type": "code",
      "execution_count": 31,
      "id": "96d4bdd5-1513-4ab9-8706-8efe69697c89",
      "metadata": {
        "id": "96d4bdd5-1513-4ab9-8706-8efe69697c89",
        "colab": {
          "base_uri": "https://localhost:8080/",
          "height": 443
        },
        "outputId": "d908a73a-4f1c-4e2b-a60c-4bef51aebf83"
      },
      "outputs": [
        {
          "output_type": "execute_result",
          "data": {
            "text/plain": [
              "shape: (1_584, 5)\n",
              "┌─────────────────────┬──────┬───────┬───────────────────┬───────────┐\n",
              "│ EXP_TYPE            ┆ YEAR ┆ MONTH ┆ Rainfall (inches) ┆ AMOUNT    │\n",
              "│ ---                 ┆ ---  ┆ ---   ┆ ---               ┆ ---       │\n",
              "│ str                 ┆ i64  ┆ i64   ┆ f64               ┆ f64       │\n",
              "╞═════════════════════╪══════╪═══════╪═══════════════════╪═══════════╡\n",
              "│ Health              ┆ 2010 ┆ 1     ┆ 51.45             ┆ 12852.68  │\n",
              "│ Groceries           ┆ 2010 ┆ 1     ┆ 294.3             ┆ 26341.02  │\n",
              "│ Bills and Utilities ┆ 2010 ┆ 1     ┆ 59.41             ┆ 26307.97  │\n",
              "│ Fines               ┆ 2010 ┆ 1     ┆ 0.91              ┆ 315.2     │\n",
              "│ Education           ┆ 2010 ┆ 1     ┆ 25.67             ┆ 20602.49  │\n",
              "│ …                   ┆ …    ┆ …     ┆ …                 ┆ …         │\n",
              "│ Fines               ┆ 2020 ┆ 12    ┆ 3.43              ┆ 13707.66  │\n",
              "│ Clothing            ┆ 2020 ┆ 12    ┆ 413.24            ┆ 5.5658e6  │\n",
              "│ Motor/Travel        ┆ 2020 ┆ 12    ┆ 1434.55           ┆ 1.5570e7  │\n",
              "│ Groceries           ┆ 2020 ┆ 12    ┆ 2246.48           ┆ 4.2694e6  │\n",
              "│ Savings             ┆ 2020 ┆ 12    ┆ 129.21            ┆ 559804.01 │\n",
              "└─────────────────────┴──────┴───────┴───────────────────┴───────────┘"
            ],
            "text/html": [
              "<div><style>\n",
              ".dataframe > thead > tr,\n",
              ".dataframe > tbody > tr {\n",
              "  text-align: right;\n",
              "  white-space: pre-wrap;\n",
              "}\n",
              "</style>\n",
              "<small>shape: (1_584, 5)</small><table border=\"1\" class=\"dataframe\"><thead><tr><th>EXP_TYPE</th><th>YEAR</th><th>MONTH</th><th>Rainfall (inches)</th><th>AMOUNT</th></tr><tr><td>str</td><td>i64</td><td>i64</td><td>f64</td><td>f64</td></tr></thead><tbody><tr><td>&quot;Health&quot;</td><td>2010</td><td>1</td><td>51.45</td><td>12852.68</td></tr><tr><td>&quot;Groceries&quot;</td><td>2010</td><td>1</td><td>294.3</td><td>26341.02</td></tr><tr><td>&quot;Bills and Utilities&quot;</td><td>2010</td><td>1</td><td>59.41</td><td>26307.97</td></tr><tr><td>&quot;Fines&quot;</td><td>2010</td><td>1</td><td>0.91</td><td>315.2</td></tr><tr><td>&quot;Education&quot;</td><td>2010</td><td>1</td><td>25.67</td><td>20602.49</td></tr><tr><td>&hellip;</td><td>&hellip;</td><td>&hellip;</td><td>&hellip;</td><td>&hellip;</td></tr><tr><td>&quot;Fines&quot;</td><td>2020</td><td>12</td><td>3.43</td><td>13707.66</td></tr><tr><td>&quot;Clothing&quot;</td><td>2020</td><td>12</td><td>413.24</td><td>5.5658e6</td></tr><tr><td>&quot;Motor/Travel&quot;</td><td>2020</td><td>12</td><td>1434.55</td><td>1.5570e7</td></tr><tr><td>&quot;Groceries&quot;</td><td>2020</td><td>12</td><td>2246.48</td><td>4.2694e6</td></tr><tr><td>&quot;Savings&quot;</td><td>2020</td><td>12</td><td>129.21</td><td>559804.01</td></tr></tbody></table></div>"
            ]
          },
          "metadata": {},
          "execution_count": 31
        }
      ],
      "source": [
        "res = (\n",
        "    transactions\n",
        "    .join(\n",
        "        other=weather_cleaned.lazy(),\n",
        "        left_on=\"DATE\",\n",
        "        right_on=\"Date\",\n",
        "        how=\"inner\"\n",
        "    )\n",
        "    .group_by([\"EXP_TYPE\", \"YEAR\", \"MONTH\"])\n",
        "    .agg(pl.sum(\"Rainfall (inches)\"), pl.sum(\"AMOUNT\"))\n",
        "    .sort([\"YEAR\", \"MONTH\"])\n",
        "    .collect(engine=gpu_engine)\n",
        ")\n",
        "\n",
        "res"
      ]
    },
    {
      "cell_type": "code",
      "execution_count": null,
      "id": "af3df206-7379-409d-b0c1-e03b04c09a4c",
      "metadata": {
        "id": "af3df206-7379-409d-b0c1-e03b04c09a4c"
      },
      "outputs": [],
      "source": [
        "(\n",
        "    res\n",
        "    .with_columns(\n",
        "        pl.date(pl.col(\"YEAR\"), pl.col(\"MONTH\"), 1).alias(\"date-month\"),\n",
        "        pl.col(\"Rainfall (inches)\")*100,\n",
        "    )\n",
        "    .plot.line(\n",
        "        x=\"date-month\", y=[\"AMOUNT\", \"Rainfall (inches)\"],\n",
        "        groupby=['EXP_TYPE'],\n",
        "        rot=45,\n",
        "    )\n",
        ")"
      ]
    },
    {
      "cell_type": "markdown",
      "id": "1bf4c85a-c0d6-449a-afc0-9ddfa972a6f8",
      "metadata": {
        "id": "1bf4c85a-c0d6-449a-afc0-9ddfa972a6f8"
      },
      "source": [
        "We intially constructed the GPU engine with `raise_on_fail=True` to demonstrate the breadth of GPU support. Now, we'll demonstrate how a not yet GPU supported feature is handled gracefully when we set `raise_on_fail=False` (the default behavior for `engine=\"gpu\"`).\n",
        "\n",
        "When we use `rolling_mean`, our query smoothly falls back to the CPU to continue running rather than failing."
      ]
    },
    {
      "cell_type": "code",
      "execution_count": 33,
      "id": "d981aadf-240e-4b42-bd07-923b36c2f74a",
      "metadata": {
        "id": "d981aadf-240e-4b42-bd07-923b36c2f74a"
      },
      "outputs": [],
      "source": [
        "engine_with_fallback = pl.GPUEngine(\n",
        "    device=0, # This is the default\n",
        "    raise_on_fail=False, # Fallback to CPU if we can't run on the GPU (this is the default)\n",
        ")"
      ]
    },
    {
      "cell_type": "code",
      "execution_count": 34,
      "id": "242bd5cc-9aa3-4e9a-8095-c7c46cea5075",
      "metadata": {
        "id": "242bd5cc-9aa3-4e9a-8095-c7c46cea5075",
        "colab": {
          "base_uri": "https://localhost:8080/",
          "height": 289
        },
        "outputId": "93f2d181-a6e4-462e-9353-c3dc6cdd4938"
      },
      "outputs": [
        {
          "output_type": "stream",
          "name": "stdout",
          "text": [
            "CPU times: user 7.08 s, sys: 3.35 s, total: 10.4 s\n",
            "Wall time: 8.16 s\n"
          ]
        },
        {
          "output_type": "execute_result",
          "data": {
            "text/plain": [
              "shape: (5, 11)\n",
              "┌────────────┬────────────┬──────────┬──────────────┬───┬─────┬─────────────┬────────┬─────────────┐\n",
              "│ CUST_ID    ┆ START_DATE ┆ END_DATE ┆ TRANS_ID     ┆ … ┆ DAY ┆ EXP_TYPE    ┆ AMOUNT ┆ rolling_avg │\n",
              "│ ---        ┆ ---        ┆ ---      ┆ ---          ┆   ┆ --- ┆ ---         ┆ ---    ┆ ---         │\n",
              "│ str        ┆ date       ┆ date     ┆ str          ┆   ┆ i64 ┆ str         ┆ f64    ┆ f64         │\n",
              "╞════════════╪════════════╪══════════╪══════════════╪═══╪═════╪═════════════╪════════╪═════════════╡\n",
              "│ CI6XLYUMQK ┆ 2015-05-01 ┆ null     ┆ T8I9ZB5A6X90 ┆ … ┆ 11  ┆ Motor/Trave ┆ 20.27  ┆ null        │\n",
              "│            ┆            ┆          ┆ UG8          ┆   ┆     ┆ l           ┆        ┆             │\n",
              "│ CI6XLYUMQK ┆ 2015-05-01 ┆ null     ┆ TZ4JSLS7SC7F ┆ … ┆ 8   ┆ Motor/Trave ┆ 12.85  ┆ null        │\n",
              "│            ┆            ┆          ┆ O9H          ┆   ┆     ┆ l           ┆        ┆             │\n",
              "│ CI6XLYUMQK ┆ 2015-05-01 ┆ null     ┆ TTUKRDDJ6B6F ┆ … ┆ 1   ┆ Housing     ┆ 383.8  ┆ null        │\n",
              "│            ┆            ┆          ┆ 42H          ┆   ┆     ┆             ┆        ┆             │\n",
              "│ CI6XLYUMQK ┆ 2015-05-01 ┆ null     ┆ TDUHFRUKGPPI ┆ … ┆ 16  ┆ Entertainme ┆ 5.72   ┆ null        │\n",
              "│            ┆            ┆          ┆ 6HD          ┆   ┆     ┆ nt          ┆        ┆             │\n",
              "│ CI6XLYUMQK ┆ 2015-05-01 ┆ null     ┆ T0JBZHBMSVRF ┆ … ┆ 15  ┆ Entertainme ┆ 11.06  ┆ null        │\n",
              "│            ┆            ┆          ┆ MMD          ┆   ┆     ┆ nt          ┆        ┆             │\n",
              "└────────────┴────────────┴──────────┴──────────────┴───┴─────┴─────────────┴────────┴─────────────┘"
            ],
            "text/html": [
              "<div><style>\n",
              ".dataframe > thead > tr,\n",
              ".dataframe > tbody > tr {\n",
              "  text-align: right;\n",
              "  white-space: pre-wrap;\n",
              "}\n",
              "</style>\n",
              "<small>shape: (5, 11)</small><table border=\"1\" class=\"dataframe\"><thead><tr><th>CUST_ID</th><th>START_DATE</th><th>END_DATE</th><th>TRANS_ID</th><th>DATE</th><th>YEAR</th><th>MONTH</th><th>DAY</th><th>EXP_TYPE</th><th>AMOUNT</th><th>rolling_avg</th></tr><tr><td>str</td><td>date</td><td>date</td><td>str</td><td>date</td><td>i64</td><td>i64</td><td>i64</td><td>str</td><td>f64</td><td>f64</td></tr></thead><tbody><tr><td>&quot;CI6XLYUMQK&quot;</td><td>2015-05-01</td><td>null</td><td>&quot;T8I9ZB5A6X90UG8&quot;</td><td>2015-09-11</td><td>2015</td><td>9</td><td>11</td><td>&quot;Motor/Travel&quot;</td><td>20.27</td><td>null</td></tr><tr><td>&quot;CI6XLYUMQK&quot;</td><td>2015-05-01</td><td>null</td><td>&quot;TZ4JSLS7SC7FO9H&quot;</td><td>2017-02-08</td><td>2017</td><td>2</td><td>8</td><td>&quot;Motor/Travel&quot;</td><td>12.85</td><td>null</td></tr><tr><td>&quot;CI6XLYUMQK&quot;</td><td>2015-05-01</td><td>null</td><td>&quot;TTUKRDDJ6B6F42H&quot;</td><td>2015-08-01</td><td>2015</td><td>8</td><td>1</td><td>&quot;Housing&quot;</td><td>383.8</td><td>null</td></tr><tr><td>&quot;CI6XLYUMQK&quot;</td><td>2015-05-01</td><td>null</td><td>&quot;TDUHFRUKGPPI6HD&quot;</td><td>2019-03-16</td><td>2019</td><td>3</td><td>16</td><td>&quot;Entertainment&quot;</td><td>5.72</td><td>null</td></tr><tr><td>&quot;CI6XLYUMQK&quot;</td><td>2015-05-01</td><td>null</td><td>&quot;T0JBZHBMSVRFMMD&quot;</td><td>2015-05-15</td><td>2015</td><td>5</td><td>15</td><td>&quot;Entertainment&quot;</td><td>11.06</td><td>null</td></tr></tbody></table></div>"
            ]
          },
          "metadata": {},
          "execution_count": 34
        }
      ],
      "source": [
        "%%time\n",
        "\n",
        "result = transactions.with_columns(\n",
        "    pl.col('AMOUNT').rolling_mean(\n",
        "        window_size=7\n",
        "    )\n",
        "     .alias('rolling_avg')\n",
        ").collect(engine=engine_with_fallback)\n",
        "\n",
        "result.head()"
      ]
    },
    {
      "cell_type": "markdown",
      "id": "0f1117ca-8667-49d7-a97e-1e01d9b2aa4b",
      "metadata": {
        "id": "0f1117ca-8667-49d7-a97e-1e01d9b2aa4b"
      },
      "source": [
        "# Conclusion\n",
        "\n",
        "With the new Polars GPU engine powered by cuDF, you can potentially get significant performance gains and lower costs for workflows processing 10-100+ GB of data.\n",
        "\n",
        "To learn more, we encourage you to visit the Polars GPU Support documentation or visit rapids.ai/cudf-polars."
      ]
    },
    {
      "cell_type": "code",
      "source": [],
      "metadata": {
        "id": "5oxdKkfnnFq9"
      },
      "id": "5oxdKkfnnFq9",
      "execution_count": 34,
      "outputs": []
    }
  ],
  "metadata": {
    "accelerator": "GPU",
    "colab": {
      "gpuType": "T4",
      "provenance": [],
      "include_colab_link": true
    },
    "kernelspec": {
      "display_name": "Python 3 (ipykernel)",
      "language": "python",
      "name": "python3"
    },
    "language_info": {
      "codemirror_mode": {
        "name": "ipython",
        "version": 3
      },
      "file_extension": ".py",
      "mimetype": "text/x-python",
      "name": "python",
      "nbconvert_exporter": "python",
      "pygments_lexer": "ipython3",
      "version": "3.11.9"
    }
  },
  "nbformat": 4,
  "nbformat_minor": 5
}